{
 "cells": [
  {
   "cell_type": "code",
   "execution_count": 1,
   "id": "458eef6b",
   "metadata": {},
   "outputs": [],
   "source": [
    "from sympy import symbols, diag, eye\n",
    "import numpy as np\n",
    "\n",
    "from sympy.physics.quantum.dagger import Dagger\n",
    "\n",
    "from sympy.matrices.dense import Matrix\n"
   ]
  },
  {
   "cell_type": "code",
   "execution_count": 2,
   "id": "29b9d164",
   "metadata": {},
   "outputs": [],
   "source": [
    "def cnot():\n",
    "    return Matrix([[1, 0, 0, 0],\n",
    "                   [0, 1, 0, 0],\n",
    "                   [0, 0, 0, 1],\n",
    "                   [0, 0, 1, 0]])"
   ]
  },
  {
   "cell_type": "code",
   "execution_count": 3,
   "id": "46cfc1bb",
   "metadata": {},
   "outputs": [],
   "source": [
    "def P1():\n",
    "    return Matrix([[1, 0, 0, 0],\n",
    "                   [0, 0, 1, 0],\n",
    "                   [0, 0, 0, 1],\n",
    "                   [0, 1, 0, 0]])"
   ]
  },
  {
   "cell_type": "code",
   "execution_count": 4,
   "id": "f5a47037",
   "metadata": {},
   "outputs": [
    {
     "data": {
      "text/latex": [
       "$\\displaystyle \\left[\\begin{matrix}1 & 0 & 0 & 0\\\\0 & 0 & 1 & 0\\\\0 & 0 & 0 & 1\\\\0 & 1 & 0 & 0\\end{matrix}\\right]$"
      ],
      "text/plain": [
       "Matrix([\n",
       "[1, 0, 0, 0],\n",
       "[0, 0, 1, 0],\n",
       "[0, 0, 0, 1],\n",
       "[0, 1, 0, 0]])"
      ]
     },
     "execution_count": 4,
     "metadata": {},
     "output_type": "execute_result"
    }
   ],
   "source": [
    "P1()"
   ]
  },
  {
   "cell_type": "code",
   "execution_count": 5,
   "id": "ce455880",
   "metadata": {},
   "outputs": [],
   "source": [
    "def P2():\n",
    "    return Dagger(P1())"
   ]
  },
  {
   "cell_type": "code",
   "execution_count": 6,
   "id": "f686550b",
   "metadata": {},
   "outputs": [
    {
     "data": {
      "text/latex": [
       "$\\displaystyle \\left[\\begin{matrix}1 & 0 & 0 & 0\\\\0 & 0 & 0 & 1\\\\0 & 1 & 0 & 0\\\\0 & 0 & 1 & 0\\end{matrix}\\right]$"
      ],
      "text/plain": [
       "Matrix([\n",
       "[1, 0, 0, 0],\n",
       "[0, 0, 0, 1],\n",
       "[0, 1, 0, 0],\n",
       "[0, 0, 1, 0]])"
      ]
     },
     "execution_count": 6,
     "metadata": {},
     "output_type": "execute_result"
    }
   ],
   "source": [
    "P2()"
   ]
  },
  {
   "cell_type": "code",
   "execution_count": 7,
   "id": "5f3a61ce",
   "metadata": {},
   "outputs": [],
   "source": [
    "a,b, c, d = symbols(\"a, b, c, d\", real=True)\n",
    "def rho_thermal():\n",
    "    return diag(a, b, c, d)"
   ]
  },
  {
   "cell_type": "code",
   "execution_count": 8,
   "id": "972267d1",
   "metadata": {},
   "outputs": [],
   "source": [
    "def h_peaks(rho, op):\n",
    "    rho_new = op*rho_thermal()*Dagger(op)\n",
    "    diagonal = [x[0] for x in rho_new.get_diag_blocks()]\n",
    "    (p,q,r,s) = diagonal\n",
    "    peak0 = (p-r).subs(a, 1).subs(b,0.6).subs(c, -0.6).subs(d, -1)\n",
    "    peak1 = (q-s).subs(a, 1).subs(b,0.6).subs(c, -0.6).subs(d, -1)\n",
    "    return (p-r, q-s, round(peak0,1), round(peak1, 1))\n",
    "    return (a-c, b-d)"
   ]
  },
  {
   "cell_type": "code",
   "execution_count": 9,
   "id": "9efeafbe",
   "metadata": {},
   "outputs": [],
   "source": [
    "def c_peaks(rho, op):\n",
    "    rho_new = op*rho_thermal()*Dagger(op)\n",
    "    diagonal = [x[0] for x in rho_new.get_diag_blocks()]\n",
    "    (p, q, r, s) = diagonal\n",
    "    peak0 = (p-q).subs(a, 1).subs(b,0.6).subs(c, -0.6).subs(d, -1)\n",
    "    peak1 = (r-s).subs(a, 1).subs(b,0.6).subs(c, -0.6).subs(d, -1)\n",
    "    return (p-q, r-s, round(peak0,1), round(peak1, 1))"
   ]
  },
  {
   "cell_type": "code",
   "execution_count": 10,
   "id": "b5c62299",
   "metadata": {},
   "outputs": [
    {
     "data": {
      "text/plain": [
       "(a - c, b - d, 1.6, 1.6)"
      ]
     },
     "execution_count": 10,
     "metadata": {},
     "output_type": "execute_result"
    }
   ],
   "source": [
    "h_peaks(rho_thermal(), eye(4))"
   ]
  },
  {
   "cell_type": "code",
   "execution_count": 11,
   "id": "0b57ff31",
   "metadata": {},
   "outputs": [
    {
     "data": {
      "text/plain": [
       "(a - d, -b + c, 2, -1.2)"
      ]
     },
     "execution_count": 11,
     "metadata": {},
     "output_type": "execute_result"
    }
   ],
   "source": [
    "h_peaks(rho_thermal(), P1())"
   ]
  },
  {
   "cell_type": "code",
   "execution_count": 12,
   "id": "57054018",
   "metadata": {},
   "outputs": [
    {
     "data": {
      "text/plain": [
       "(a - b, -c + d, 0.4, -0.4)"
      ]
     },
     "execution_count": 12,
     "metadata": {},
     "output_type": "execute_result"
    }
   ],
   "source": [
    "h_peaks(rho_thermal(), P2())"
   ]
  },
  {
   "cell_type": "code",
   "execution_count": 19,
   "id": "64746ec6",
   "metadata": {},
   "outputs": [
    {
     "data": {
      "text/plain": [
       "[{a: 1.00000000000000,\n",
       "  b: 0.600000000000000,\n",
       "  c: -0.600000000000000,\n",
       "  d: -1.00000000000000}]"
      ]
     },
     "execution_count": 19,
     "metadata": {},
     "output_type": "execute_result"
    }
   ],
   "source": [
    "from sympy import solve, symbols\n",
    "a,b, c, d = symbols(\"a, b, c, d\", real=True)\n",
    "solve([a-c-1.6, b-d-1.6, a-d-2, -b+c+1.2, a-b-0.4, -c+d+0.4, a+d, b+c], [a,b,c,d], dict=True)\n",
    "# [{x: 6*z, y: -4*z}]"
   ]
  },
  {
   "cell_type": "code",
   "execution_count": 14,
   "id": "d4e05e91",
   "metadata": {},
   "outputs": [
    {
     "data": {
      "text/plain": [
       "(a - b, c - d, 0.4, 0.4)"
      ]
     },
     "execution_count": 14,
     "metadata": {},
     "output_type": "execute_result"
    }
   ],
   "source": [
    "c_peaks(rho_thermal(), eye(4))"
   ]
  },
  {
   "cell_type": "code",
   "execution_count": 15,
   "id": "17aba5fa",
   "metadata": {},
   "outputs": [
    {
     "data": {
      "text/plain": [
       "(a - c, -b + d, 1.6, -1.6)"
      ]
     },
     "execution_count": 15,
     "metadata": {},
     "output_type": "execute_result"
    }
   ],
   "source": [
    "c_peaks(rho_thermal(), P1())"
   ]
  },
  {
   "cell_type": "code",
   "execution_count": 16,
   "id": "c7c2182b",
   "metadata": {},
   "outputs": [
    {
     "data": {
      "text/plain": [
       "(a - d, b - c, 2, 1.2)"
      ]
     },
     "execution_count": 16,
     "metadata": {},
     "output_type": "execute_result"
    }
   ],
   "source": [
    "c_peaks(rho_thermal(), P2())"
   ]
  },
  {
   "cell_type": "code",
   "execution_count": 17,
   "id": "ed2f9e6a",
   "metadata": {},
   "outputs": [
    {
     "data": {
      "text/plain": [
       "[a, b, c, d]"
      ]
     },
     "execution_count": 17,
     "metadata": {},
     "output_type": "execute_result"
    }
   ],
   "source": [
    "diag = [x[0] for x in rho_thermal().get_diag_blocks()]\n",
    "diag"
   ]
  },
  {
   "cell_type": "code",
   "execution_count": 18,
   "id": "6bf35843",
   "metadata": {},
   "outputs": [
    {
     "ename": "TypeError",
     "evalue": "'list' object is not callable",
     "output_type": "error",
     "traceback": [
      "\u001b[1;31m---------------------------------------------------------------------------\u001b[0m",
      "\u001b[1;31mTypeError\u001b[0m                                 Traceback (most recent call last)",
      "Cell \u001b[1;32mIn[18], line 1\u001b[0m\n\u001b[1;32m----> 1\u001b[0m P1()\u001b[38;5;241m*\u001b[39mrho_thermal()\u001b[38;5;241m*\u001b[39mDagger(P1())\n",
      "Cell \u001b[1;32mIn[7], line 3\u001b[0m, in \u001b[0;36mrho_thermal\u001b[1;34m()\u001b[0m\n\u001b[0;32m      2\u001b[0m \u001b[38;5;28;01mdef\u001b[39;00m \u001b[38;5;21mrho_thermal\u001b[39m():\n\u001b[1;32m----> 3\u001b[0m     \u001b[38;5;28;01mreturn\u001b[39;00m diag(a, b, c, d)\n",
      "\u001b[1;31mTypeError\u001b[0m: 'list' object is not callable"
     ]
    }
   ],
   "source": [
    "P1()*rho_thermal()*Dagger(P1())"
   ]
  },
  {
   "cell_type": "code",
   "execution_count": null,
   "id": "c51b80d7",
   "metadata": {},
   "outputs": [],
   "source": []
  }
 ],
 "metadata": {
  "kernelspec": {
   "display_name": "Python 3 (ipykernel)",
   "language": "python",
   "name": "python3"
  },
  "language_info": {
   "codemirror_mode": {
    "name": "ipython",
    "version": 3
   },
   "file_extension": ".py",
   "mimetype": "text/x-python",
   "name": "python",
   "nbconvert_exporter": "python",
   "pygments_lexer": "ipython3",
   "version": "3.11.5"
  }
 },
 "nbformat": 4,
 "nbformat_minor": 5
}
