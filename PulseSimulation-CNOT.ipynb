{
 "cells": [
  {
   "cell_type": "code",
   "execution_count": 1,
   "metadata": {},
   "outputs": [],
   "source": [
    "import numpy as np\n",
    "import qutip as qt\n",
    "import qutip.qip.operations as op\n",
    "from scipy.linalg import expm\n",
    "\n",
    "from PulseSequence import PulseSequence\n",
    "from Pulse import Pulse\n",
    "# from Operator import Operator\n",
    "# from DensityMatrix import DensityMatrix"
   ]
  },
  {
   "cell_type": "markdown",
   "metadata": {},
   "source": [
    "### Thermal density matrix"
   ]
  },
  {
   "cell_type": "code",
   "execution_count": 2,
   "metadata": {},
   "outputs": [
    {
     "data": {
      "text/latex": [
       "Quantum object: dims = [[2, 2], [2, 2]], shape = (4, 4), type = oper, isherm = True $ \\\\ \\left(\\begin{matrix}1.0 & 0.0 & 0.0 & 0.0\\\\0.0 & 0.600 & 0.0 & 0.0\\\\0.0 & 0.0 & -0.600 & 0.0\\\\0.0 & 0.0 & 0.0 & -1.0\\\\\\end{matrix}\\right)$"
      ],
      "text/plain": [
       "Quantum object: dims = [[2, 2], [2, 2]], shape = (4, 4), type = oper, isherm = True\n",
       "Qobj data =\n",
       "[[ 1.   0.   0.   0. ]\n",
       " [ 0.   0.6  0.   0. ]\n",
       " [ 0.   0.  -0.6  0. ]\n",
       " [ 0.   0.   0.  -1. ]]"
      ]
     },
     "execution_count": 2,
     "metadata": {},
     "output_type": "execute_result"
    }
   ],
   "source": [
    "pho_th = qt.Qobj(np.diag([1, 0.6, -0.6, -1]), dims=([[2, 2], [2, 2]]))\n",
    "pho_th"
   ]
  },
  {
   "cell_type": "markdown",
   "metadata": {},
   "source": [
    "# OPERATORS"
   ]
  },
  {
   "cell_type": "code",
   "execution_count": 3,
   "metadata": {},
   "outputs": [],
   "source": [
    "x = qt.sigmax()*0.5\n",
    "y = qt.sigmay()*0.5\n",
    "z = qt.sigmaz()*0.5\n",
    "I = qt.qeye(2)"
   ]
  },
  {
   "cell_type": "code",
   "execution_count": 4,
   "metadata": {},
   "outputs": [],
   "source": [
    "Ix = qt.tensor(x, I)\n",
    "Iy = qt.tensor(y, I)\n",
    "Iz = qt.tensor(z, I)"
   ]
  },
  {
   "cell_type": "code",
   "execution_count": 5,
   "metadata": {},
   "outputs": [],
   "source": [
    "Sx = qt.tensor(I, x)\n",
    "Sy = qt.tensor(I, y)\n",
    "Sz = qt.tensor(I, z)"
   ]
  },
  {
   "cell_type": "code",
   "execution_count": 6,
   "metadata": {},
   "outputs": [],
   "source": [
    "J = 215\n",
    "tJ = 1/(2*J)\n",
    "IzSz = qt.tensor(z, z)"
   ]
  },
  {
   "cell_type": "code",
   "execution_count": 7,
   "metadata": {},
   "outputs": [
    {
     "data": {
      "text/latex": [
       "Quantum object: dims = [[2, 2], [2, 2]], shape = (4, 4), type = oper, isherm = False $ \\\\ \\left(\\begin{matrix}(0.707-0.707j) & 0.0 & 0.0 & 0.0\\\\0.0 & (0.707+0.707j) & 0.0 & 0.0\\\\0.0 & 0.0 & (0.707+0.707j) & 0.0\\\\0.0 & 0.0 & 0.0 & (0.707-0.707j)\\\\\\end{matrix}\\right)$"
      ],
      "text/plain": [
       "Quantum object: dims = [[2, 2], [2, 2]], shape = (4, 4), type = oper, isherm = False\n",
       "Qobj data =\n",
       "[[0.70710678-0.70710678j 0.        +0.j         0.        +0.j\n",
       "  0.        +0.j        ]\n",
       " [0.        +0.j         0.70710678+0.70710678j 0.        +0.j\n",
       "  0.        +0.j        ]\n",
       " [0.        +0.j         0.        +0.j         0.70710678+0.70710678j\n",
       "  0.        +0.j        ]\n",
       " [0.        +0.j         0.        +0.j         0.        +0.j\n",
       "  0.70710678-0.70710678j]]"
      ]
     },
     "execution_count": 7,
     "metadata": {},
     "output_type": "execute_result"
    }
   ],
   "source": [
    "Pulse(\"+2IzSz\", IzSz, (2*np.pi*J)*(tJ) ).apply()"
   ]
  },
  {
   "cell_type": "code",
   "execution_count": 8,
   "metadata": {},
   "outputs": [
    {
     "data": {
      "text/latex": [
       "Quantum object: dims = [[2, 2], [2, 2]], shape = (4, 4), type = oper, isherm = False $ \\\\ \\left(\\begin{matrix}(-0.707-0.707j) & 0.0 & 0.0 & 0.0\\\\0.0 & (-0.707+0.707j) & 0.0 & 0.0\\\\0.0 & 0.0 & (-0.707+0.707j) & 0.0\\\\0.0 & 0.0 & 0.0 & (-0.707-0.707j)\\\\\\end{matrix}\\right)$"
      ],
      "text/plain": [
       "Quantum object: dims = [[2, 2], [2, 2]], shape = (4, 4), type = oper, isherm = False\n",
       "Qobj data =\n",
       "[[-0.70710678-0.70710678j  0.        +0.j          0.        +0.j\n",
       "   0.        +0.j        ]\n",
       " [ 0.        +0.j         -0.70710678+0.70710678j  0.        +0.j\n",
       "   0.        +0.j        ]\n",
       " [ 0.        +0.j          0.        +0.j         -0.70710678+0.70710678j\n",
       "   0.        +0.j        ]\n",
       " [ 0.        +0.j          0.        +0.j          0.        +0.j\n",
       "  -0.70710678-0.70710678j]]"
      ]
     },
     "execution_count": 8,
     "metadata": {},
     "output_type": "execute_result"
    }
   ],
   "source": [
    "# Delay for negative J coupling = 3*tJ; accurate upto global phase\n",
    "Pulse(\"-2IzSz\", IzSz, (2*np.pi*J)*(3*tJ) ).apply()"
   ]
  },
  {
   "cell_type": "code",
   "execution_count": 9,
   "metadata": {},
   "outputs": [],
   "source": [
    "# IxSx = qt.tensor(x, x)\n",
    "# IySy = qt.tensor(y, y)\n",
    "\n",
    "# IxSy =  qt.tensor(x, y)\n",
    "# IxSz =  qt.tensor(x, z)\n",
    "\n",
    "# IySx =  qt.tensor(y, x)\n",
    "# IySz =  qt.tensor(y, z)\n",
    "\n",
    "# IzSx = qt.tensor(z, x)\n",
    "# IzSy = qt.tensor(z, y)"
   ]
  },
  {
   "cell_type": "markdown",
   "metadata": {},
   "source": [
    "We cant implement an $I_z/S_z$ pulse directly.  \n",
    "Use $ R_z(\\theta) = R_x(-\\pi/2).R_y(\\theta).R_x(\\pi/2)$ "
   ]
  },
  {
   "cell_type": "code",
   "execution_count": 10,
   "metadata": {},
   "outputs": [],
   "source": [
    "def Iz_pulse(theta):\n",
    "    return PulseSequence(\"Iz(theta)\")\\\n",
    "        .add(Pulse(\"Ix(-pi/2)\", Ix, -np.pi/2))\\\n",
    "        .add(Pulse(f\"Iy({theta/np.pi}*pi)\", Iy, theta))\\\n",
    "        .add(Pulse(\"Ix(pi/2)\", Ix, np.pi/2))"
   ]
  },
  {
   "cell_type": "code",
   "execution_count": 11,
   "metadata": {},
   "outputs": [
    {
     "data": {
      "text/latex": [
       "Quantum object: dims = [[2, 2], [2, 2]], shape = (4, 4), type = oper, isherm = False $ \\\\ \\left(\\begin{matrix}(0.707-0.707j) & 0.0 & 0.0 & 0.0\\\\0.0 & (0.707-0.707j) & 0.0 & 0.0\\\\0.0 & 0.0 & (0.707+0.707j) & 0.0\\\\0.0 & 0.0 & 0.0 & (0.707+0.707j)\\\\\\end{matrix}\\right)$"
      ],
      "text/plain": [
       "Quantum object: dims = [[2, 2], [2, 2]], shape = (4, 4), type = oper, isherm = False\n",
       "Qobj data =\n",
       "[[0.70710678-0.70710678j 0.        +0.j         0.        +0.j\n",
       "  0.        +0.j        ]\n",
       " [0.        +0.j         0.70710678-0.70710678j 0.        +0.j\n",
       "  0.        +0.j        ]\n",
       " [0.        +0.j         0.        +0.j         0.70710678+0.70710678j\n",
       "  0.        +0.j        ]\n",
       " [0.        +0.j         0.        +0.j         0.        +0.j\n",
       "  0.70710678+0.70710678j]]"
      ]
     },
     "execution_count": 11,
     "metadata": {},
     "output_type": "execute_result"
    }
   ],
   "source": [
    "Iz_pulse(np.pi/2).compile().get_operator()"
   ]
  },
  {
   "cell_type": "code",
   "execution_count": 12,
   "metadata": {},
   "outputs": [
    {
     "data": {
      "text/latex": [
       "Quantum object: dims = [[2, 2], [2, 2]], shape = (4, 4), type = oper, isherm = False $ \\\\ \\left(\\begin{matrix}(0.707-0.707j) & 0.0 & 0.0 & 0.0\\\\0.0 & (0.707-0.707j) & 0.0 & 0.0\\\\0.0 & 0.0 & (0.707+0.707j) & 0.0\\\\0.0 & 0.0 & 0.0 & (0.707+0.707j)\\\\\\end{matrix}\\right)$"
      ],
      "text/plain": [
       "Quantum object: dims = [[2, 2], [2, 2]], shape = (4, 4), type = oper, isherm = False\n",
       "Qobj data =\n",
       "[[0.70710678-0.70710678j 0.        +0.j         0.        +0.j\n",
       "  0.        +0.j        ]\n",
       " [0.        +0.j         0.70710678-0.70710678j 0.        +0.j\n",
       "  0.        +0.j        ]\n",
       " [0.        +0.j         0.        +0.j         0.70710678+0.70710678j\n",
       "  0.        +0.j        ]\n",
       " [0.        +0.j         0.        +0.j         0.        +0.j\n",
       "  0.70710678+0.70710678j]]"
      ]
     },
     "execution_count": 12,
     "metadata": {},
     "output_type": "execute_result"
    }
   ],
   "source": [
    "(-1j*np.pi/2*Iz).expm()"
   ]
  },
  {
   "cell_type": "markdown",
   "metadata": {},
   "source": [
    "Verified that $R_x(-\\pi/2).R_y(\\pi/2).R_x(\\pi/2) = R_z(\\pi/2)$ "
   ]
  },
  {
   "cell_type": "code",
   "execution_count": 13,
   "metadata": {},
   "outputs": [
    {
     "data": {
      "text/latex": [
       "Quantum object: dims = [[2, 2], [2, 2]], shape = (4, 4), type = oper, isherm = False $ \\\\ \\left(\\begin{matrix}(0.707+0.707j) & 0.0 & 0.0 & 0.0\\\\0.0 & (0.707+0.707j) & 0.0 & 0.0\\\\0.0 & 0.0 & (0.707-0.707j) & 0.0\\\\0.0 & 0.0 & 0.0 & (0.707-0.707j)\\\\\\end{matrix}\\right)$"
      ],
      "text/plain": [
       "Quantum object: dims = [[2, 2], [2, 2]], shape = (4, 4), type = oper, isherm = False\n",
       "Qobj data =\n",
       "[[0.70710678+0.70710678j 0.        +0.j         0.        +0.j\n",
       "  0.        +0.j        ]\n",
       " [0.        +0.j         0.70710678+0.70710678j 0.        +0.j\n",
       "  0.        +0.j        ]\n",
       " [0.        +0.j         0.        +0.j         0.70710678-0.70710678j\n",
       "  0.        +0.j        ]\n",
       " [0.        +0.j         0.        +0.j         0.        +0.j\n",
       "  0.70710678-0.70710678j]]"
      ]
     },
     "execution_count": 13,
     "metadata": {},
     "output_type": "execute_result"
    }
   ],
   "source": [
    "Iz_pulse(-np.pi/2).compile().get_operator()"
   ]
  },
  {
   "cell_type": "code",
   "execution_count": 14,
   "metadata": {},
   "outputs": [
    {
     "data": {
      "text/latex": [
       "Quantum object: dims = [[2, 2], [2, 2]], shape = (4, 4), type = oper, isherm = False $ \\\\ \\left(\\begin{matrix}(0.707+0.707j) & 0.0 & 0.0 & 0.0\\\\0.0 & (0.707+0.707j) & 0.0 & 0.0\\\\0.0 & 0.0 & (0.707-0.707j) & 0.0\\\\0.0 & 0.0 & 0.0 & (0.707-0.707j)\\\\\\end{matrix}\\right)$"
      ],
      "text/plain": [
       "Quantum object: dims = [[2, 2], [2, 2]], shape = (4, 4), type = oper, isherm = False\n",
       "Qobj data =\n",
       "[[0.70710678+0.70710678j 0.        +0.j         0.        +0.j\n",
       "  0.        +0.j        ]\n",
       " [0.        +0.j         0.70710678+0.70710678j 0.        +0.j\n",
       "  0.        +0.j        ]\n",
       " [0.        +0.j         0.        +0.j         0.70710678-0.70710678j\n",
       "  0.        +0.j        ]\n",
       " [0.        +0.j         0.        +0.j         0.        +0.j\n",
       "  0.70710678-0.70710678j]]"
      ]
     },
     "execution_count": 14,
     "metadata": {},
     "output_type": "execute_result"
    }
   ],
   "source": [
    "(+1j*np.pi/2*Iz).expm()"
   ]
  },
  {
   "cell_type": "markdown",
   "metadata": {},
   "source": [
    "Verified that $R_x(-\\pi/2).R_y(-\\pi/2).R_x(\\pi/2) = R_z(-\\pi/2)$ "
   ]
  },
  {
   "cell_type": "code",
   "execution_count": 15,
   "metadata": {},
   "outputs": [],
   "source": [
    "def Sz_pulse(theta):\n",
    "    return PulseSequence(\"Sz(theta)\")\\\n",
    "        .add(Pulse(\"Sx(-pi/2)\", Sx, -np.pi/2))\\\n",
    "        .add(Pulse(f\"Sy({theta/np.pi}*pi)\", Sy, theta))\\\n",
    "        .add(Pulse(\"Sx(pi/2)\", Sx, np.pi/2))"
   ]
  },
  {
   "cell_type": "code",
   "execution_count": 16,
   "metadata": {},
   "outputs": [
    {
     "data": {
      "text/latex": [
       "Quantum object: dims = [[2, 2], [2, 2]], shape = (4, 4), type = oper, isherm = False $ \\\\ \\left(\\begin{matrix}(0.707-0.707j) & 0.0 & 0.0 & 0.0\\\\0.0 & (0.707+0.707j) & 0.0 & 0.0\\\\0.0 & 0.0 & (0.707-0.707j) & 0.0\\\\0.0 & 0.0 & 0.0 & (0.707+0.707j)\\\\\\end{matrix}\\right)$"
      ],
      "text/plain": [
       "Quantum object: dims = [[2, 2], [2, 2]], shape = (4, 4), type = oper, isherm = False\n",
       "Qobj data =\n",
       "[[0.70710678-0.70710678j 0.        +0.j         0.        +0.j\n",
       "  0.        +0.j        ]\n",
       " [0.        +0.j         0.70710678+0.70710678j 0.        +0.j\n",
       "  0.        +0.j        ]\n",
       " [0.        +0.j         0.        +0.j         0.70710678-0.70710678j\n",
       "  0.        +0.j        ]\n",
       " [0.        +0.j         0.        +0.j         0.        +0.j\n",
       "  0.70710678+0.70710678j]]"
      ]
     },
     "execution_count": 16,
     "metadata": {},
     "output_type": "execute_result"
    }
   ],
   "source": [
    "Sz_pulse(np.pi/2).compile().get_operator()"
   ]
  },
  {
   "cell_type": "code",
   "execution_count": 17,
   "metadata": {},
   "outputs": [
    {
     "name": "stdout",
     "output_type": "stream",
     "text": [
      "Sz(theta) Pulse Sequence: Sx(-pi/2) -> Sy(0.5*pi) -> Sx(pi/2)"
     ]
    }
   ],
   "source": [
    "Sz_pulse(np.pi/2).print_sequence()"
   ]
  },
  {
   "cell_type": "code",
   "execution_count": 18,
   "metadata": {},
   "outputs": [
    {
     "data": {
      "text/latex": [
       "Quantum object: dims = [[2, 2], [2, 2]], shape = (4, 4), type = oper, isherm = False $ \\\\ \\left(\\begin{matrix}(0.707+0.707j) & 0.0 & 0.0 & 0.0\\\\0.0 & (0.707-0.707j) & 0.0 & 0.0\\\\0.0 & 0.0 & (0.707+0.707j) & 0.0\\\\0.0 & 0.0 & 0.0 & (0.707-0.707j)\\\\\\end{matrix}\\right)$"
      ],
      "text/plain": [
       "Quantum object: dims = [[2, 2], [2, 2]], shape = (4, 4), type = oper, isherm = False\n",
       "Qobj data =\n",
       "[[0.70710678+0.70710678j 0.        +0.j         0.        +0.j\n",
       "  0.        +0.j        ]\n",
       " [0.        +0.j         0.70710678-0.70710678j 0.        +0.j\n",
       "  0.        +0.j        ]\n",
       " [0.        +0.j         0.        +0.j         0.70710678+0.70710678j\n",
       "  0.        +0.j        ]\n",
       " [0.        +0.j         0.        +0.j         0.        +0.j\n",
       "  0.70710678-0.70710678j]]"
      ]
     },
     "execution_count": 18,
     "metadata": {},
     "output_type": "execute_result"
    }
   ],
   "source": [
    "Sz_pulse(-np.pi/2).compile().get_operator()"
   ]
  },
  {
   "cell_type": "code",
   "execution_count": 19,
   "metadata": {},
   "outputs": [
    {
     "name": "stdout",
     "output_type": "stream",
     "text": [
      "Sz(theta) Pulse Sequence: Sx(-pi/2) -> Sy(-0.5*pi) -> Sx(pi/2)"
     ]
    }
   ],
   "source": [
    "Sz_pulse(-np.pi/2).print_sequence()\n"
   ]
  },
  {
   "cell_type": "markdown",
   "metadata": {},
   "source": [
    "# Q1: GATES"
   ]
  },
  {
   "cell_type": "markdown",
   "metadata": {},
   "source": [
    "### PART A: One qubit X"
   ]
  },
  {
   "cell_type": "code",
   "execution_count": 20,
   "metadata": {},
   "outputs": [
    {
     "data": {
      "text/latex": [
       "Quantum object: dims = [[2, 2], [2, 2]], shape = (4, 4), type = oper, isherm = False $ \\\\ \\left(\\begin{matrix}0.0 & 0.0 & -1.0j & 0.0\\\\0.0 & 0.0 & 0.0 & -1.0j\\\\-1.0j & 0.0 & 0.0 & 0.0\\\\0.0 & -1.0j & 0.0 & 0.0\\\\\\end{matrix}\\right)$"
      ],
      "text/plain": [
       "Quantum object: dims = [[2, 2], [2, 2]], shape = (4, 4), type = oper, isherm = False\n",
       "Qobj data =\n",
       "[[0.+0.j 0.+0.j 0.-1.j 0.+0.j]\n",
       " [0.+0.j 0.+0.j 0.+0.j 0.-1.j]\n",
       " [0.-1.j 0.+0.j 0.+0.j 0.+0.j]\n",
       " [0.+0.j 0.-1.j 0.+0.j 0.+0.j]]"
      ]
     },
     "execution_count": 20,
     "metadata": {},
     "output_type": "execute_result"
    }
   ],
   "source": [
    "X_i = Pulse(\"Ix(pi)\", Ix, np.pi)\n",
    "X_i.apply()"
   ]
  },
  {
   "cell_type": "code",
   "execution_count": 21,
   "metadata": {},
   "outputs": [
    {
     "data": {
      "text/latex": [
       "Quantum object: dims = [[2, 2], [2, 2]], shape = (4, 4), type = oper, isherm = False $ \\\\ \\left(\\begin{matrix}0.0 & -1.0j & 0.0 & 0.0\\\\-1.0j & 0.0 & 0.0 & 0.0\\\\0.0 & 0.0 & 0.0 & -1.0j\\\\0.0 & 0.0 & -1.0j & 0.0\\\\\\end{matrix}\\right)$"
      ],
      "text/plain": [
       "Quantum object: dims = [[2, 2], [2, 2]], shape = (4, 4), type = oper, isherm = False\n",
       "Qobj data =\n",
       "[[0.+0.j 0.-1.j 0.+0.j 0.+0.j]\n",
       " [0.-1.j 0.+0.j 0.+0.j 0.+0.j]\n",
       " [0.+0.j 0.+0.j 0.+0.j 0.-1.j]\n",
       " [0.+0.j 0.+0.j 0.-1.j 0.+0.j]]"
      ]
     },
     "execution_count": 21,
     "metadata": {},
     "output_type": "execute_result"
    }
   ],
   "source": [
    "X_s = Pulse(\"Sx(pi)\", Sx, np.pi)\n",
    "X_s.apply()"
   ]
  },
  {
   "cell_type": "markdown",
   "metadata": {},
   "source": [
    "### PART B: One qubit Hadamard"
   ]
  },
  {
   "cell_type": "code",
   "execution_count": 22,
   "metadata": {},
   "outputs": [
    {
     "data": {
      "text/latex": [
       "Quantum object: dims = [[2, 2], [2, 2]], shape = (4, 4), type = oper, isherm = False $ \\\\ \\left(\\begin{matrix}0.707 & 0.0 & 0.707 & 0.0\\\\0.0 & 0.707 & 0.0 & 0.707\\\\-0.707 & 0.0 & 0.707 & 0.0\\\\0.0 & -0.707 & 0.0 & 0.707\\\\\\end{matrix}\\right)$"
      ],
      "text/plain": [
       "Quantum object: dims = [[2, 2], [2, 2]], shape = (4, 4), type = oper, isherm = False\n",
       "Qobj data =\n",
       "[[ 0.70710678  0.          0.70710678  0.        ]\n",
       " [ 0.          0.70710678  0.          0.70710678]\n",
       " [-0.70710678  0.          0.70710678  0.        ]\n",
       " [ 0.         -0.70710678  0.          0.70710678]]"
      ]
     },
     "execution_count": 22,
     "metadata": {},
     "output_type": "execute_result"
    }
   ],
   "source": [
    "H_i = Pulse(\"Iy(-pi/2)\", Iy, -np.pi/2)\n",
    "H_i.apply()"
   ]
  },
  {
   "cell_type": "code",
   "execution_count": 23,
   "metadata": {},
   "outputs": [
    {
     "data": {
      "text/latex": [
       "Quantum object: dims = [[2, 2], [2, 2]], shape = (4, 4), type = oper, isherm = False $ \\\\ \\left(\\begin{matrix}0.707 & 0.0 & -0.707 & 0.0\\\\0.0 & 0.707 & 0.0 & -0.707\\\\0.707 & 0.0 & 0.707 & 0.0\\\\0.0 & 0.707 & 0.0 & 0.707\\\\\\end{matrix}\\right)$"
      ],
      "text/plain": [
       "Quantum object: dims = [[2, 2], [2, 2]], shape = (4, 4), type = oper, isherm = False\n",
       "Qobj data =\n",
       "[[ 0.70710678  0.         -0.70710678  0.        ]\n",
       " [ 0.          0.70710678  0.         -0.70710678]\n",
       " [ 0.70710678  0.          0.70710678  0.        ]\n",
       " [ 0.          0.70710678  0.          0.70710678]]"
      ]
     },
     "execution_count": 23,
     "metadata": {},
     "output_type": "execute_result"
    }
   ],
   "source": [
    "H_i_dag = Pulse(\"Iy(+pi/2)\", Iy, np.pi/2)\n",
    "H_i_dag.apply()"
   ]
  },
  {
   "cell_type": "code",
   "execution_count": 24,
   "metadata": {},
   "outputs": [
    {
     "data": {
      "text/latex": [
       "Quantum object: dims = [[2, 2], [2, 2]], shape = (4, 4), type = oper, isherm = False $ \\\\ \\left(\\begin{matrix}0.707 & 0.707 & 0.0 & 0.0\\\\-0.707 & 0.707 & 0.0 & 0.0\\\\0.0 & 0.0 & 0.707 & 0.707\\\\0.0 & 0.0 & -0.707 & 0.707\\\\\\end{matrix}\\right)$"
      ],
      "text/plain": [
       "Quantum object: dims = [[2, 2], [2, 2]], shape = (4, 4), type = oper, isherm = False\n",
       "Qobj data =\n",
       "[[ 0.70710678  0.70710678  0.          0.        ]\n",
       " [-0.70710678  0.70710678  0.          0.        ]\n",
       " [ 0.          0.          0.70710678  0.70710678]\n",
       " [ 0.          0.         -0.70710678  0.70710678]]"
      ]
     },
     "execution_count": 24,
     "metadata": {},
     "output_type": "execute_result"
    }
   ],
   "source": [
    "H_s = Pulse(\"Sy(-pi/2)\", Sy, -np.pi/2)\n",
    "H_s.apply()"
   ]
  },
  {
   "cell_type": "code",
   "execution_count": 25,
   "metadata": {},
   "outputs": [
    {
     "data": {
      "text/latex": [
       "Quantum object: dims = [[2, 2], [2, 2]], shape = (4, 4), type = oper, isherm = False $ \\\\ \\left(\\begin{matrix}0.707 & -0.707 & 0.0 & 0.0\\\\0.707 & 0.707 & 0.0 & 0.0\\\\0.0 & 0.0 & 0.707 & -0.707\\\\0.0 & 0.0 & 0.707 & 0.707\\\\\\end{matrix}\\right)$"
      ],
      "text/plain": [
       "Quantum object: dims = [[2, 2], [2, 2]], shape = (4, 4), type = oper, isherm = False\n",
       "Qobj data =\n",
       "[[ 0.70710678 -0.70710678  0.          0.        ]\n",
       " [ 0.70710678  0.70710678  0.          0.        ]\n",
       " [ 0.          0.          0.70710678 -0.70710678]\n",
       " [ 0.          0.          0.70710678  0.70710678]]"
      ]
     },
     "execution_count": 25,
     "metadata": {},
     "output_type": "execute_result"
    }
   ],
   "source": [
    "H_s_dag = Pulse(\"Sy(+pi/2)\", Sy, +np.pi/2)\n",
    "H_s_dag.apply()"
   ]
  },
  {
   "cell_type": "markdown",
   "metadata": {},
   "source": [
    "### Part C: Two Qubit Controlled Z"
   ]
  },
  {
   "cell_type": "code",
   "execution_count": 26,
   "metadata": {},
   "outputs": [],
   "source": [
    "cz_p = PulseSequence(\"CZ\")\\\n",
    "    .add_seq(Iz_pulse(np.pi/2))\\\n",
    "    .add_seq(Sz_pulse(np.pi/2))\\\n",
    "    .add(Pulse(\"-2IzSz(aka delay(3/2J))\", IzSz, 3*np.pi))"
   ]
  },
  {
   "cell_type": "code",
   "execution_count": 27,
   "metadata": {},
   "outputs": [
    {
     "name": "stdout",
     "output_type": "stream",
     "text": [
      "CZ multiplied by phase factor:\n"
     ]
    },
    {
     "data": {
      "text/latex": [
       "Quantum object: dims = [[2, 2], [2, 2]], shape = (4, 4), type = oper, isherm = True $ \\\\ \\left(\\begin{matrix}-1.000 & 0.0 & 0.0 & 0.0\\\\0.0 & -1.0 & 0.0 & 0.0\\\\0.0 & 0.0 & -1.0 & 0.0\\\\0.0 & 0.0 & 0.0 & 1.0\\\\\\end{matrix}\\right)$"
      ],
      "text/plain": [
       "Quantum object: dims = [[2, 2], [2, 2]], shape = (4, 4), type = oper, isherm = True\n",
       "Qobj data =\n",
       "[[-1.  0.  0.  0.]\n",
       " [ 0. -1.  0.  0.]\n",
       " [ 0.  0. -1.  0.]\n",
       " [ 0.  0.  0.  1.]]"
      ]
     },
     "execution_count": 27,
     "metadata": {},
     "output_type": "execute_result"
    }
   ],
   "source": [
    "print(f\"CZ multiplied by phase factor:\")\n",
    "np.exp(1j*np.pi/4)*cz_p.compile().get_operator()"
   ]
  },
  {
   "cell_type": "code",
   "execution_count": 28,
   "metadata": {},
   "outputs": [
    {
     "name": "stdout",
     "output_type": "stream",
     "text": [
      "CZ Pulse Sequence: Ix(-pi/2) -> Iy(0.5*pi) -> Ix(pi/2) -> Sx(-pi/2) -> Sy(0.5*pi) -> Sx(pi/2) -> -2IzSz(aka delay(3/2J))"
     ]
    }
   ],
   "source": [
    "cz_p.print_sequence()"
   ]
  },
  {
   "cell_type": "markdown",
   "metadata": {},
   "source": [
    "### Part D: Two Qubit CNOT"
   ]
  },
  {
   "cell_type": "code",
   "execution_count": 29,
   "metadata": {},
   "outputs": [],
   "source": [
    "ncx = PulseSequence(\"Near CNOT\")\\\n",
    "    .add(Pulse(\"Sx(pi/2)\", Sx, np.pi/2))\\\n",
    "    .add(Pulse(\"2IzSz(aka delay(1/2J))\", IzSz, np.pi))\\\n",
    "    .add(Pulse(\"Sy(-pi/2)\", Sy, -np.pi/2))"
   ]
  },
  {
   "cell_type": "code",
   "execution_count": 30,
   "metadata": {},
   "outputs": [
    {
     "name": "stdout",
     "output_type": "stream",
     "text": [
      "Near CX multiplied by phase factor: \n"
     ]
    },
    {
     "data": {
      "text/latex": [
       "Quantum object: dims = [[2, 2], [2, 2]], shape = (4, 4), type = oper, isherm = False $ \\\\ \\left(\\begin{matrix}-1.0j & 0.0 & 0.0 & 0.0\\\\0.0 & 1.0 & 0.0 & 0.0\\\\0.0 & 0.0 & 0.0 & -1.0j\\\\0.0 & 0.0 & -1.0 & 0.0\\\\\\end{matrix}\\right)$"
      ],
      "text/plain": [
       "Quantum object: dims = [[2, 2], [2, 2]], shape = (4, 4), type = oper, isherm = False\n",
       "Qobj data =\n",
       "[[ 0.-1.j  0.+0.j  0.+0.j  0.+0.j]\n",
       " [ 0.+0.j  1.+0.j  0.+0.j  0.+0.j]\n",
       " [ 0.+0.j  0.+0.j  0.+0.j  0.-1.j]\n",
       " [ 0.+0.j  0.+0.j -1.+0.j  0.+0.j]]"
      ]
     },
     "execution_count": 30,
     "metadata": {},
     "output_type": "execute_result"
    }
   ],
   "source": [
    "print(f\"Near CX multiplied by phase factor: \")\n",
    "np.exp(-1j*np.pi/4)*ncx.compile().get_operator()"
   ]
  },
  {
   "cell_type": "code",
   "execution_count": 31,
   "metadata": {},
   "outputs": [
    {
     "name": "stdout",
     "output_type": "stream",
     "text": [
      "Near CNOT Pulse Sequence: Sx(pi/2) -> 2IzSz(aka delay(1/2J)) -> Sy(-pi/2)"
     ]
    }
   ],
   "source": [
    "ncx.print_sequence()"
   ]
  },
  {
   "cell_type": "code",
   "execution_count": 32,
   "metadata": {},
   "outputs": [],
   "source": [
    "cx =  PulseSequence(\"CNOT\")\\\n",
    "    .add(H_s)\\\n",
    "    .add_seq(cz_p)\\\n",
    "    .add(H_s_dag)"
   ]
  },
  {
   "cell_type": "code",
   "execution_count": 33,
   "metadata": {},
   "outputs": [
    {
     "data": {
      "text/latex": [
       "Quantum object: dims = [[2, 2], [2, 2]], shape = (4, 4), type = oper, isherm = True $ \\\\ \\left(\\begin{matrix}-1.000 & 0.0 & 0.0 & 0.0\\\\0.0 & -1.0 & 0.0 & 0.0\\\\0.0 & 0.0 & 0.0 & -1.0\\\\0.0 & 0.0 & -1.0 & 0.0\\\\\\end{matrix}\\right)$"
      ],
      "text/plain": [
       "Quantum object: dims = [[2, 2], [2, 2]], shape = (4, 4), type = oper, isherm = True\n",
       "Qobj data =\n",
       "[[-1.  0.  0.  0.]\n",
       " [ 0. -1.  0.  0.]\n",
       " [ 0.  0.  0. -1.]\n",
       " [ 0.  0. -1.  0.]]"
      ]
     },
     "execution_count": 33,
     "metadata": {},
     "output_type": "execute_result"
    }
   ],
   "source": [
    "np.exp(1j*np.pi/4)*cx.compile().get_operator()"
   ]
  },
  {
   "cell_type": "code",
   "execution_count": 34,
   "metadata": {},
   "outputs": [
    {
     "name": "stdout",
     "output_type": "stream",
     "text": [
      "CNOT Pulse Sequence: Sy(-pi/2) -> Ix(-pi/2) -> Iy(0.5*pi) -> Ix(pi/2) -> Sx(-pi/2) -> Sy(0.5*pi) -> Sx(pi/2) -> -2IzSz(aka delay(3/2J)) -> Sy(+pi/2)"
     ]
    }
   ],
   "source": [
    "cx.print_sequence()"
   ]
  },
  {
   "cell_type": "markdown",
   "metadata": {},
   "source": [
    "# (Q2) Oracles: Deutsch Jozsa"
   ]
  },
  {
   "cell_type": "markdown",
   "metadata": {},
   "source": [
    "### f1(x) = 0 {Constant 0 function} \n",
    "f1(0)=0, f1(1)=0  \n",
    "Do nothing"
   ]
  },
  {
   "cell_type": "code",
   "execution_count": 35,
   "metadata": {},
   "outputs": [
    {
     "name": "stdout",
     "output_type": "stream",
     "text": [
      "f1 Pulse Sequence: "
     ]
    }
   ],
   "source": [
    "f1 = PulseSequence(\"f1\")\n",
    "f1.print_sequence()"
   ]
  },
  {
   "cell_type": "markdown",
   "metadata": {},
   "source": [
    "### f2(x) = 1 {Constant 1 function} \n",
    "f2(0) = 1, f2(1) = 1  \n",
    "Apply X gate on second qubit(C)\n"
   ]
  },
  {
   "cell_type": "code",
   "execution_count": 36,
   "metadata": {},
   "outputs": [
    {
     "name": "stdout",
     "output_type": "stream",
     "text": [
      "f4 Pulse Sequence: Sx(pi)"
     ]
    }
   ],
   "source": [
    "# f1(x) = 1 for x in {0,1}\n",
    "# Apply X gate on second qubit(C)\n",
    "f2 = PulseSequence(\"f4\").add(X_s)\n",
    "f2.print_sequence()"
   ]
  },
  {
   "cell_type": "code",
   "execution_count": 37,
   "metadata": {},
   "outputs": [
    {
     "data": {
      "text/latex": [
       "Quantum object: dims = [[2, 2], [2, 2]], shape = (4, 4), type = oper, isherm = False $ \\\\ \\left(\\begin{matrix}0.0 & -1.0j & 0.0 & 0.0\\\\-1.0j & 0.0 & 0.0 & 0.0\\\\0.0 & 0.0 & 0.0 & -1.0j\\\\0.0 & 0.0 & -1.0j & 0.0\\\\\\end{matrix}\\right)$"
      ],
      "text/plain": [
       "Quantum object: dims = [[2, 2], [2, 2]], shape = (4, 4), type = oper, isherm = False\n",
       "Qobj data =\n",
       "[[0.+0.j 0.-1.j 0.+0.j 0.+0.j]\n",
       " [0.-1.j 0.+0.j 0.+0.j 0.+0.j]\n",
       " [0.+0.j 0.+0.j 0.+0.j 0.-1.j]\n",
       " [0.+0.j 0.+0.j 0.-1.j 0.+0.j]]"
      ]
     },
     "execution_count": 37,
     "metadata": {},
     "output_type": "execute_result"
    }
   ],
   "source": [
    "f2.compile().get_operator()"
   ]
  },
  {
   "cell_type": "markdown",
   "metadata": {},
   "source": [
    "### f3(x) = x xor y {Balanced function} \n",
    "f3(0) = 0, f3(1) = 1  \n",
    "Apply CX gate, with control on $1^{st}$ qubit and target on $2^{nd}$ qubit.\n"
   ]
  },
  {
   "cell_type": "code",
   "execution_count": 38,
   "metadata": {},
   "outputs": [
    {
     "name": "stdout",
     "output_type": "stream",
     "text": [
      "f4 Pulse Sequence: Sy(-pi/2) -> Ix(-pi/2) -> Iy(0.5*pi) -> Ix(pi/2) -> Sx(-pi/2) -> Sy(0.5*pi) -> Sx(pi/2) -> -2IzSz(aka delay(3/2J)) -> Sy(+pi/2)"
     ]
    }
   ],
   "source": [
    "f3 = PulseSequence(\"f4\").add_seq(cx)\n",
    "f3.print_sequence()"
   ]
  },
  {
   "cell_type": "code",
   "execution_count": 39,
   "metadata": {},
   "outputs": [
    {
     "data": {
      "text/latex": [
       "Quantum object: dims = [[2, 2], [2, 2]], shape = (4, 4), type = oper, isherm = False $ \\\\ \\left(\\begin{matrix}(-0.707+0.707j) & 0.0 & 0.0 & 0.0\\\\0.0 & (-0.707+0.707j) & 0.0 & 0.0\\\\0.0 & 0.0 & 0.0 & (-0.707+0.707j)\\\\0.0 & 0.0 & (-0.707+0.707j) & 0.0\\\\\\end{matrix}\\right)$"
      ],
      "text/plain": [
       "Quantum object: dims = [[2, 2], [2, 2]], shape = (4, 4), type = oper, isherm = False\n",
       "Qobj data =\n",
       "[[-0.70710678+0.70710678j  0.        +0.j          0.        +0.j\n",
       "   0.        +0.j        ]\n",
       " [ 0.        +0.j         -0.70710678+0.70710678j  0.        +0.j\n",
       "   0.        +0.j        ]\n",
       " [ 0.        +0.j          0.        +0.j          0.        +0.j\n",
       "  -0.70710678+0.70710678j]\n",
       " [ 0.        +0.j          0.        +0.j         -0.70710678+0.70710678j\n",
       "   0.        +0.j        ]]"
      ]
     },
     "execution_count": 39,
     "metadata": {},
     "output_type": "execute_result"
    }
   ],
   "source": [
    "f3.compile().get_operator()"
   ]
  },
  {
   "cell_type": "markdown",
   "metadata": {},
   "source": [
    "### f4(x) = ~x xor y {Balanced function} \n",
    "f4(0) = 1, f4(1) = 0  \n",
    "Apply anti-controlled CX gate, with control on $1^{st}$ qubit and target on $2^{nd}$ qubit. This can be done by applying an $X_{i}$ -> CX -> $X_{i}$ pulse sequence.\n"
   ]
  },
  {
   "cell_type": "code",
   "execution_count": 40,
   "metadata": {},
   "outputs": [],
   "source": [
    "f4 = PulseSequence(\"f4\")\\\n",
    "    .add(X_i)\\\n",
    "    .add_seq(cx)\\\n",
    "    .add(X_i)"
   ]
  },
  {
   "cell_type": "code",
   "execution_count": 41,
   "metadata": {},
   "outputs": [
    {
     "name": "stdout",
     "output_type": "stream",
     "text": [
      "f4 Pulse Sequence: Ix(pi) -> Sy(-pi/2) -> Ix(-pi/2) -> Iy(0.5*pi) -> Ix(pi/2) -> Sx(-pi/2) -> Sy(0.5*pi) -> Sx(pi/2) -> -2IzSz(aka delay(3/2J)) -> Sy(+pi/2) -> Ix(pi)"
     ]
    }
   ],
   "source": [
    "f4.print_sequence()"
   ]
  },
  {
   "cell_type": "code",
   "execution_count": 42,
   "metadata": {},
   "outputs": [],
   "source": [
    "g = qt.basis(2,0)\n",
    "e = qt.basis(2,1)"
   ]
  },
  {
   "cell_type": "code",
   "execution_count": 43,
   "metadata": {},
   "outputs": [
    {
     "name": "stdout",
     "output_type": "stream",
     "text": [
      "0-controlled CNOT upto global phase\n"
     ]
    },
    {
     "data": {
      "text/latex": [
       "Quantum object: dims = [[2, 2], [2, 2]], shape = (4, 4), type = oper, isherm = True $ \\\\ \\left(\\begin{matrix}0.0 & 1.0 & 0.0 & 0.0\\\\1.0 & 0.0 & 0.0 & 0.0\\\\0.0 & 0.0 & 1.000 & 0.0\\\\0.0 & 0.0 & 0.0 & 1.0\\\\\\end{matrix}\\right)$"
      ],
      "text/plain": [
       "Quantum object: dims = [[2, 2], [2, 2]], shape = (4, 4), type = oper, isherm = True\n",
       "Qobj data =\n",
       "[[0. 1. 0. 0.]\n",
       " [1. 0. 0. 0.]\n",
       " [0. 0. 1. 0.]\n",
       " [0. 0. 0. 1.]]"
      ]
     },
     "execution_count": 43,
     "metadata": {},
     "output_type": "execute_result"
    }
   ],
   "source": [
    "print(\"0-controlled CNOT upto global phase\")\n",
    "np.exp(1j*np.pi/4)*f4.compile().get_operator()"
   ]
  },
  {
   "cell_type": "markdown",
   "metadata": {},
   "source": [
    "#### Verification of 0-CNOT"
   ]
  },
  {
   "cell_type": "code",
   "execution_count": 44,
   "metadata": {},
   "outputs": [
    {
     "data": {
      "text/latex": [
       "Quantum object: dims = [[2, 2], [1, 1]], shape = (4, 1), type = ket $ \\\\ \\left(\\begin{matrix}0.0\\\\1.0\\\\0.0\\\\0.0\\\\\\end{matrix}\\right)$"
      ],
      "text/plain": [
       "Quantum object: dims = [[2, 2], [1, 1]], shape = (4, 1), type = ket\n",
       "Qobj data =\n",
       "[[0.]\n",
       " [1.]\n",
       " [0.]\n",
       " [0.]]"
      ]
     },
     "execution_count": 44,
     "metadata": {},
     "output_type": "execute_result"
    }
   ],
   "source": [
    "np.exp(1j*np.pi/4)*f4.compile().get_operator()*qt.tensor(g,g)"
   ]
  },
  {
   "cell_type": "markdown",
   "metadata": {},
   "source": [
    "|00> -> |01>"
   ]
  },
  {
   "cell_type": "code",
   "execution_count": 45,
   "metadata": {},
   "outputs": [
    {
     "data": {
      "text/latex": [
       "Quantum object: dims = [[2, 2], [1, 1]], shape = (4, 1), type = ket $ \\\\ \\left(\\begin{matrix}1.0\\\\0.0\\\\0.0\\\\0.0\\\\\\end{matrix}\\right)$"
      ],
      "text/plain": [
       "Quantum object: dims = [[2, 2], [1, 1]], shape = (4, 1), type = ket\n",
       "Qobj data =\n",
       "[[1.]\n",
       " [0.]\n",
       " [0.]\n",
       " [0.]]"
      ]
     },
     "execution_count": 45,
     "metadata": {},
     "output_type": "execute_result"
    }
   ],
   "source": [
    "np.exp(1j*np.pi/4)*f4.compile().get_operator()*qt.tensor(g,e)"
   ]
  },
  {
   "cell_type": "markdown",
   "metadata": {},
   "source": [
    "|01> -> |00>"
   ]
  },
  {
   "cell_type": "code",
   "execution_count": 46,
   "metadata": {},
   "outputs": [
    {
     "data": {
      "text/latex": [
       "Quantum object: dims = [[2, 2], [1, 1]], shape = (4, 1), type = ket $ \\\\ \\left(\\begin{matrix}0.0\\\\0.0\\\\1.000\\\\0.0\\\\\\end{matrix}\\right)$"
      ],
      "text/plain": [
       "Quantum object: dims = [[2, 2], [1, 1]], shape = (4, 1), type = ket\n",
       "Qobj data =\n",
       "[[0.]\n",
       " [0.]\n",
       " [1.]\n",
       " [0.]]"
      ]
     },
     "execution_count": 46,
     "metadata": {},
     "output_type": "execute_result"
    }
   ],
   "source": [
    "np.exp(1j*np.pi/4)*f4.compile().get_operator()*qt.tensor(e,g)"
   ]
  },
  {
   "cell_type": "markdown",
   "metadata": {},
   "source": [
    "|10> -> |10>"
   ]
  },
  {
   "cell_type": "code",
   "execution_count": 47,
   "metadata": {},
   "outputs": [
    {
     "data": {
      "text/latex": [
       "Quantum object: dims = [[2, 2], [1, 1]], shape = (4, 1), type = ket $ \\\\ \\left(\\begin{matrix}0.0\\\\0.0\\\\0.0\\\\1.0\\\\\\end{matrix}\\right)$"
      ],
      "text/plain": [
       "Quantum object: dims = [[2, 2], [1, 1]], shape = (4, 1), type = ket\n",
       "Qobj data =\n",
       "[[0.]\n",
       " [0.]\n",
       " [0.]\n",
       " [1.]]"
      ]
     },
     "execution_count": 47,
     "metadata": {},
     "output_type": "execute_result"
    }
   ],
   "source": [
    "np.exp(1j*np.pi/4)*f4.compile().get_operator()*qt.tensor(e,e)"
   ]
  },
  {
   "cell_type": "markdown",
   "metadata": {},
   "source": [
    "|11> -> |11>"
   ]
  },
  {
   "cell_type": "markdown",
   "metadata": {},
   "source": [
    "# (Q3) Deutsch Jozsa"
   ]
  },
  {
   "cell_type": "markdown",
   "metadata": {},
   "source": [
    "### P1 and P2 operators for Temporal averaging  "
   ]
  },
  {
   "cell_type": "code",
   "execution_count": 48,
   "metadata": {},
   "outputs": [],
   "source": [
    "# From lab manual\n",
    "p1 =  PulseSequence(\"P1\")\\\n",
    "    .add(Pulse(\"Sx(+pi/2)\", Sx, +np.pi/2))\\\n",
    "    .add(Pulse(\"2IzSz(aka delay(1/2J))\", IzSz, +np.pi))\\\n",
    "    .add(Pulse(\"Sy(+pi/2)\", Sy, +np.pi/2))\\\n",
    "    .add(Pulse(\"Ix(+pi/2)\", Ix, +np.pi/2))\\\n",
    "    .add(Pulse(\"2IzSz(aka delay(1/2J))\", IzSz, +np.pi))\\\n",
    "    .add(Pulse(\"Iy(+pi/2)\", Iy, +np.pi/2))"
   ]
  },
  {
   "cell_type": "code",
   "execution_count": 49,
   "metadata": {},
   "outputs": [
    {
     "data": {
      "text/latex": [
       "Quantum object: dims = [[2, 2], [2, 2]], shape = (4, 4), type = oper, isherm = False $ \\\\ \\left(\\begin{matrix}0.0 & 0.0 & -1.0j & 0.0\\\\1.0 & 0.0 & 0.0 & 0.0\\\\0.0 & -1.0 & 0.0 & 0.0\\\\0.0 & 0.0 & 0.0 & -1.0j\\\\\\end{matrix}\\right)$"
      ],
      "text/plain": [
       "Quantum object: dims = [[2, 2], [2, 2]], shape = (4, 4), type = oper, isherm = False\n",
       "Qobj data =\n",
       "[[ 0.+0.j  0.+0.j  0.-1.j  0.+0.j]\n",
       " [ 1.+0.j  0.+0.j  0.+0.j  0.+0.j]\n",
       " [ 0.+0.j -1.+0.j  0.+0.j  0.+0.j]\n",
       " [ 0.+0.j  0.+0.j  0.+0.j  0.-1.j]]"
      ]
     },
     "execution_count": 49,
     "metadata": {},
     "output_type": "execute_result"
    }
   ],
   "source": [
    "p1.compile().get_operator()"
   ]
  },
  {
   "cell_type": "code",
   "execution_count": 50,
   "metadata": {},
   "outputs": [
    {
     "name": "stdout",
     "output_type": "stream",
     "text": [
      "P1 Pulse Sequence: Sx(+pi/2) -> 2IzSz(aka delay(1/2J)) -> Sy(+pi/2) -> Ix(+pi/2) -> 2IzSz(aka delay(1/2J)) -> Iy(+pi/2)"
     ]
    }
   ],
   "source": [
    "p1.print_sequence()"
   ]
  },
  {
   "cell_type": "code",
   "execution_count": 51,
   "metadata": {},
   "outputs": [],
   "source": [
    "# From lab manual\n",
    "p2 =  PulseSequence(\"P2\")\\\n",
    "    .add(Pulse(\"Ix(+pi/2)\", Ix, +np.pi/2))\\\n",
    "    .add(Pulse(\"2IzSz(aka delay(1/2J))\", IzSz, +np.pi))\\\n",
    "    .add(Pulse(\"Sx(+pi/2)\", Sx, +np.pi/2))\\\n",
    "    .add(Pulse(\"Iy(+pi/2)\", Iy, +np.pi/2))\\\n",
    "    .add(Pulse(\"2IzSz(aka delay(1/2J))\", IzSz, +np.pi))\\\n",
    "    .add(Pulse(\"Sy(+pi/2)\", Sy, +np.pi/2))"
   ]
  },
  {
   "cell_type": "code",
   "execution_count": 52,
   "metadata": {},
   "outputs": [
    {
     "data": {
      "text/latex": [
       "Quantum object: dims = [[2, 2], [2, 2]], shape = (4, 4), type = oper, isherm = False $ \\\\ \\left(\\begin{matrix}0.0 & -1.0j & 0.0 & 0.0\\\\0.0 & 0.0 & -1.0 & 0.0\\\\1.0 & 0.0 & 0.0 & 0.0\\\\0.0 & 0.0 & 0.0 & -1.0j\\\\\\end{matrix}\\right)$"
      ],
      "text/plain": [
       "Quantum object: dims = [[2, 2], [2, 2]], shape = (4, 4), type = oper, isherm = False\n",
       "Qobj data =\n",
       "[[ 0.+0.j  0.-1.j  0.+0.j  0.+0.j]\n",
       " [ 0.+0.j  0.+0.j -1.+0.j  0.+0.j]\n",
       " [ 1.+0.j  0.+0.j  0.+0.j  0.+0.j]\n",
       " [ 0.+0.j  0.+0.j  0.+0.j  0.-1.j]]"
      ]
     },
     "execution_count": 52,
     "metadata": {},
     "output_type": "execute_result"
    }
   ],
   "source": [
    "p2.compile().get_operator()"
   ]
  },
  {
   "cell_type": "code",
   "execution_count": 53,
   "metadata": {},
   "outputs": [
    {
     "name": "stdout",
     "output_type": "stream",
     "text": [
      "P2 Pulse Sequence: Ix(+pi/2) -> 2IzSz(aka delay(1/2J)) -> Sx(+pi/2) -> Iy(+pi/2) -> 2IzSz(aka delay(1/2J)) -> Sy(+pi/2)"
     ]
    }
   ],
   "source": [
    "p2.print_sequence()"
   ]
  },
  {
   "cell_type": "markdown",
   "metadata": {},
   "source": [
    "## Part(A) : |00> state\n",
    "- A.1 : State Preparation\n",
    "- A.2 : NCX gate\n",
    "- A.3 : CX gate"
   ]
  },
  {
   "cell_type": "markdown",
   "metadata": {},
   "source": [
    "### Part A.1 : State Preparation : |00>"
   ]
  },
  {
   "cell_type": "markdown",
   "metadata": {},
   "source": [
    "#### Part A.1.1 : P0 simulation for |00>"
   ]
  },
  {
   "cell_type": "code",
   "execution_count": 54,
   "metadata": {},
   "outputs": [
    {
     "name": "stdout",
     "output_type": "stream",
     "text": [
      "P0(00) Pulse Sequence: Ix(pi) -> Sx(pi)"
     ]
    }
   ],
   "source": [
    "p0_00 = PulseSequence(\"P0(00)\")\\\n",
    "        .add(X_i)\\\n",
    "        .add(X_s)\n",
    "p0_00.print_sequence()"
   ]
  },
  {
   "cell_type": "code",
   "execution_count": 55,
   "metadata": {},
   "outputs": [],
   "source": [
    "# %reset_selective p0_00"
   ]
  },
  {
   "cell_type": "code",
   "execution_count": 56,
   "metadata": {},
   "outputs": [
    {
     "data": {
      "text/latex": [
       "Quantum object: dims = [[2, 2], [2, 2]], shape = (4, 4), type = oper, isherm = True $ \\\\ \\left(\\begin{matrix}0.0 & 0.0 & 0.0 & -1.0\\\\0.0 & 0.0 & -1.0 & 0.0\\\\0.0 & -1.0 & 0.0 & 0.0\\\\-1.0 & 0.0 & 0.0 & 0.0\\\\\\end{matrix}\\right)$"
      ],
      "text/plain": [
       "Quantum object: dims = [[2, 2], [2, 2]], shape = (4, 4), type = oper, isherm = True\n",
       "Qobj data =\n",
       "[[ 0.  0.  0. -1.]\n",
       " [ 0.  0. -1.  0.]\n",
       " [ 0. -1.  0.  0.]\n",
       " [-1.  0.  0.  0.]]"
      ]
     },
     "execution_count": 56,
     "metadata": {},
     "output_type": "execute_result"
    }
   ],
   "source": [
    "p0_00.compile().get_operator()"
   ]
  },
  {
   "cell_type": "code",
   "execution_count": 57,
   "metadata": {},
   "outputs": [
    {
     "data": {
      "text/latex": [
       "Quantum object: dims = [[2, 2], [2, 2]], shape = (4, 4), type = oper, isherm = True $ \\\\ \\left(\\begin{matrix}-1.0 & 0.0 & 0.0 & 0.0\\\\0.0 & -0.600 & 0.0 & 0.0\\\\0.0 & 0.0 & 0.600 & 0.0\\\\0.0 & 0.0 & 0.0 & 1.0\\\\\\end{matrix}\\right)$"
      ],
      "text/plain": [
       "Quantum object: dims = [[2, 2], [2, 2]], shape = (4, 4), type = oper, isherm = True\n",
       "Qobj data =\n",
       "[[-1.   0.   0.   0. ]\n",
       " [ 0.  -0.6  0.   0. ]\n",
       " [ 0.   0.   0.6  0. ]\n",
       " [ 0.   0.   0.   1. ]]"
      ]
     },
     "execution_count": 57,
     "metadata": {},
     "output_type": "execute_result"
    }
   ],
   "source": [
    "p0_rho00 = p0_00.compile().evolve_pho(pho_th)\n",
    "p0_rho00.rho"
   ]
  },
  {
   "cell_type": "code",
   "execution_count": 58,
   "metadata": {},
   "outputs": [
    {
     "name": "stdout",
     "output_type": "stream",
     "text": [
      "H spectrum\n",
      "Peak1 at 4.7364 ppm with integral=(-1.6+0j)\n",
      "Peak2 at 8.1836 ppm with integral=(-1.6+0j)\n",
      "C spectrum\n",
      "Peak1 @ 66.4751 ppm with integral=(-0+0j)\n",
      "Peak2 @ 80.1869 ppm with integral=(-0+0j)\n"
     ]
    }
   ],
   "source": [
    "p0_rho00.h_spectrum()\n",
    "p0_rho00.c_spectrum()"
   ]
  },
  {
   "cell_type": "code",
   "execution_count": 59,
   "metadata": {},
   "outputs": [],
   "source": [
    "# %reset_selective p0*00"
   ]
  },
  {
   "cell_type": "markdown",
   "metadata": {},
   "source": [
    "#### Part A.1.2 : P1 simulation for |00>"
   ]
  },
  {
   "cell_type": "code",
   "execution_count": 60,
   "metadata": {},
   "outputs": [],
   "source": [
    "p1_00 = PulseSequence(\"P1(00)\")\\\n",
    "        .add_seq(p1)\\\n",
    "        .add(X_i)\\\n",
    "        .add(X_s)"
   ]
  },
  {
   "cell_type": "code",
   "execution_count": 61,
   "metadata": {},
   "outputs": [
    {
     "name": "stdout",
     "output_type": "stream",
     "text": [
      "P1(00) Pulse Sequence: Sx(+pi/2) -> 2IzSz(aka delay(1/2J)) -> Sy(+pi/2) -> Ix(+pi/2) -> 2IzSz(aka delay(1/2J)) -> Iy(+pi/2) -> Ix(pi) -> Sx(pi)"
     ]
    }
   ],
   "source": [
    "p1_00.print_sequence()"
   ]
  },
  {
   "cell_type": "code",
   "execution_count": 62,
   "metadata": {},
   "outputs": [
    {
     "data": {
      "text/latex": [
       "Quantum object: dims = [[2, 2], [2, 2]], shape = (4, 4), type = oper, isherm = False $ \\\\ \\left(\\begin{matrix}0.0 & 0.0 & 0.0 & 1.0j\\\\0.0 & 1.0 & 0.0 & 0.0\\\\-1.0 & 0.0 & 0.0 & 0.0\\\\0.0 & 0.0 & 1.0j & 0.0\\\\\\end{matrix}\\right)$"
      ],
      "text/plain": [
       "Quantum object: dims = [[2, 2], [2, 2]], shape = (4, 4), type = oper, isherm = False\n",
       "Qobj data =\n",
       "[[ 0.+0.j  0.+0.j  0.+0.j  0.+1.j]\n",
       " [ 0.+0.j  1.+0.j  0.+0.j  0.+0.j]\n",
       " [-1.+0.j  0.+0.j  0.+0.j  0.+0.j]\n",
       " [ 0.+0.j  0.+0.j  0.+1.j  0.+0.j]]"
      ]
     },
     "execution_count": 62,
     "metadata": {},
     "output_type": "execute_result"
    }
   ],
   "source": [
    "p1_00.compile().get_operator()"
   ]
  },
  {
   "cell_type": "code",
   "execution_count": 63,
   "metadata": {},
   "outputs": [
    {
     "data": {
      "text/latex": [
       "Quantum object: dims = [[2, 2], [2, 2]], shape = (4, 4), type = oper, isherm = True $ \\\\ \\left(\\begin{matrix}-1.0 & 0.0 & 0.0 & 0.0\\\\0.0 & 0.600 & 0.0 & 0.0\\\\0.0 & 0.0 & 1.0 & 0.0\\\\0.0 & 0.0 & 0.0 & -0.600\\\\\\end{matrix}\\right)$"
      ],
      "text/plain": [
       "Quantum object: dims = [[2, 2], [2, 2]], shape = (4, 4), type = oper, isherm = True\n",
       "Qobj data =\n",
       "[[-1.   0.   0.   0. ]\n",
       " [ 0.   0.6  0.   0. ]\n",
       " [ 0.   0.   1.   0. ]\n",
       " [ 0.   0.   0.  -0.6]]"
      ]
     },
     "execution_count": 63,
     "metadata": {},
     "output_type": "execute_result"
    }
   ],
   "source": [
    "p1_rho00 = p1_00.compile().evolve_pho(pho_th)\n",
    "p1_rho00.rho"
   ]
  },
  {
   "cell_type": "code",
   "execution_count": 64,
   "metadata": {},
   "outputs": [
    {
     "name": "stdout",
     "output_type": "stream",
     "text": [
      "H spectrum\n",
      "Peak1 at 4.7364 ppm with integral=(-2+0j)\n",
      "Peak2 at 8.1836 ppm with integral=(1.2+0j)\n",
      "C spectrum\n",
      "Peak1 @ 66.4751 ppm with integral=(-2+0j)\n",
      "Peak2 @ 80.1869 ppm with integral=(2+0j)\n"
     ]
    }
   ],
   "source": [
    "p1_rho00.h_spectrum()\n",
    "p1_rho00.c_spectrum()"
   ]
  },
  {
   "cell_type": "code",
   "execution_count": 65,
   "metadata": {},
   "outputs": [],
   "source": [
    "# %reset_selective p1_rho00\n"
   ]
  },
  {
   "cell_type": "markdown",
   "metadata": {},
   "source": [
    "#### Part A.1.3 : P2 simulation for |00>"
   ]
  },
  {
   "cell_type": "code",
   "execution_count": 66,
   "metadata": {},
   "outputs": [],
   "source": [
    "p2_00 = PulseSequence(\"P2(00)\")\\\n",
    "        .add_seq(p2)\\\n",
    "        .add(X_i)\\\n",
    "        .add(X_s)"
   ]
  },
  {
   "cell_type": "code",
   "execution_count": 67,
   "metadata": {},
   "outputs": [
    {
     "name": "stdout",
     "output_type": "stream",
     "text": [
      "P2(00) Pulse Sequence: Ix(+pi/2) -> 2IzSz(aka delay(1/2J)) -> Sx(+pi/2) -> Iy(+pi/2) -> 2IzSz(aka delay(1/2J)) -> Sy(+pi/2) -> Ix(pi) -> Sx(pi)"
     ]
    }
   ],
   "source": [
    "p2_00.print_sequence()"
   ]
  },
  {
   "cell_type": "code",
   "execution_count": 68,
   "metadata": {},
   "outputs": [
    {
     "data": {
      "text/latex": [
       "Quantum object: dims = [[2, 2], [2, 2]], shape = (4, 4), type = oper, isherm = False $ \\\\ \\left(\\begin{matrix}0.0 & 0.0 & 0.0 & 1.0j\\\\-1.0 & 0.0 & 0.0 & 0.0\\\\0.0 & 0.0 & 1.0 & 0.0\\\\0.0 & 1.0j & 0.0 & 0.0\\\\\\end{matrix}\\right)$"
      ],
      "text/plain": [
       "Quantum object: dims = [[2, 2], [2, 2]], shape = (4, 4), type = oper, isherm = False\n",
       "Qobj data =\n",
       "[[ 0.+0.j  0.+0.j  0.+0.j  0.+1.j]\n",
       " [-1.+0.j  0.+0.j  0.+0.j  0.+0.j]\n",
       " [ 0.+0.j  0.+0.j  1.+0.j  0.+0.j]\n",
       " [ 0.+0.j  0.+1.j  0.+0.j  0.+0.j]]"
      ]
     },
     "execution_count": 68,
     "metadata": {},
     "output_type": "execute_result"
    }
   ],
   "source": [
    "p2_00.compile().get_operator()"
   ]
  },
  {
   "cell_type": "code",
   "execution_count": 69,
   "metadata": {},
   "outputs": [
    {
     "data": {
      "text/latex": [
       "Quantum object: dims = [[2, 2], [2, 2]], shape = (4, 4), type = oper, isherm = True $ \\\\ \\left(\\begin{matrix}-1.0 & 0.0 & 0.0 & 0.0\\\\0.0 & 1.0 & 0.0 & 0.0\\\\0.0 & 0.0 & -0.600 & 0.0\\\\0.0 & 0.0 & 0.0 & 0.600\\\\\\end{matrix}\\right)$"
      ],
      "text/plain": [
       "Quantum object: dims = [[2, 2], [2, 2]], shape = (4, 4), type = oper, isherm = True\n",
       "Qobj data =\n",
       "[[-1.   0.   0.   0. ]\n",
       " [ 0.   1.   0.   0. ]\n",
       " [ 0.   0.  -0.6  0. ]\n",
       " [ 0.   0.   0.   0.6]]"
      ]
     },
     "execution_count": 69,
     "metadata": {},
     "output_type": "execute_result"
    }
   ],
   "source": [
    "p2_rho00 = p2_00.compile().evolve_pho(pho_th)\n",
    "p2_rho00.rho"
   ]
  },
  {
   "cell_type": "code",
   "execution_count": 70,
   "metadata": {},
   "outputs": [
    {
     "name": "stdout",
     "output_type": "stream",
     "text": [
      "H spectrum\n",
      "Peak1 at 4.7364 ppm with integral=(-0.4+0j)\n",
      "Peak2 at 8.1836 ppm with integral=(0.4+0j)\n",
      "C spectrum\n",
      "Peak1 @ 66.4751 ppm with integral=(-2+0j)\n",
      "Peak2 @ 80.1869 ppm with integral=(-1+0j)\n"
     ]
    }
   ],
   "source": [
    "p2_rho00.h_spectrum()\n",
    "p2_rho00.c_spectrum()"
   ]
  },
  {
   "cell_type": "code",
   "execution_count": 71,
   "metadata": {},
   "outputs": [],
   "source": [
    "# %reset_selective p2_rho00"
   ]
  },
  {
   "cell_type": "markdown",
   "metadata": {},
   "source": [
    "#### Part A.1.4 : Calculate temporal average for |00>"
   ]
  },
  {
   "cell_type": "code",
   "execution_count": 72,
   "metadata": {},
   "outputs": [
    {
     "data": {
      "text/latex": [
       "Quantum object: dims = [[2, 2], [2, 2]], shape = (4, 4), type = oper, isherm = True $ \\\\ \\left(\\begin{matrix}-1.0 & 0.0 & 0.0 & 0.0\\\\0.0 & 0.333 & 0.0 & 0.0\\\\0.0 & 0.0 & 0.333 & 0.0\\\\0.0 & 0.0 & 0.0 & 0.333\\\\\\end{matrix}\\right)$"
      ],
      "text/plain": [
       "Quantum object: dims = [[2, 2], [2, 2]], shape = (4, 4), type = oper, isherm = True\n",
       "Qobj data =\n",
       "[[-1.          0.          0.          0.        ]\n",
       " [ 0.          0.33333333  0.          0.        ]\n",
       " [ 0.          0.          0.33333333  0.        ]\n",
       " [ 0.          0.          0.          0.33333333]]"
      ]
     },
     "execution_count": 72,
     "metadata": {},
     "output_type": "execute_result"
    }
   ],
   "source": [
    "(p0_rho00.rho + p1_rho00.rho + p2_rho00.rho)/3"
   ]
  },
  {
   "cell_type": "markdown",
   "metadata": {},
   "source": [
    "### Part A.2: NCX gate simulation for |00>"
   ]
  },
  {
   "cell_type": "markdown",
   "metadata": {},
   "source": [
    "#### Part A.2.1 : P0 NCX simulation for |00>"
   ]
  },
  {
   "cell_type": "code",
   "execution_count": 73,
   "metadata": {},
   "outputs": [
    {
     "name": "stdout",
     "output_type": "stream",
     "text": [
      "NCX P0(00) Pulse Sequence: Ix(pi) -> Sx(pi) -> Sx(pi/2) -> 2IzSz(aka delay(1/2J)) -> Sy(-pi/2)"
     ]
    }
   ],
   "source": [
    "ncx_p0_00 = PulseSequence(\"NCX P0(00)\")\\\n",
    "            .add_seq(p0_00)\\\n",
    "            .add_seq(ncx)\n",
    "ncx_p0_00.print_sequence()"
   ]
  },
  {
   "cell_type": "code",
   "execution_count": 74,
   "metadata": {},
   "outputs": [
    {
     "data": {
      "text/latex": [
       "Quantum object: dims = [[2, 2], [2, 2]], shape = (4, 4), type = oper, isherm = False $ \\\\ \\left(\\begin{matrix}0.0 & 0.0 & 0.0 & -1.0\\\\0.0 & 0.0 & -1.0j & 0.0\\\\-1.0 & 0.0 & 0.0 & 0.0\\\\0.0 & 1.0j & 0.0 & 0.0\\\\\\end{matrix}\\right)$"
      ],
      "text/plain": [
       "Quantum object: dims = [[2, 2], [2, 2]], shape = (4, 4), type = oper, isherm = False\n",
       "Qobj data =\n",
       "[[ 0.+0.j  0.+0.j  0.+0.j -1.+0.j]\n",
       " [ 0.+0.j  0.+0.j  0.-1.j  0.+0.j]\n",
       " [-1.+0.j  0.+0.j  0.+0.j  0.+0.j]\n",
       " [ 0.+0.j  0.+1.j  0.+0.j  0.+0.j]]"
      ]
     },
     "execution_count": 74,
     "metadata": {},
     "output_type": "execute_result"
    }
   ],
   "source": [
    "np.exp(+1j*np.pi/4)*ncx_p0_00.compile().get_operator()"
   ]
  },
  {
   "cell_type": "code",
   "execution_count": 75,
   "metadata": {},
   "outputs": [
    {
     "data": {
      "text/latex": [
       "Quantum object: dims = [[2, 2], [2, 2]], shape = (4, 4), type = oper, isherm = True $ \\\\ \\left(\\begin{matrix}-1.000 & 0.0 & 0.0 & 0.0\\\\0.0 & -0.600 & 0.0 & 0.0\\\\0.0 & 0.0 & 1.000 & 0.0\\\\0.0 & 0.0 & 0.0 & 0.600\\\\\\end{matrix}\\right)$"
      ],
      "text/plain": [
       "Quantum object: dims = [[2, 2], [2, 2]], shape = (4, 4), type = oper, isherm = True\n",
       "Qobj data =\n",
       "[[-1.   0.   0.   0. ]\n",
       " [ 0.  -0.6  0.   0. ]\n",
       " [ 0.   0.   1.   0. ]\n",
       " [ 0.   0.   0.   0.6]]"
      ]
     },
     "execution_count": 75,
     "metadata": {},
     "output_type": "execute_result"
    }
   ],
   "source": [
    "ncx_p0_rho00 = ncx_p0_00.compile().evolve_pho(pho_th)\n",
    "ncx_p0_rho00.rho"
   ]
  },
  {
   "cell_type": "code",
   "execution_count": 76,
   "metadata": {},
   "outputs": [
    {
     "name": "stdout",
     "output_type": "stream",
     "text": [
      "H spectrum\n",
      "Peak1 at 4.7364 ppm with integral=(-2+0j)\n",
      "Peak2 at 8.1836 ppm with integral=(-1.2+0j)\n",
      "C spectrum\n",
      "Peak1 @ 66.4751 ppm with integral=(-0+0j)\n",
      "Peak2 @ 80.1869 ppm with integral=0j\n"
     ]
    }
   ],
   "source": [
    "ncx_p0_rho00.h_spectrum()\n",
    "ncx_p0_rho00.c_spectrum()"
   ]
  },
  {
   "cell_type": "code",
   "execution_count": 77,
   "metadata": {},
   "outputs": [],
   "source": [
    "# %reset_selective ncx_p*"
   ]
  },
  {
   "cell_type": "markdown",
   "metadata": {},
   "source": [
    "#### Part A.2.2 : P1 NCX simulation for |00>"
   ]
  },
  {
   "cell_type": "code",
   "execution_count": 78,
   "metadata": {},
   "outputs": [
    {
     "name": "stdout",
     "output_type": "stream",
     "text": [
      "NCX-P1(00) Pulse Sequence: Sx(+pi/2) -> 2IzSz(aka delay(1/2J)) -> Sy(+pi/2) -> Ix(+pi/2) -> 2IzSz(aka delay(1/2J)) -> Iy(+pi/2) -> Ix(pi) -> Sx(pi) -> Sx(pi/2) -> 2IzSz(aka delay(1/2J)) -> Sy(-pi/2)"
     ]
    }
   ],
   "source": [
    "ncx_p1_00 = PulseSequence(\"NCX-P1(00)\")\\\n",
    "            .add_seq(p1_00)\\\n",
    "            .add_seq(ncx)\n",
    "ncx_p1_00.print_sequence()"
   ]
  },
  {
   "cell_type": "code",
   "execution_count": 79,
   "metadata": {},
   "outputs": [
    {
     "data": {
      "text/latex": [
       "Quantum object: dims = [[2, 2], [2, 2]], shape = (4, 4), type = oper, isherm = False $ \\\\ \\left(\\begin{matrix}0.0 & 0.0 & 0.0 & 1.0j\\\\0.0 & 1.0j & 0.0 & 0.0\\\\0.0 & 0.0 & 1.0j & 0.0\\\\1.0j & 0.0 & 0.0 & 0.0\\\\\\end{matrix}\\right)$"
      ],
      "text/plain": [
       "Quantum object: dims = [[2, 2], [2, 2]], shape = (4, 4), type = oper, isherm = False\n",
       "Qobj data =\n",
       "[[0.+0.j 0.+0.j 0.+0.j 0.+1.j]\n",
       " [0.+0.j 0.+1.j 0.+0.j 0.+0.j]\n",
       " [0.+0.j 0.+0.j 0.+1.j 0.+0.j]\n",
       " [0.+1.j 0.+0.j 0.+0.j 0.+0.j]]"
      ]
     },
     "execution_count": 79,
     "metadata": {},
     "output_type": "execute_result"
    }
   ],
   "source": [
    "np.exp(+1j*np.pi/4)*ncx_p1_00.compile().get_operator()"
   ]
  },
  {
   "cell_type": "code",
   "execution_count": 80,
   "metadata": {},
   "outputs": [
    {
     "data": {
      "text/latex": [
       "Quantum object: dims = [[2, 2], [2, 2]], shape = (4, 4), type = oper, isherm = True $ \\\\ \\left(\\begin{matrix}-1.0 & 0.0 & 0.0 & 0.0\\\\0.0 & 0.600 & 0.0 & 0.0\\\\0.0 & 0.0 & -0.600 & 0.0\\\\0.0 & 0.0 & 0.0 & 1.0\\\\\\end{matrix}\\right)$"
      ],
      "text/plain": [
       "Quantum object: dims = [[2, 2], [2, 2]], shape = (4, 4), type = oper, isherm = True\n",
       "Qobj data =\n",
       "[[-1.   0.   0.   0. ]\n",
       " [ 0.   0.6  0.   0. ]\n",
       " [ 0.   0.  -0.6  0. ]\n",
       " [ 0.   0.   0.   1. ]]"
      ]
     },
     "execution_count": 80,
     "metadata": {},
     "output_type": "execute_result"
    }
   ],
   "source": [
    "ncx_p1_rho00 = ncx_p1_00.compile().evolve_pho(pho_th)\n",
    "ncx_p1_rho00.rho"
   ]
  },
  {
   "cell_type": "code",
   "execution_count": 81,
   "metadata": {},
   "outputs": [
    {
     "name": "stdout",
     "output_type": "stream",
     "text": [
      "H spectrum\n",
      "Peak1 at 4.7364 ppm with integral=(-0.4+0j)\n",
      "Peak2 at 8.1836 ppm with integral=(-0.4+0j)\n",
      "C spectrum\n",
      "Peak1 @ 66.4751 ppm with integral=(-2+0j)\n",
      "Peak2 @ 80.1869 ppm with integral=(-2+0j)\n"
     ]
    }
   ],
   "source": [
    "ncx_p1_rho00.h_spectrum()\n",
    "ncx_p1_rho00.c_spectrum()"
   ]
  },
  {
   "cell_type": "markdown",
   "metadata": {},
   "source": [
    "#### Part A.2.3 : P2 NCX simulation for |00>"
   ]
  },
  {
   "cell_type": "code",
   "execution_count": 82,
   "metadata": {},
   "outputs": [
    {
     "name": "stdout",
     "output_type": "stream",
     "text": [
      "NCX-P2(00) Pulse Sequence: Ix(+pi/2) -> 2IzSz(aka delay(1/2J)) -> Sx(+pi/2) -> Iy(+pi/2) -> 2IzSz(aka delay(1/2J)) -> Sy(+pi/2) -> Ix(pi) -> Sx(pi) -> Sx(pi/2) -> 2IzSz(aka delay(1/2J)) -> Sy(-pi/2)"
     ]
    }
   ],
   "source": [
    "ncx_p2_00 = PulseSequence(\"NCX-P2(00)\")\\\n",
    "            .add_seq(p2_00)\\\n",
    "            .add_seq(ncx)\n",
    "ncx_p2_00.print_sequence()"
   ]
  },
  {
   "cell_type": "code",
   "execution_count": 83,
   "metadata": {},
   "outputs": [
    {
     "data": {
      "text/latex": [
       "Quantum object: dims = [[2, 2], [2, 2]], shape = (4, 4), type = oper, isherm = False $ \\\\ \\left(\\begin{matrix}0.0 & 0.0 & 0.0 & 1.0j\\\\-1.0j & 0.0 & 0.0 & 0.0\\\\0.0 & 1.0j & 0.0 & 0.0\\\\0.0 & 0.0 & -1.0j & 0.0\\\\\\end{matrix}\\right)$"
      ],
      "text/plain": [
       "Quantum object: dims = [[2, 2], [2, 2]], shape = (4, 4), type = oper, isherm = False\n",
       "Qobj data =\n",
       "[[0.+0.j 0.+0.j 0.+0.j 0.+1.j]\n",
       " [0.-1.j 0.+0.j 0.+0.j 0.+0.j]\n",
       " [0.+0.j 0.+1.j 0.+0.j 0.+0.j]\n",
       " [0.+0.j 0.+0.j 0.-1.j 0.+0.j]]"
      ]
     },
     "execution_count": 83,
     "metadata": {},
     "output_type": "execute_result"
    }
   ],
   "source": [
    "np.exp(+1j*np.pi/4)*ncx_p2_00.compile().get_operator()"
   ]
  },
  {
   "cell_type": "code",
   "execution_count": 84,
   "metadata": {},
   "outputs": [
    {
     "data": {
      "text/latex": [
       "Quantum object: dims = [[2, 2], [2, 2]], shape = (4, 4), type = oper, isherm = True $ \\\\ \\left(\\begin{matrix}-1.0 & 0.0 & 0.0 & 0.0\\\\0.0 & 1.0 & 0.0 & 0.0\\\\0.0 & 0.0 & 0.600 & 0.0\\\\0.0 & 0.0 & 0.0 & -0.600\\\\\\end{matrix}\\right)$"
      ],
      "text/plain": [
       "Quantum object: dims = [[2, 2], [2, 2]], shape = (4, 4), type = oper, isherm = True\n",
       "Qobj data =\n",
       "[[-1.   0.   0.   0. ]\n",
       " [ 0.   1.   0.   0. ]\n",
       " [ 0.   0.   0.6  0. ]\n",
       " [ 0.   0.   0.  -0.6]]"
      ]
     },
     "execution_count": 84,
     "metadata": {},
     "output_type": "execute_result"
    }
   ],
   "source": [
    "ncx_p2_rho00 = ncx_p2_00.compile().evolve_pho(pho_th)\n",
    "ncx_p2_rho00.rho"
   ]
  },
  {
   "cell_type": "code",
   "execution_count": 85,
   "metadata": {},
   "outputs": [
    {
     "name": "stdout",
     "output_type": "stream",
     "text": [
      "H spectrum\n",
      "Peak1 at 4.7364 ppm with integral=(-1.6+0j)\n",
      "Peak2 at 8.1836 ppm with integral=(1.6+0j)\n",
      "C spectrum\n",
      "Peak1 @ 66.4751 ppm with integral=(-2+0j)\n",
      "Peak2 @ 80.1869 ppm with integral=(1+0j)\n"
     ]
    }
   ],
   "source": [
    "ncx_p2_rho00.h_spectrum()\n",
    "ncx_p2_rho00.c_spectrum()"
   ]
  },
  {
   "cell_type": "code",
   "execution_count": null,
   "metadata": {},
   "outputs": [],
   "source": []
  },
  {
   "cell_type": "markdown",
   "metadata": {},
   "source": [
    "#### Part A.2.4 : Calculate temporal average for NCX(|00>)"
   ]
  },
  {
   "cell_type": "code",
   "execution_count": 86,
   "metadata": {},
   "outputs": [
    {
     "data": {
      "text/latex": [
       "Quantum object: dims = [[2, 2], [2, 2]], shape = (4, 4), type = oper, isherm = True $ \\\\ \\left(\\begin{matrix}-1.0 & 0.0 & 0.0 & 0.0\\\\0.0 & 0.333 & 0.0 & 0.0\\\\0.0 & 0.0 & 0.333 & 0.0\\\\0.0 & 0.0 & 0.0 & 0.333\\\\\\end{matrix}\\right)$"
      ],
      "text/plain": [
       "Quantum object: dims = [[2, 2], [2, 2]], shape = (4, 4), type = oper, isherm = True\n",
       "Qobj data =\n",
       "[[-1.          0.          0.          0.        ]\n",
       " [ 0.          0.33333333  0.          0.        ]\n",
       " [ 0.          0.          0.33333333  0.        ]\n",
       " [ 0.          0.          0.          0.33333333]]"
      ]
     },
     "execution_count": 86,
     "metadata": {},
     "output_type": "execute_result"
    }
   ],
   "source": [
    "(ncx_p0_rho00.rho + ncx_p1_rho00.rho + ncx_p2_rho00.rho)/3"
   ]
  },
  {
   "cell_type": "markdown",
   "metadata": {},
   "source": [
    "### Part A.3: CX gate simulation for |00> -- TODO"
   ]
  },
  {
   "cell_type": "markdown",
   "metadata": {},
   "source": [
    "## Part(B) : |01> state\n",
    "- B.1 : State Preparation\n",
    "- B.2 : NCX gate\n",
    "- B.3 : CX gate"
   ]
  },
  {
   "cell_type": "markdown",
   "metadata": {},
   "source": [
    "### Part B.1 : State Preparation : |01>"
   ]
  },
  {
   "cell_type": "markdown",
   "metadata": {},
   "source": [
    "#### Part B.1.1 : P0 simulation for |01>"
   ]
  },
  {
   "cell_type": "code",
   "execution_count": 87,
   "metadata": {},
   "outputs": [
    {
     "name": "stdout",
     "output_type": "stream",
     "text": [
      "P0(00) Pulse Sequence: Ix(pi)"
     ]
    }
   ],
   "source": [
    "p0_01 = PulseSequence(\"P0(00)\")\\\n",
    "        .add(X_i)\n",
    "p0_01.print_sequence()"
   ]
  },
  {
   "cell_type": "code",
   "execution_count": 88,
   "metadata": {},
   "outputs": [
    {
     "data": {
      "text/latex": [
       "Quantum object: dims = [[2, 2], [2, 2]], shape = (4, 4), type = oper, isherm = False $ \\\\ \\left(\\begin{matrix}0.0 & 0.0 & -1.0j & 0.0\\\\0.0 & 0.0 & 0.0 & -1.0j\\\\-1.0j & 0.0 & 0.0 & 0.0\\\\0.0 & -1.0j & 0.0 & 0.0\\\\\\end{matrix}\\right)$"
      ],
      "text/plain": [
       "Quantum object: dims = [[2, 2], [2, 2]], shape = (4, 4), type = oper, isherm = False\n",
       "Qobj data =\n",
       "[[0.+0.j 0.+0.j 0.-1.j 0.+0.j]\n",
       " [0.+0.j 0.+0.j 0.+0.j 0.-1.j]\n",
       " [0.-1.j 0.+0.j 0.+0.j 0.+0.j]\n",
       " [0.+0.j 0.-1.j 0.+0.j 0.+0.j]]"
      ]
     },
     "execution_count": 88,
     "metadata": {},
     "output_type": "execute_result"
    }
   ],
   "source": [
    "p0_01.compile().get_operator()"
   ]
  },
  {
   "cell_type": "code",
   "execution_count": 89,
   "metadata": {},
   "outputs": [
    {
     "data": {
      "text/latex": [
       "Quantum object: dims = [[2, 2], [2, 2]], shape = (4, 4), type = oper, isherm = True $ \\\\ \\left(\\begin{matrix}-0.600 & 0.0 & 0.0 & 0.0\\\\0.0 & -1.0 & 0.0 & 0.0\\\\0.0 & 0.0 & 1.0 & 0.0\\\\0.0 & 0.0 & 0.0 & 0.600\\\\\\end{matrix}\\right)$"
      ],
      "text/plain": [
       "Quantum object: dims = [[2, 2], [2, 2]], shape = (4, 4), type = oper, isherm = True\n",
       "Qobj data =\n",
       "[[-0.6  0.   0.   0. ]\n",
       " [ 0.  -1.   0.   0. ]\n",
       " [ 0.   0.   1.   0. ]\n",
       " [ 0.   0.   0.   0.6]]"
      ]
     },
     "execution_count": 89,
     "metadata": {},
     "output_type": "execute_result"
    }
   ],
   "source": [
    "p0_rho01 = p0_01.compile().evolve_pho(pho_th)\n",
    "p0_rho01.rho"
   ]
  },
  {
   "cell_type": "code",
   "execution_count": 90,
   "metadata": {},
   "outputs": [
    {
     "name": "stdout",
     "output_type": "stream",
     "text": [
      "H spectrum\n",
      "Peak1 at 4.7364 ppm with integral=(-1.6+0j)\n",
      "Peak2 at 8.1836 ppm with integral=(-1.6+0j)\n",
      "C spectrum\n",
      "Peak1 @ 66.4751 ppm with integral=0j\n",
      "Peak2 @ 80.1869 ppm with integral=0j\n"
     ]
    }
   ],
   "source": [
    "p0_rho01.h_spectrum()\n",
    "p0_rho01.c_spectrum()"
   ]
  },
  {
   "cell_type": "markdown",
   "metadata": {},
   "source": [
    "#### Part B.1.2 : P1 simulation for |01>"
   ]
  },
  {
   "cell_type": "code",
   "execution_count": 91,
   "metadata": {},
   "outputs": [
    {
     "name": "stdout",
     "output_type": "stream",
     "text": [
      "P1(01) Pulse Sequence: Sx(+pi/2) -> 2IzSz(aka delay(1/2J)) -> Sy(+pi/2) -> Ix(+pi/2) -> 2IzSz(aka delay(1/2J)) -> Iy(+pi/2) -> Ix(pi)"
     ]
    }
   ],
   "source": [
    "p1_01 = PulseSequence(\"P1(01)\")\\\n",
    "        .add_seq(p1)\\\n",
    "        .add(X_i)\n",
    "p1_01.print_sequence()"
   ]
  },
  {
   "cell_type": "code",
   "execution_count": 92,
   "metadata": {},
   "outputs": [
    {
     "data": {
      "text/latex": [
       "Quantum object: dims = [[2, 2], [2, 2]], shape = (4, 4), type = oper, isherm = False $ \\\\ \\left(\\begin{matrix}0.0 & 1.0j & 0.0 & 0.0\\\\0.0 & 0.0 & 0.0 & -1.0\\\\0.0 & 0.0 & -1.0 & 0.0\\\\-1.0j & 0.0 & 0.0 & 0.0\\\\\\end{matrix}\\right)$"
      ],
      "text/plain": [
       "Quantum object: dims = [[2, 2], [2, 2]], shape = (4, 4), type = oper, isherm = False\n",
       "Qobj data =\n",
       "[[ 0.+0.j  0.+1.j  0.+0.j  0.+0.j]\n",
       " [ 0.+0.j  0.+0.j  0.+0.j -1.+0.j]\n",
       " [ 0.+0.j  0.+0.j -1.+0.j  0.+0.j]\n",
       " [ 0.-1.j  0.+0.j  0.+0.j  0.+0.j]]"
      ]
     },
     "execution_count": 92,
     "metadata": {},
     "output_type": "execute_result"
    }
   ],
   "source": [
    "p1_01.compile().get_operator()"
   ]
  },
  {
   "cell_type": "code",
   "execution_count": 93,
   "metadata": {},
   "outputs": [
    {
     "data": {
      "text/latex": [
       "Quantum object: dims = [[2, 2], [2, 2]], shape = (4, 4), type = oper, isherm = True $ \\\\ \\left(\\begin{matrix}0.600 & 0.0 & 0.0 & 0.0\\\\0.0 & -1.0 & 0.0 & 0.0\\\\0.0 & 0.0 & -0.600 & 0.0\\\\0.0 & 0.0 & 0.0 & 1.0\\\\\\end{matrix}\\right)$"
      ],
      "text/plain": [
       "Quantum object: dims = [[2, 2], [2, 2]], shape = (4, 4), type = oper, isherm = True\n",
       "Qobj data =\n",
       "[[ 0.6  0.   0.   0. ]\n",
       " [ 0.  -1.   0.   0. ]\n",
       " [ 0.   0.  -0.6  0. ]\n",
       " [ 0.   0.   0.   1. ]]"
      ]
     },
     "execution_count": 93,
     "metadata": {},
     "output_type": "execute_result"
    }
   ],
   "source": [
    "p1_rho01 = p1_01.compile().evolve_pho(pho_th)\n",
    "p1_rho01.rho"
   ]
  },
  {
   "cell_type": "code",
   "execution_count": 94,
   "metadata": {},
   "outputs": [
    {
     "name": "stdout",
     "output_type": "stream",
     "text": [
      "H spectrum\n",
      "Peak1 at 4.7364 ppm with integral=(1.2+0j)\n",
      "Peak2 at 8.1836 ppm with integral=(-2+0j)\n",
      "C spectrum\n",
      "Peak1 @ 66.4751 ppm with integral=(2+0j)\n",
      "Peak2 @ 80.1869 ppm with integral=(-2+0j)\n"
     ]
    }
   ],
   "source": [
    "p1_rho01.h_spectrum()\n",
    "p1_rho01.c_spectrum()"
   ]
  },
  {
   "cell_type": "markdown",
   "metadata": {},
   "source": [
    "#### Part B.1.3 : P2 simulation for |01>"
   ]
  },
  {
   "cell_type": "code",
   "execution_count": 95,
   "metadata": {},
   "outputs": [
    {
     "name": "stdout",
     "output_type": "stream",
     "text": [
      "P2(01) Pulse Sequence: Ix(+pi/2) -> 2IzSz(aka delay(1/2J)) -> Sx(+pi/2) -> Iy(+pi/2) -> 2IzSz(aka delay(1/2J)) -> Sy(+pi/2) -> Ix(pi)"
     ]
    }
   ],
   "source": [
    "p2_01 = PulseSequence(\"P2(01)\")\\\n",
    "        .add_seq(p2)\\\n",
    "        .add(X_i)\n",
    "p2_01.print_sequence()"
   ]
  },
  {
   "cell_type": "code",
   "execution_count": 96,
   "metadata": {},
   "outputs": [
    {
     "data": {
      "text/latex": [
       "Quantum object: dims = [[2, 2], [2, 2]], shape = (4, 4), type = oper, isherm = False $ \\\\ \\left(\\begin{matrix}-1.0j & 0.0 & 0.0 & 0.0\\\\0.0 & 0.0 & 0.0 & -1.0\\\\0.0 & -1.0 & 0.0 & 0.0\\\\0.0 & 0.0 & 1.0j & 0.0\\\\\\end{matrix}\\right)$"
      ],
      "text/plain": [
       "Quantum object: dims = [[2, 2], [2, 2]], shape = (4, 4), type = oper, isherm = False\n",
       "Qobj data =\n",
       "[[ 0.-1.j  0.+0.j  0.+0.j  0.+0.j]\n",
       " [ 0.+0.j  0.+0.j  0.+0.j -1.+0.j]\n",
       " [ 0.+0.j -1.+0.j  0.+0.j  0.+0.j]\n",
       " [ 0.+0.j  0.+0.j  0.+1.j  0.+0.j]]"
      ]
     },
     "execution_count": 96,
     "metadata": {},
     "output_type": "execute_result"
    }
   ],
   "source": [
    "p2_01.compile().get_operator()"
   ]
  },
  {
   "cell_type": "code",
   "execution_count": 97,
   "metadata": {},
   "outputs": [
    {
     "data": {
      "text/latex": [
       "Quantum object: dims = [[2, 2], [2, 2]], shape = (4, 4), type = oper, isherm = True $ \\\\ \\left(\\begin{matrix}1.0 & 0.0 & 0.0 & 0.0\\\\0.0 & -1.0 & 0.0 & 0.0\\\\0.0 & 0.0 & 0.600 & 0.0\\\\0.0 & 0.0 & 0.0 & -0.600\\\\\\end{matrix}\\right)$"
      ],
      "text/plain": [
       "Quantum object: dims = [[2, 2], [2, 2]], shape = (4, 4), type = oper, isherm = True\n",
       "Qobj data =\n",
       "[[ 1.   0.   0.   0. ]\n",
       " [ 0.  -1.   0.   0. ]\n",
       " [ 0.   0.   0.6  0. ]\n",
       " [ 0.   0.   0.  -0.6]]"
      ]
     },
     "execution_count": 97,
     "metadata": {},
     "output_type": "execute_result"
    }
   ],
   "source": [
    "p2_rho01 = p2_01.compile().evolve_pho(pho_th)\n",
    "p2_rho01.rho"
   ]
  },
  {
   "cell_type": "code",
   "execution_count": 98,
   "metadata": {},
   "outputs": [
    {
     "name": "stdout",
     "output_type": "stream",
     "text": [
      "H spectrum\n",
      "Peak1 at 4.7364 ppm with integral=(0.4+0j)\n",
      "Peak2 at 8.1836 ppm with integral=(-0.4+0j)\n",
      "C spectrum\n",
      "Peak1 @ 66.4751 ppm with integral=(2+0j)\n",
      "Peak2 @ 80.1869 ppm with integral=(1+0j)\n"
     ]
    }
   ],
   "source": [
    "p2_rho01.h_spectrum()\n",
    "p2_rho01.c_spectrum()"
   ]
  },
  {
   "cell_type": "markdown",
   "metadata": {},
   "source": [
    "#### Part B.1.4 : Calculate temporal average for |01>"
   ]
  },
  {
   "cell_type": "code",
   "execution_count": 99,
   "metadata": {},
   "outputs": [
    {
     "data": {
      "text/latex": [
       "Quantum object: dims = [[2, 2], [2, 2]], shape = (4, 4), type = oper, isherm = True $ \\\\ \\left(\\begin{matrix}0.333 & 0.0 & 0.0 & 0.0\\\\0.0 & -1.0 & 0.0 & 0.0\\\\0.0 & 0.0 & 0.333 & 0.0\\\\0.0 & 0.0 & 0.0 & 0.333\\\\\\end{matrix}\\right)$"
      ],
      "text/plain": [
       "Quantum object: dims = [[2, 2], [2, 2]], shape = (4, 4), type = oper, isherm = True\n",
       "Qobj data =\n",
       "[[ 0.33333333  0.          0.          0.        ]\n",
       " [ 0.         -1.          0.          0.        ]\n",
       " [ 0.          0.          0.33333333  0.        ]\n",
       " [ 0.          0.          0.          0.33333333]]"
      ]
     },
     "execution_count": 99,
     "metadata": {},
     "output_type": "execute_result"
    }
   ],
   "source": [
    "(p0_rho01.rho + p1_rho01.rho + p2_rho01.rho)/3"
   ]
  },
  {
   "cell_type": "code",
   "execution_count": 100,
   "metadata": {},
   "outputs": [],
   "source": [
    "# %reset_selective p2_*0*"
   ]
  },
  {
   "cell_type": "markdown",
   "metadata": {},
   "source": [
    "### Part B.2 : Near CNOT(NCX) : |01>"
   ]
  },
  {
   "cell_type": "markdown",
   "metadata": {},
   "source": [
    "#### Part B.2.1 : P0 simulation for NCX(|01>)"
   ]
  },
  {
   "cell_type": "code",
   "execution_count": 101,
   "metadata": {},
   "outputs": [
    {
     "name": "stdout",
     "output_type": "stream",
     "text": [
      "NCX P0(01) Pulse Sequence: Ix(pi) -> Sx(pi/2) -> 2IzSz(aka delay(1/2J)) -> Sy(-pi/2)"
     ]
    }
   ],
   "source": [
    "ncx_p0_01 = PulseSequence(\"NCX P0(01)\")\\\n",
    "        .add_seq(p0_01)\\\n",
    "        .add_seq(ncx)\n",
    "\n",
    "ncx_p0_01.print_sequence()"
   ]
  },
  {
   "cell_type": "code",
   "execution_count": 102,
   "metadata": {},
   "outputs": [
    {
     "data": {
      "text/latex": [
       "Quantum object: dims = [[2, 2], [2, 2]], shape = (4, 4), type = oper, isherm = False $ \\\\ \\left(\\begin{matrix}0.0 & 0.0 & (-0.707-0.707j) & 0.0\\\\0.0 & 0.0 & 0.0 & (0.707-0.707j)\\\\0.0 & (-0.707-0.707j) & 0.0 & 0.0\\\\(-0.707+0.707j) & 0.0 & 0.0 & 0.0\\\\\\end{matrix}\\right)$"
      ],
      "text/plain": [
       "Quantum object: dims = [[2, 2], [2, 2]], shape = (4, 4), type = oper, isherm = False\n",
       "Qobj data =\n",
       "[[ 0.        +0.j          0.        +0.j         -0.70710678-0.70710678j\n",
       "   0.        +0.j        ]\n",
       " [ 0.        +0.j          0.        +0.j          0.        +0.j\n",
       "   0.70710678-0.70710678j]\n",
       " [ 0.        +0.j         -0.70710678-0.70710678j  0.        +0.j\n",
       "   0.        +0.j        ]\n",
       " [-0.70710678+0.70710678j  0.        +0.j          0.        +0.j\n",
       "   0.        +0.j        ]]"
      ]
     },
     "execution_count": 102,
     "metadata": {},
     "output_type": "execute_result"
    }
   ],
   "source": [
    "ncx_p0_01.compile().get_operator()"
   ]
  },
  {
   "cell_type": "code",
   "execution_count": 103,
   "metadata": {},
   "outputs": [
    {
     "data": {
      "text/latex": [
       "Quantum object: dims = [[2, 2], [2, 2]], shape = (4, 4), type = oper, isherm = True $ \\\\ \\left(\\begin{matrix}-0.600 & 0.0 & 0.0 & 0.0\\\\0.0 & -1.0 & 0.0 & 0.0\\\\0.0 & 0.0 & 0.600 & 0.0\\\\0.0 & 0.0 & 0.0 & 1.0\\\\\\end{matrix}\\right)$"
      ],
      "text/plain": [
       "Quantum object: dims = [[2, 2], [2, 2]], shape = (4, 4), type = oper, isherm = True\n",
       "Qobj data =\n",
       "[[-0.6  0.   0.   0. ]\n",
       " [ 0.  -1.   0.   0. ]\n",
       " [ 0.   0.   0.6  0. ]\n",
       " [ 0.   0.   0.   1. ]]"
      ]
     },
     "execution_count": 103,
     "metadata": {},
     "output_type": "execute_result"
    }
   ],
   "source": [
    "ncx_p0_rho01 = ncx_p0_01.compile().evolve_pho(pho_th)\n",
    "ncx_p0_rho01.rho"
   ]
  },
  {
   "cell_type": "code",
   "execution_count": 104,
   "metadata": {},
   "outputs": [
    {
     "name": "stdout",
     "output_type": "stream",
     "text": [
      "H spectrum\n",
      "Peak1 at 4.7364 ppm with integral=(-1.2+0j)\n",
      "Peak2 at 8.1836 ppm with integral=(-2+0j)\n",
      "C spectrum\n",
      "Peak1 @ 66.4751 ppm with integral=0j\n",
      "Peak2 @ 80.1869 ppm with integral=(-0+0j)\n"
     ]
    }
   ],
   "source": [
    "ncx_p0_rho01.h_spectrum()\n",
    "ncx_p0_rho01.c_spectrum()"
   ]
  },
  {
   "cell_type": "markdown",
   "metadata": {},
   "source": [
    "#### Part B.2.2 : P1 simulation for NCX(|01>)"
   ]
  },
  {
   "cell_type": "code",
   "execution_count": 105,
   "metadata": {},
   "outputs": [
    {
     "name": "stdout",
     "output_type": "stream",
     "text": [
      "NCX P1(01) Pulse Sequence: Sx(+pi/2) -> 2IzSz(aka delay(1/2J)) -> Sy(+pi/2) -> Ix(+pi/2) -> 2IzSz(aka delay(1/2J)) -> Iy(+pi/2) -> Ix(pi) -> Sx(pi/2) -> 2IzSz(aka delay(1/2J)) -> Sy(-pi/2)"
     ]
    }
   ],
   "source": [
    "ncx_p1_01 = PulseSequence(\"NCX P1(01)\")\\\n",
    "        .add_seq(p1_01)\\\n",
    "        .add_seq(ncx)\n",
    "ncx_p1_01.print_sequence()"
   ]
  },
  {
   "cell_type": "code",
   "execution_count": 106,
   "metadata": {},
   "outputs": [
    {
     "data": {
      "text/latex": [
       "Quantum object: dims = [[2, 2], [2, 2]], shape = (4, 4), type = oper, isherm = False $ \\\\ \\left(\\begin{matrix}0.0 & (0.707+0.707j) & 0.0 & 0.0\\\\0.0 & 0.0 & 0.0 & (-0.707-0.707j)\\\\(-0.707-0.707j) & 0.0 & 0.0 & 0.0\\\\0.0 & 0.0 & (0.707+0.707j) & 0.0\\\\\\end{matrix}\\right)$"
      ],
      "text/plain": [
       "Quantum object: dims = [[2, 2], [2, 2]], shape = (4, 4), type = oper, isherm = False\n",
       "Qobj data =\n",
       "[[ 0.        +0.j          0.70710678+0.70710678j  0.        +0.j\n",
       "   0.        +0.j        ]\n",
       " [ 0.        +0.j          0.        +0.j          0.        +0.j\n",
       "  -0.70710678-0.70710678j]\n",
       " [-0.70710678-0.70710678j  0.        +0.j          0.        +0.j\n",
       "   0.        +0.j        ]\n",
       " [ 0.        +0.j          0.        +0.j          0.70710678+0.70710678j\n",
       "   0.        +0.j        ]]"
      ]
     },
     "execution_count": 106,
     "metadata": {},
     "output_type": "execute_result"
    }
   ],
   "source": [
    "ncx_p1_01.compile().get_operator()"
   ]
  },
  {
   "cell_type": "code",
   "execution_count": 107,
   "metadata": {},
   "outputs": [
    {
     "data": {
      "text/latex": [
       "Quantum object: dims = [[2, 2], [2, 2]], shape = (4, 4), type = oper, isherm = True $ \\\\ \\left(\\begin{matrix}0.600 & 0.0 & 0.0 & 0.0\\\\0.0 & -1.0 & 0.0 & 0.0\\\\0.0 & 0.0 & 1.000 & 0.0\\\\0.0 & 0.0 & 0.0 & -0.600\\\\\\end{matrix}\\right)$"
      ],
      "text/plain": [
       "Quantum object: dims = [[2, 2], [2, 2]], shape = (4, 4), type = oper, isherm = True\n",
       "Qobj data =\n",
       "[[ 0.6  0.   0.   0. ]\n",
       " [ 0.  -1.   0.   0. ]\n",
       " [ 0.   0.   1.   0. ]\n",
       " [ 0.   0.   0.  -0.6]]"
      ]
     },
     "execution_count": 107,
     "metadata": {},
     "output_type": "execute_result"
    }
   ],
   "source": [
    "ncx_p1_rho01 = ncx_p1_01.compile().evolve_pho(pho_th)\n",
    "ncx_p1_rho01.rho"
   ]
  },
  {
   "cell_type": "code",
   "execution_count": 108,
   "metadata": {},
   "outputs": [
    {
     "name": "stdout",
     "output_type": "stream",
     "text": [
      "H spectrum\n",
      "Peak1 at 4.7364 ppm with integral=(-0.4+0j)\n",
      "Peak2 at 8.1836 ppm with integral=(-0.4+0j)\n",
      "C spectrum\n",
      "Peak1 @ 66.4751 ppm with integral=(2+0j)\n",
      "Peak2 @ 80.1869 ppm with integral=(2+0j)\n"
     ]
    }
   ],
   "source": [
    "ncx_p1_rho01.h_spectrum()\n",
    "ncx_p1_rho01.c_spectrum()"
   ]
  },
  {
   "cell_type": "markdown",
   "metadata": {},
   "source": [
    "#### Part B.2.3 : P2 simulation for NCX(|01>)"
   ]
  },
  {
   "cell_type": "code",
   "execution_count": 109,
   "metadata": {},
   "outputs": [
    {
     "name": "stdout",
     "output_type": "stream",
     "text": [
      "NCX P2(01) Pulse Sequence: Ix(+pi/2) -> 2IzSz(aka delay(1/2J)) -> Sx(+pi/2) -> Iy(+pi/2) -> 2IzSz(aka delay(1/2J)) -> Sy(+pi/2) -> Ix(pi) -> Sx(pi/2) -> 2IzSz(aka delay(1/2J)) -> Sy(-pi/2)"
     ]
    }
   ],
   "source": [
    "ncx_p2_01 = PulseSequence(\"NCX P2(01)\")\\\n",
    "        .add_seq(p2_01)\\\n",
    "        .add_seq(ncx)\n",
    "ncx_p2_01.print_sequence()"
   ]
  },
  {
   "cell_type": "code",
   "execution_count": 110,
   "metadata": {},
   "outputs": [
    {
     "data": {
      "text/latex": [
       "Quantum object: dims = [[2, 2], [2, 2]], shape = (4, 4), type = oper, isherm = False $ \\\\ \\left(\\begin{matrix}(-0.707-0.707j) & 0.0 & 0.0 & 0.0\\\\0.0 & 0.0 & 0.0 & (-0.707-0.707j)\\\\0.0 & 0.0 & (0.707+0.707j) & 0.0\\\\0.0 & (0.707+0.707j) & 0.0 & 0.0\\\\\\end{matrix}\\right)$"
      ],
      "text/plain": [
       "Quantum object: dims = [[2, 2], [2, 2]], shape = (4, 4), type = oper, isherm = False\n",
       "Qobj data =\n",
       "[[-0.70710678-0.70710678j  0.        +0.j          0.        +0.j\n",
       "   0.        +0.j        ]\n",
       " [ 0.        +0.j          0.        +0.j          0.        +0.j\n",
       "  -0.70710678-0.70710678j]\n",
       " [ 0.        +0.j          0.        +0.j          0.70710678+0.70710678j\n",
       "   0.        +0.j        ]\n",
       " [ 0.        +0.j          0.70710678+0.70710678j  0.        +0.j\n",
       "   0.        +0.j        ]]"
      ]
     },
     "execution_count": 110,
     "metadata": {},
     "output_type": "execute_result"
    }
   ],
   "source": [
    "ncx_p2_01.compile().get_operator()"
   ]
  },
  {
   "cell_type": "code",
   "execution_count": 111,
   "metadata": {},
   "outputs": [
    {
     "data": {
      "text/latex": [
       "Quantum object: dims = [[2, 2], [2, 2]], shape = (4, 4), type = oper, isherm = True $ \\\\ \\left(\\begin{matrix}1.000 & 0.0 & 0.0 & 0.0\\\\0.0 & -1.0 & 0.0 & 0.0\\\\0.0 & 0.0 & -0.600 & 0.0\\\\0.0 & 0.0 & 0.0 & 0.600\\\\\\end{matrix}\\right)$"
      ],
      "text/plain": [
       "Quantum object: dims = [[2, 2], [2, 2]], shape = (4, 4), type = oper, isherm = True\n",
       "Qobj data =\n",
       "[[ 1.   0.   0.   0. ]\n",
       " [ 0.  -1.   0.   0. ]\n",
       " [ 0.   0.  -0.6  0. ]\n",
       " [ 0.   0.   0.   0.6]]"
      ]
     },
     "execution_count": 111,
     "metadata": {},
     "output_type": "execute_result"
    }
   ],
   "source": [
    "ncx_p2_rho01 = ncx_p2_01.compile().evolve_pho(pho_th)\n",
    "ncx_p2_rho01.rho"
   ]
  },
  {
   "cell_type": "code",
   "execution_count": 112,
   "metadata": {},
   "outputs": [
    {
     "name": "stdout",
     "output_type": "stream",
     "text": [
      "H spectrum\n",
      "Peak1 at 4.7364 ppm with integral=(1.6+0j)\n",
      "Peak2 at 8.1836 ppm with integral=(-1.6+0j)\n",
      "C spectrum\n",
      "Peak1 @ 66.4751 ppm with integral=(2+0j)\n",
      "Peak2 @ 80.1869 ppm with integral=(-1+0j)\n"
     ]
    }
   ],
   "source": [
    "ncx_p2_rho01.h_spectrum()\n",
    "ncx_p2_rho01.c_spectrum()"
   ]
  },
  {
   "cell_type": "markdown",
   "metadata": {},
   "source": [
    "#### Part B.2.4 : Calculate temporal average for NCX(|01>)"
   ]
  },
  {
   "cell_type": "code",
   "execution_count": 113,
   "metadata": {},
   "outputs": [
    {
     "data": {
      "text/latex": [
       "Quantum object: dims = [[2, 2], [2, 2]], shape = (4, 4), type = oper, isherm = True $ \\\\ \\left(\\begin{matrix}0.333 & 0.0 & 0.0 & 0.0\\\\0.0 & -1.0 & 0.0 & 0.0\\\\0.0 & 0.0 & 0.333 & 0.0\\\\0.0 & 0.0 & 0.0 & 0.333\\\\\\end{matrix}\\right)$"
      ],
      "text/plain": [
       "Quantum object: dims = [[2, 2], [2, 2]], shape = (4, 4), type = oper, isherm = True\n",
       "Qobj data =\n",
       "[[ 0.33333333  0.          0.          0.        ]\n",
       " [ 0.         -1.          0.          0.        ]\n",
       " [ 0.          0.          0.33333333  0.        ]\n",
       " [ 0.          0.          0.          0.33333333]]"
      ]
     },
     "execution_count": 113,
     "metadata": {},
     "output_type": "execute_result"
    }
   ],
   "source": [
    "(ncx_p0_rho01.rho + ncx_p1_rho01.rho + ncx_p2_rho01.rho)/3"
   ]
  },
  {
   "cell_type": "markdown",
   "metadata": {},
   "source": []
  },
  {
   "cell_type": "markdown",
   "metadata": {},
   "source": [
    "## Part(C) : |10> state\n",
    "- C.1 : State Preparation\n",
    "- C.2 : NCX gate\n",
    "- C.3 : CX gate"
   ]
  },
  {
   "cell_type": "markdown",
   "metadata": {},
   "source": [
    "### Part C.1 : State Preparation : |10>"
   ]
  },
  {
   "cell_type": "markdown",
   "metadata": {},
   "source": [
    "#### Part C.1.1 : P0 simulation for |10>"
   ]
  },
  {
   "cell_type": "code",
   "execution_count": 114,
   "metadata": {},
   "outputs": [
    {
     "name": "stdout",
     "output_type": "stream",
     "text": [
      "P0(10) Pulse Sequence: Sx(pi)"
     ]
    }
   ],
   "source": [
    "p0_10 = PulseSequence(\"P0(10)\")\\\n",
    "        .add(X_s)\n",
    "p0_10.print_sequence()"
   ]
  },
  {
   "cell_type": "code",
   "execution_count": 115,
   "metadata": {},
   "outputs": [
    {
     "data": {
      "text/latex": [
       "Quantum object: dims = [[2, 2], [2, 2]], shape = (4, 4), type = oper, isherm = False $ \\\\ \\left(\\begin{matrix}0.0 & -1.0j & 0.0 & 0.0\\\\-1.0j & 0.0 & 0.0 & 0.0\\\\0.0 & 0.0 & 0.0 & -1.0j\\\\0.0 & 0.0 & -1.0j & 0.0\\\\\\end{matrix}\\right)$"
      ],
      "text/plain": [
       "Quantum object: dims = [[2, 2], [2, 2]], shape = (4, 4), type = oper, isherm = False\n",
       "Qobj data =\n",
       "[[0.+0.j 0.-1.j 0.+0.j 0.+0.j]\n",
       " [0.-1.j 0.+0.j 0.+0.j 0.+0.j]\n",
       " [0.+0.j 0.+0.j 0.+0.j 0.-1.j]\n",
       " [0.+0.j 0.+0.j 0.-1.j 0.+0.j]]"
      ]
     },
     "execution_count": 115,
     "metadata": {},
     "output_type": "execute_result"
    }
   ],
   "source": [
    "p0_10.compile().get_operator()"
   ]
  },
  {
   "cell_type": "code",
   "execution_count": 116,
   "metadata": {},
   "outputs": [
    {
     "data": {
      "text/latex": [
       "Quantum object: dims = [[2, 2], [2, 2]], shape = (4, 4), type = oper, isherm = True $ \\\\ \\left(\\begin{matrix}0.600 & 0.0 & 0.0 & 0.0\\\\0.0 & 1.0 & 0.0 & 0.0\\\\0.0 & 0.0 & -1.0 & 0.0\\\\0.0 & 0.0 & 0.0 & -0.600\\\\\\end{matrix}\\right)$"
      ],
      "text/plain": [
       "Quantum object: dims = [[2, 2], [2, 2]], shape = (4, 4), type = oper, isherm = True\n",
       "Qobj data =\n",
       "[[ 0.6  0.   0.   0. ]\n",
       " [ 0.   1.   0.   0. ]\n",
       " [ 0.   0.  -1.   0. ]\n",
       " [ 0.   0.   0.  -0.6]]"
      ]
     },
     "execution_count": 116,
     "metadata": {},
     "output_type": "execute_result"
    }
   ],
   "source": [
    "p0_rho10 = p0_10.compile().evolve_pho(pho_th)\n",
    "p0_rho10.rho"
   ]
  },
  {
   "cell_type": "code",
   "execution_count": 117,
   "metadata": {},
   "outputs": [
    {
     "name": "stdout",
     "output_type": "stream",
     "text": [
      "H spectrum\n",
      "Peak1 at 4.7364 ppm with integral=(1.6+0j)\n",
      "Peak2 at 8.1836 ppm with integral=(1.6+0j)\n",
      "C spectrum\n",
      "Peak1 @ 66.4751 ppm with integral=(-0+0j)\n",
      "Peak2 @ 80.1869 ppm with integral=(-0+0j)\n"
     ]
    }
   ],
   "source": [
    "p0_rho10.h_spectrum()\n",
    "p0_rho10.c_spectrum()"
   ]
  },
  {
   "cell_type": "markdown",
   "metadata": {},
   "source": [
    "#### Part C.1.2 : P1 simulation for |10>"
   ]
  },
  {
   "cell_type": "code",
   "execution_count": 118,
   "metadata": {},
   "outputs": [
    {
     "name": "stdout",
     "output_type": "stream",
     "text": [
      "P1(10) Pulse Sequence: Sx(+pi/2) -> 2IzSz(aka delay(1/2J)) -> Sy(+pi/2) -> Ix(+pi/2) -> 2IzSz(aka delay(1/2J)) -> Iy(+pi/2) -> Sx(pi)"
     ]
    }
   ],
   "source": [
    "p1_10 = PulseSequence(\"P1(10)\")\\\n",
    "        .add_seq(p1)\\\n",
    "        .add(X_s)\n",
    "p1_10.print_sequence()"
   ]
  },
  {
   "cell_type": "code",
   "execution_count": 119,
   "metadata": {},
   "outputs": [
    {
     "data": {
      "text/latex": [
       "Quantum object: dims = [[2, 2], [2, 2]], shape = (4, 4), type = oper, isherm = False $ \\\\ \\left(\\begin{matrix}-1.0j & 0.0 & 0.0 & 0.0\\\\0.0 & 0.0 & -1.0 & 0.0\\\\0.0 & 0.0 & 0.0 & -1.0\\\\0.0 & 1.0j & 0.0 & 0.0\\\\\\end{matrix}\\right)$"
      ],
      "text/plain": [
       "Quantum object: dims = [[2, 2], [2, 2]], shape = (4, 4), type = oper, isherm = False\n",
       "Qobj data =\n",
       "[[ 0.-1.j  0.+0.j  0.+0.j  0.+0.j]\n",
       " [ 0.+0.j  0.+0.j -1.+0.j  0.+0.j]\n",
       " [ 0.+0.j  0.+0.j  0.+0.j -1.+0.j]\n",
       " [ 0.+0.j  0.+1.j  0.+0.j  0.+0.j]]"
      ]
     },
     "execution_count": 119,
     "metadata": {},
     "output_type": "execute_result"
    }
   ],
   "source": [
    "p1_10.compile().get_operator()"
   ]
  },
  {
   "cell_type": "code",
   "execution_count": 120,
   "metadata": {},
   "outputs": [
    {
     "data": {
      "text/latex": [
       "Quantum object: dims = [[2, 2], [2, 2]], shape = (4, 4), type = oper, isherm = True $ \\\\ \\left(\\begin{matrix}1.0 & 0.0 & 0.0 & 0.0\\\\0.0 & -0.600 & 0.0 & 0.0\\\\0.0 & 0.0 & -1.0 & 0.0\\\\0.0 & 0.0 & 0.0 & 0.600\\\\\\end{matrix}\\right)$"
      ],
      "text/plain": [
       "Quantum object: dims = [[2, 2], [2, 2]], shape = (4, 4), type = oper, isherm = True\n",
       "Qobj data =\n",
       "[[ 1.   0.   0.   0. ]\n",
       " [ 0.  -0.6  0.   0. ]\n",
       " [ 0.   0.  -1.   0. ]\n",
       " [ 0.   0.   0.   0.6]]"
      ]
     },
     "execution_count": 120,
     "metadata": {},
     "output_type": "execute_result"
    }
   ],
   "source": [
    "p1_rho10 = p1_10.compile().evolve_pho(pho_th)\n",
    "p1_rho10.rho"
   ]
  },
  {
   "cell_type": "code",
   "execution_count": 121,
   "metadata": {},
   "outputs": [
    {
     "name": "stdout",
     "output_type": "stream",
     "text": [
      "H spectrum\n",
      "Peak1 at 4.7364 ppm with integral=(2+0j)\n",
      "Peak2 at 8.1836 ppm with integral=(-1.2+0j)\n",
      "C spectrum\n",
      "Peak1 @ 66.4751 ppm with integral=(2+0j)\n",
      "Peak2 @ 80.1869 ppm with integral=(-2+0j)\n"
     ]
    }
   ],
   "source": [
    "p1_rho10.h_spectrum()\n",
    "p1_rho10.c_spectrum()"
   ]
  },
  {
   "cell_type": "markdown",
   "metadata": {},
   "source": [
    "#### Part C.1.3 : P2 simulation for |10>"
   ]
  },
  {
   "cell_type": "code",
   "execution_count": 122,
   "metadata": {},
   "outputs": [
    {
     "name": "stdout",
     "output_type": "stream",
     "text": [
      "P2(10) Pulse Sequence: Ix(+pi/2) -> 2IzSz(aka delay(1/2J)) -> Sx(+pi/2) -> Iy(+pi/2) -> 2IzSz(aka delay(1/2J)) -> Sy(+pi/2) -> Sx(pi)"
     ]
    }
   ],
   "source": [
    "p2_10 = PulseSequence(\"P2(10)\")\\\n",
    "        .add_seq(p2)\\\n",
    "        .add(X_s)\n",
    "p2_10.print_sequence()"
   ]
  },
  {
   "cell_type": "code",
   "execution_count": 123,
   "metadata": {},
   "outputs": [
    {
     "data": {
      "text/latex": [
       "Quantum object: dims = [[2, 2], [2, 2]], shape = (4, 4), type = oper, isherm = False $ \\\\ \\left(\\begin{matrix}0.0 & 0.0 & 1.0j & 0.0\\\\0.0 & -1.0 & 0.0 & 0.0\\\\0.0 & 0.0 & 0.0 & -1.0\\\\-1.0j & 0.0 & 0.0 & 0.0\\\\\\end{matrix}\\right)$"
      ],
      "text/plain": [
       "Quantum object: dims = [[2, 2], [2, 2]], shape = (4, 4), type = oper, isherm = False\n",
       "Qobj data =\n",
       "[[ 0.+0.j  0.+0.j  0.+1.j  0.+0.j]\n",
       " [ 0.+0.j -1.+0.j  0.+0.j  0.+0.j]\n",
       " [ 0.+0.j  0.+0.j  0.+0.j -1.+0.j]\n",
       " [ 0.-1.j  0.+0.j  0.+0.j  0.+0.j]]"
      ]
     },
     "execution_count": 123,
     "metadata": {},
     "output_type": "execute_result"
    }
   ],
   "source": [
    "p2_10.compile().get_operator()"
   ]
  },
  {
   "cell_type": "code",
   "execution_count": 124,
   "metadata": {},
   "outputs": [
    {
     "data": {
      "text/latex": [
       "Quantum object: dims = [[2, 2], [2, 2]], shape = (4, 4), type = oper, isherm = True $ \\\\ \\left(\\begin{matrix}-0.600 & 0.0 & 0.0 & 0.0\\\\0.0 & 0.600 & 0.0 & 0.0\\\\0.0 & 0.0 & -1.0 & 0.0\\\\0.0 & 0.0 & 0.0 & 1.0\\\\\\end{matrix}\\right)$"
      ],
      "text/plain": [
       "Quantum object: dims = [[2, 2], [2, 2]], shape = (4, 4), type = oper, isherm = True\n",
       "Qobj data =\n",
       "[[-0.6  0.   0.   0. ]\n",
       " [ 0.   0.6  0.   0. ]\n",
       " [ 0.   0.  -1.   0. ]\n",
       " [ 0.   0.   0.   1. ]]"
      ]
     },
     "execution_count": 124,
     "metadata": {},
     "output_type": "execute_result"
    }
   ],
   "source": [
    "p2_rho10 = p2_10.compile().evolve_pho(pho_th)\n",
    "p2_rho10.rho"
   ]
  },
  {
   "cell_type": "code",
   "execution_count": 125,
   "metadata": {},
   "outputs": [
    {
     "name": "stdout",
     "output_type": "stream",
     "text": [
      "H spectrum\n",
      "Peak1 at 4.7364 ppm with integral=(0.4+0j)\n",
      "Peak2 at 8.1836 ppm with integral=(-0.4+0j)\n",
      "C spectrum\n",
      "Peak1 @ 66.4751 ppm with integral=(-1+0j)\n",
      "Peak2 @ 80.1869 ppm with integral=(-2+0j)\n"
     ]
    }
   ],
   "source": [
    "p2_rho10.h_spectrum()\n",
    "p2_rho10.c_spectrum()"
   ]
  },
  {
   "cell_type": "markdown",
   "metadata": {},
   "source": [
    "#### Part C.1.4 : Calculate temporal average for |10>"
   ]
  },
  {
   "cell_type": "code",
   "execution_count": 126,
   "metadata": {},
   "outputs": [
    {
     "data": {
      "text/latex": [
       "Quantum object: dims = [[2, 2], [2, 2]], shape = (4, 4), type = oper, isherm = True $ \\\\ \\left(\\begin{matrix}0.333 & 0.0 & 0.0 & 0.0\\\\0.0 & 0.333 & 0.0 & 0.0\\\\0.0 & 0.0 & -1.0 & 0.0\\\\0.0 & 0.0 & 0.0 & 0.333\\\\\\end{matrix}\\right)$"
      ],
      "text/plain": [
       "Quantum object: dims = [[2, 2], [2, 2]], shape = (4, 4), type = oper, isherm = True\n",
       "Qobj data =\n",
       "[[ 0.33333333  0.          0.          0.        ]\n",
       " [ 0.          0.33333333  0.          0.        ]\n",
       " [ 0.          0.         -1.          0.        ]\n",
       " [ 0.          0.          0.          0.33333333]]"
      ]
     },
     "execution_count": 126,
     "metadata": {},
     "output_type": "execute_result"
    }
   ],
   "source": [
    "(p0_rho10.rho + p1_rho10.rho + p2_rho10.rho)/3"
   ]
  },
  {
   "cell_type": "markdown",
   "metadata": {},
   "source": [
    "### Part C.2 : Near CNOT(NCX) : |10>"
   ]
  },
  {
   "cell_type": "markdown",
   "metadata": {},
   "source": [
    "#### Part C.2.1 : P0 simulation for NCX(|10>)"
   ]
  },
  {
   "cell_type": "code",
   "execution_count": 127,
   "metadata": {},
   "outputs": [
    {
     "name": "stdout",
     "output_type": "stream",
     "text": [
      "NCX P0(10) Pulse Sequence: Sx(pi) -> Sx(pi/2) -> 2IzSz(aka delay(1/2J)) -> Sy(-pi/2)"
     ]
    }
   ],
   "source": [
    "ncx_p0_10 = PulseSequence(\"NCX P0(10)\")\\\n",
    "        .add_seq(p0_10)\\\n",
    "        .add_seq(ncx)\n",
    "\n",
    "ncx_p0_10.print_sequence()"
   ]
  },
  {
   "cell_type": "code",
   "execution_count": 128,
   "metadata": {},
   "outputs": [
    {
     "data": {
      "text/latex": [
       "Quantum object: dims = [[2, 2], [2, 2]], shape = (4, 4), type = oper, isherm = False $ \\\\ \\left(\\begin{matrix}0.0 & (-0.707-0.707j) & 0.0 & 0.0\\\\(0.707-0.707j) & 0.0 & 0.0 & 0.0\\\\0.0 & 0.0 & (-0.707-0.707j) & 0.0\\\\0.0 & 0.0 & 0.0 & (-0.707+0.707j)\\\\\\end{matrix}\\right)$"
      ],
      "text/plain": [
       "Quantum object: dims = [[2, 2], [2, 2]], shape = (4, 4), type = oper, isherm = False\n",
       "Qobj data =\n",
       "[[ 0.        +0.j         -0.70710678-0.70710678j  0.        +0.j\n",
       "   0.        +0.j        ]\n",
       " [ 0.70710678-0.70710678j  0.        +0.j          0.        +0.j\n",
       "   0.        +0.j        ]\n",
       " [ 0.        +0.j          0.        +0.j         -0.70710678-0.70710678j\n",
       "   0.        +0.j        ]\n",
       " [ 0.        +0.j          0.        +0.j          0.        +0.j\n",
       "  -0.70710678+0.70710678j]]"
      ]
     },
     "execution_count": 128,
     "metadata": {},
     "output_type": "execute_result"
    }
   ],
   "source": [
    "ncx_p0_10.compile().get_operator()"
   ]
  },
  {
   "cell_type": "code",
   "execution_count": 129,
   "metadata": {},
   "outputs": [
    {
     "data": {
      "text/latex": [
       "Quantum object: dims = [[2, 2], [2, 2]], shape = (4, 4), type = oper, isherm = True $ \\\\ \\left(\\begin{matrix}0.600 & 0.0 & 0.0 & 0.0\\\\0.0 & 1.0 & 0.0 & 0.0\\\\0.0 & 0.0 & -0.600 & 0.0\\\\0.0 & 0.0 & 0.0 & -1.0\\\\\\end{matrix}\\right)$"
      ],
      "text/plain": [
       "Quantum object: dims = [[2, 2], [2, 2]], shape = (4, 4), type = oper, isherm = True\n",
       "Qobj data =\n",
       "[[ 0.6  0.   0.   0. ]\n",
       " [ 0.   1.   0.   0. ]\n",
       " [ 0.   0.  -0.6  0. ]\n",
       " [ 0.   0.   0.  -1. ]]"
      ]
     },
     "execution_count": 129,
     "metadata": {},
     "output_type": "execute_result"
    }
   ],
   "source": [
    "ncx_p0_rho10 = ncx_p0_10.compile().evolve_pho(pho_th)\n",
    "ncx_p0_rho10.rho"
   ]
  },
  {
   "cell_type": "code",
   "execution_count": 130,
   "metadata": {},
   "outputs": [
    {
     "name": "stdout",
     "output_type": "stream",
     "text": [
      "H spectrum\n",
      "Peak1 at 4.7364 ppm with integral=(1.2+0j)\n",
      "Peak2 at 8.1836 ppm with integral=(2+0j)\n",
      "C spectrum\n",
      "Peak1 @ 66.4751 ppm with integral=(-0+0j)\n",
      "Peak2 @ 80.1869 ppm with integral=0j\n"
     ]
    }
   ],
   "source": [
    "ncx_p0_rho10.h_spectrum()\n",
    "ncx_p0_rho10.c_spectrum()"
   ]
  },
  {
   "cell_type": "markdown",
   "metadata": {},
   "source": [
    "#### Part C.2.2 : P1 simulation for NCX(|10>)"
   ]
  },
  {
   "cell_type": "code",
   "execution_count": 131,
   "metadata": {},
   "outputs": [
    {
     "name": "stdout",
     "output_type": "stream",
     "text": [
      "NCX P1(10) Pulse Sequence: Sx(+pi/2) -> 2IzSz(aka delay(1/2J)) -> Sy(+pi/2) -> Ix(+pi/2) -> 2IzSz(aka delay(1/2J)) -> Iy(+pi/2) -> Sx(pi) -> Sx(pi/2) -> 2IzSz(aka delay(1/2J)) -> Sy(-pi/2)"
     ]
    }
   ],
   "source": [
    "ncx_p1_10 = PulseSequence(\"NCX P1(10)\")\\\n",
    "        .add_seq(p1_10)\\\n",
    "        .add_seq(ncx)\n",
    "ncx_p1_10.print_sequence()"
   ]
  },
  {
   "cell_type": "code",
   "execution_count": 132,
   "metadata": {},
   "outputs": [
    {
     "data": {
      "text/latex": [
       "Quantum object: dims = [[2, 2], [2, 2]], shape = (4, 4), type = oper, isherm = False $ \\\\ \\left(\\begin{matrix}(-0.707-0.707j) & 0.0 & 0.0 & 0.0\\\\0.0 & 0.0 & (-0.707-0.707j) & 0.0\\\\0.0 & (0.707+0.707j) & 0.0 & 0.0\\\\0.0 & 0.0 & 0.0 & (0.707+0.707j)\\\\\\end{matrix}\\right)$"
      ],
      "text/plain": [
       "Quantum object: dims = [[2, 2], [2, 2]], shape = (4, 4), type = oper, isherm = False\n",
       "Qobj data =\n",
       "[[-0.70710678-0.70710678j  0.        +0.j          0.        +0.j\n",
       "   0.        +0.j        ]\n",
       " [ 0.        +0.j          0.        +0.j         -0.70710678-0.70710678j\n",
       "   0.        +0.j        ]\n",
       " [ 0.        +0.j          0.70710678+0.70710678j  0.        +0.j\n",
       "   0.        +0.j        ]\n",
       " [ 0.        +0.j          0.        +0.j          0.        +0.j\n",
       "   0.70710678+0.70710678j]]"
      ]
     },
     "execution_count": 132,
     "metadata": {},
     "output_type": "execute_result"
    }
   ],
   "source": [
    "ncx_p1_10.compile().get_operator()"
   ]
  },
  {
   "cell_type": "code",
   "execution_count": 133,
   "metadata": {},
   "outputs": [
    {
     "data": {
      "text/latex": [
       "Quantum object: dims = [[2, 2], [2, 2]], shape = (4, 4), type = oper, isherm = True $ \\\\ \\left(\\begin{matrix}1.000 & 0.0 & 0.0 & 0.0\\\\0.0 & -0.600 & 0.0 & 0.0\\\\0.0 & 0.0 & 0.600 & 0.0\\\\0.0 & 0.0 & 0.0 & -1.0\\\\\\end{matrix}\\right)$"
      ],
      "text/plain": [
       "Quantum object: dims = [[2, 2], [2, 2]], shape = (4, 4), type = oper, isherm = True\n",
       "Qobj data =\n",
       "[[ 1.   0.   0.   0. ]\n",
       " [ 0.  -0.6  0.   0. ]\n",
       " [ 0.   0.   0.6  0. ]\n",
       " [ 0.   0.   0.  -1. ]]"
      ]
     },
     "execution_count": 133,
     "metadata": {},
     "output_type": "execute_result"
    }
   ],
   "source": [
    "ncx_p1_rho10 = ncx_p1_10.compile().evolve_pho(pho_th)\n",
    "ncx_p1_rho10.rho"
   ]
  },
  {
   "cell_type": "code",
   "execution_count": 134,
   "metadata": {},
   "outputs": [
    {
     "name": "stdout",
     "output_type": "stream",
     "text": [
      "H spectrum\n",
      "Peak1 at 4.7364 ppm with integral=(0.4+0j)\n",
      "Peak2 at 8.1836 ppm with integral=(0.4+0j)\n",
      "C spectrum\n",
      "Peak1 @ 66.4751 ppm with integral=(2+0j)\n",
      "Peak2 @ 80.1869 ppm with integral=(2+0j)\n"
     ]
    }
   ],
   "source": [
    "ncx_p1_rho10.h_spectrum()\n",
    "ncx_p1_rho10.c_spectrum()"
   ]
  },
  {
   "cell_type": "markdown",
   "metadata": {},
   "source": [
    "#### Part C.2.3 : P2 simulation for NCX(|10>)"
   ]
  },
  {
   "cell_type": "code",
   "execution_count": 135,
   "metadata": {},
   "outputs": [
    {
     "name": "stdout",
     "output_type": "stream",
     "text": [
      "NCX P2(10) Pulse Sequence: Ix(+pi/2) -> 2IzSz(aka delay(1/2J)) -> Sx(+pi/2) -> Iy(+pi/2) -> 2IzSz(aka delay(1/2J)) -> Sy(+pi/2) -> Sx(pi) -> Sx(pi/2) -> 2IzSz(aka delay(1/2J)) -> Sy(-pi/2)"
     ]
    }
   ],
   "source": [
    "ncx_p2_10 = PulseSequence(\"NCX P2(10)\")\\\n",
    "        .add_seq(p2_10)\\\n",
    "        .add_seq(ncx)\n",
    "ncx_p2_10.print_sequence()"
   ]
  },
  {
   "cell_type": "code",
   "execution_count": 136,
   "metadata": {},
   "outputs": [
    {
     "data": {
      "text/latex": [
       "Quantum object: dims = [[2, 2], [2, 2]], shape = (4, 4), type = oper, isherm = False $ \\\\ \\left(\\begin{matrix}0.0 & 0.0 & (0.707+0.707j) & 0.0\\\\0.0 & (-0.707-0.707j) & 0.0 & 0.0\\\\(-0.707-0.707j) & 0.0 & 0.0 & 0.0\\\\0.0 & 0.0 & 0.0 & (0.707+0.707j)\\\\\\end{matrix}\\right)$"
      ],
      "text/plain": [
       "Quantum object: dims = [[2, 2], [2, 2]], shape = (4, 4), type = oper, isherm = False\n",
       "Qobj data =\n",
       "[[ 0.        +0.j          0.        +0.j          0.70710678+0.70710678j\n",
       "   0.        +0.j        ]\n",
       " [ 0.        +0.j         -0.70710678-0.70710678j  0.        +0.j\n",
       "   0.        +0.j        ]\n",
       " [-0.70710678-0.70710678j  0.        +0.j          0.        +0.j\n",
       "   0.        +0.j        ]\n",
       " [ 0.        +0.j          0.        +0.j          0.        +0.j\n",
       "   0.70710678+0.70710678j]]"
      ]
     },
     "execution_count": 136,
     "metadata": {},
     "output_type": "execute_result"
    }
   ],
   "source": [
    "ncx_p2_10.compile().get_operator()"
   ]
  },
  {
   "cell_type": "code",
   "execution_count": 137,
   "metadata": {},
   "outputs": [
    {
     "data": {
      "text/latex": [
       "Quantum object: dims = [[2, 2], [2, 2]], shape = (4, 4), type = oper, isherm = True $ \\\\ \\left(\\begin{matrix}-0.600 & 0.0 & 0.0 & 0.0\\\\0.0 & 0.600 & 0.0 & 0.0\\\\0.0 & 0.0 & 1.000 & 0.0\\\\0.0 & 0.0 & 0.0 & -1.0\\\\\\end{matrix}\\right)$"
      ],
      "text/plain": [
       "Quantum object: dims = [[2, 2], [2, 2]], shape = (4, 4), type = oper, isherm = True\n",
       "Qobj data =\n",
       "[[-0.6  0.   0.   0. ]\n",
       " [ 0.   0.6  0.   0. ]\n",
       " [ 0.   0.   1.   0. ]\n",
       " [ 0.   0.   0.  -1. ]]"
      ]
     },
     "execution_count": 137,
     "metadata": {},
     "output_type": "execute_result"
    }
   ],
   "source": [
    "ncx_p2_rho10 = ncx_p2_10.compile().evolve_pho(pho_th)\n",
    "ncx_p2_rho10.rho"
   ]
  },
  {
   "cell_type": "code",
   "execution_count": 138,
   "metadata": {},
   "outputs": [
    {
     "name": "stdout",
     "output_type": "stream",
     "text": [
      "H spectrum\n",
      "Peak1 at 4.7364 ppm with integral=(-1.6+0j)\n",
      "Peak2 at 8.1836 ppm with integral=(1.6+0j)\n",
      "C spectrum\n",
      "Peak1 @ 66.4751 ppm with integral=(-1+0j)\n",
      "Peak2 @ 80.1869 ppm with integral=(2+0j)\n"
     ]
    }
   ],
   "source": [
    "ncx_p2_rho10.h_spectrum()\n",
    "ncx_p2_rho10.c_spectrum()"
   ]
  },
  {
   "cell_type": "markdown",
   "metadata": {},
   "source": [
    "#### Part C.2.4 : Calculate temporal average for NCX(|10>)"
   ]
  },
  {
   "cell_type": "code",
   "execution_count": 139,
   "metadata": {},
   "outputs": [
    {
     "data": {
      "text/latex": [
       "Quantum object: dims = [[2, 2], [2, 2]], shape = (4, 4), type = oper, isherm = True $ \\\\ \\left(\\begin{matrix}0.333 & 0.0 & 0.0 & 0.0\\\\0.0 & 0.333 & 0.0 & 0.0\\\\0.0 & 0.0 & 0.333 & 0.0\\\\0.0 & 0.0 & 0.0 & -1.0\\\\\\end{matrix}\\right)$"
      ],
      "text/plain": [
       "Quantum object: dims = [[2, 2], [2, 2]], shape = (4, 4), type = oper, isherm = True\n",
       "Qobj data =\n",
       "[[ 0.33333333  0.          0.          0.        ]\n",
       " [ 0.          0.33333333  0.          0.        ]\n",
       " [ 0.          0.          0.33333333  0.        ]\n",
       " [ 0.          0.          0.         -1.        ]]"
      ]
     },
     "execution_count": 139,
     "metadata": {},
     "output_type": "execute_result"
    }
   ],
   "source": [
    "(ncx_p0_rho10.rho + ncx_p1_rho10.rho + ncx_p2_rho10.rho)/3"
   ]
  },
  {
   "cell_type": "markdown",
   "metadata": {},
   "source": [
    "## Part(D) : |11> state\n",
    "- D.1 : State Preparation\n",
    "- D.2 : NCX gate\n",
    "- D.3 : CX gate"
   ]
  },
  {
   "cell_type": "markdown",
   "metadata": {},
   "source": [
    "### Part D.1 : State Preparation : |11>"
   ]
  },
  {
   "cell_type": "markdown",
   "metadata": {},
   "source": [
    "#### Part D.1.1 : P0 simulation for |11>"
   ]
  },
  {
   "cell_type": "code",
   "execution_count": 140,
   "metadata": {},
   "outputs": [
    {
     "name": "stdout",
     "output_type": "stream",
     "text": [
      "P0(10) Pulse Sequence: "
     ]
    }
   ],
   "source": [
    "p0_11 = PulseSequence(\"P0(10)\")\n",
    "p0_11.print_sequence()"
   ]
  },
  {
   "cell_type": "code",
   "execution_count": 141,
   "metadata": {},
   "outputs": [
    {
     "data": {
      "text/latex": [
       "Quantum object: dims = [[2, 2], [2, 2]], shape = (4, 4), type = oper, isherm = True $ \\\\ \\left(\\begin{matrix}1.0 & 0.0 & 0.0 & 0.0\\\\0.0 & 1.0 & 0.0 & 0.0\\\\0.0 & 0.0 & 1.0 & 0.0\\\\0.0 & 0.0 & 0.0 & 1.0\\\\\\end{matrix}\\right)$"
      ],
      "text/plain": [
       "Quantum object: dims = [[2, 2], [2, 2]], shape = (4, 4), type = oper, isherm = True\n",
       "Qobj data =\n",
       "[[1. 0. 0. 0.]\n",
       " [0. 1. 0. 0.]\n",
       " [0. 0. 1. 0.]\n",
       " [0. 0. 0. 1.]]"
      ]
     },
     "execution_count": 141,
     "metadata": {},
     "output_type": "execute_result"
    }
   ],
   "source": [
    "p0_11.compile().get_operator()"
   ]
  },
  {
   "cell_type": "code",
   "execution_count": 142,
   "metadata": {},
   "outputs": [
    {
     "data": {
      "text/latex": [
       "Quantum object: dims = [[2, 2], [2, 2]], shape = (4, 4), type = oper, isherm = True $ \\\\ \\left(\\begin{matrix}1.0 & 0.0 & 0.0 & 0.0\\\\0.0 & 0.600 & 0.0 & 0.0\\\\0.0 & 0.0 & -0.600 & 0.0\\\\0.0 & 0.0 & 0.0 & -1.0\\\\\\end{matrix}\\right)$"
      ],
      "text/plain": [
       "Quantum object: dims = [[2, 2], [2, 2]], shape = (4, 4), type = oper, isherm = True\n",
       "Qobj data =\n",
       "[[ 1.   0.   0.   0. ]\n",
       " [ 0.   0.6  0.   0. ]\n",
       " [ 0.   0.  -0.6  0. ]\n",
       " [ 0.   0.   0.  -1. ]]"
      ]
     },
     "execution_count": 142,
     "metadata": {},
     "output_type": "execute_result"
    }
   ],
   "source": [
    "p0_rho11 = p0_11.compile().evolve_pho(pho_th)\n",
    "p0_rho11.rho"
   ]
  },
  {
   "cell_type": "code",
   "execution_count": 143,
   "metadata": {},
   "outputs": [
    {
     "name": "stdout",
     "output_type": "stream",
     "text": [
      "H spectrum\n",
      "Peak1 at 4.7364 ppm with integral=(1.6+0j)\n",
      "Peak2 at 8.1836 ppm with integral=(1.6+0j)\n",
      "C spectrum\n",
      "Peak1 @ 66.4751 ppm with integral=0j\n",
      "Peak2 @ 80.1869 ppm with integral=0j\n"
     ]
    }
   ],
   "source": [
    "p0_rho11.h_spectrum()\n",
    "p0_rho11.c_spectrum()"
   ]
  },
  {
   "cell_type": "markdown",
   "metadata": {},
   "source": [
    "#### Part D.1.2 : P1 simulation for |11>"
   ]
  },
  {
   "cell_type": "code",
   "execution_count": 144,
   "metadata": {},
   "outputs": [
    {
     "name": "stdout",
     "output_type": "stream",
     "text": [
      "P1(11) Pulse Sequence: Sx(+pi/2) -> 2IzSz(aka delay(1/2J)) -> Sy(+pi/2) -> Ix(+pi/2) -> 2IzSz(aka delay(1/2J)) -> Iy(+pi/2)"
     ]
    }
   ],
   "source": [
    "p1_11 = PulseSequence(\"P1(11)\")\\\n",
    "        .add_seq(p1)\n",
    "p1_11.print_sequence()"
   ]
  },
  {
   "cell_type": "code",
   "execution_count": 145,
   "metadata": {},
   "outputs": [
    {
     "data": {
      "text/latex": [
       "Quantum object: dims = [[2, 2], [2, 2]], shape = (4, 4), type = oper, isherm = False $ \\\\ \\left(\\begin{matrix}0.0 & 0.0 & -1.0j & 0.0\\\\1.0 & 0.0 & 0.0 & 0.0\\\\0.0 & -1.0 & 0.0 & 0.0\\\\0.0 & 0.0 & 0.0 & -1.0j\\\\\\end{matrix}\\right)$"
      ],
      "text/plain": [
       "Quantum object: dims = [[2, 2], [2, 2]], shape = (4, 4), type = oper, isherm = False\n",
       "Qobj data =\n",
       "[[ 0.+0.j  0.+0.j  0.-1.j  0.+0.j]\n",
       " [ 1.+0.j  0.+0.j  0.+0.j  0.+0.j]\n",
       " [ 0.+0.j -1.+0.j  0.+0.j  0.+0.j]\n",
       " [ 0.+0.j  0.+0.j  0.+0.j  0.-1.j]]"
      ]
     },
     "execution_count": 145,
     "metadata": {},
     "output_type": "execute_result"
    }
   ],
   "source": [
    "p1_11.compile().get_operator()"
   ]
  },
  {
   "cell_type": "code",
   "execution_count": 146,
   "metadata": {},
   "outputs": [
    {
     "data": {
      "text/latex": [
       "Quantum object: dims = [[2, 2], [2, 2]], shape = (4, 4), type = oper, isherm = True $ \\\\ \\left(\\begin{matrix}-0.600 & 0.0 & 0.0 & 0.0\\\\0.0 & 1.0 & 0.0 & 0.0\\\\0.0 & 0.0 & 0.600 & 0.0\\\\0.0 & 0.0 & 0.0 & -1.0\\\\\\end{matrix}\\right)$"
      ],
      "text/plain": [
       "Quantum object: dims = [[2, 2], [2, 2]], shape = (4, 4), type = oper, isherm = True\n",
       "Qobj data =\n",
       "[[-0.6  0.   0.   0. ]\n",
       " [ 0.   1.   0.   0. ]\n",
       " [ 0.   0.   0.6  0. ]\n",
       " [ 0.   0.   0.  -1. ]]"
      ]
     },
     "execution_count": 146,
     "metadata": {},
     "output_type": "execute_result"
    }
   ],
   "source": [
    "p1_rho11 = p1_11.compile().evolve_pho(pho_th)\n",
    "p1_rho11.rho"
   ]
  },
  {
   "cell_type": "code",
   "execution_count": 147,
   "metadata": {},
   "outputs": [
    {
     "name": "stdout",
     "output_type": "stream",
     "text": [
      "H spectrum\n",
      "Peak1 at 4.7364 ppm with integral=(-1.2+0j)\n",
      "Peak2 at 8.1836 ppm with integral=(2+0j)\n",
      "C spectrum\n",
      "Peak1 @ 66.4751 ppm with integral=(-2+0j)\n",
      "Peak2 @ 80.1869 ppm with integral=(2+0j)\n"
     ]
    }
   ],
   "source": [
    "p1_rho11.h_spectrum()\n",
    "p1_rho11.c_spectrum()"
   ]
  },
  {
   "cell_type": "markdown",
   "metadata": {},
   "source": [
    "#### Part D.1.3 : P2 simulation for |11>"
   ]
  },
  {
   "cell_type": "code",
   "execution_count": 148,
   "metadata": {},
   "outputs": [
    {
     "name": "stdout",
     "output_type": "stream",
     "text": [
      "P2(11) Pulse Sequence: Ix(+pi/2) -> 2IzSz(aka delay(1/2J)) -> Sx(+pi/2) -> Iy(+pi/2) -> 2IzSz(aka delay(1/2J)) -> Sy(+pi/2)"
     ]
    }
   ],
   "source": [
    "p2_11 = PulseSequence(\"P2(11)\")\\\n",
    "        .add_seq(p2)\n",
    "p2_11.print_sequence()"
   ]
  },
  {
   "cell_type": "code",
   "execution_count": 149,
   "metadata": {},
   "outputs": [
    {
     "data": {
      "text/latex": [
       "Quantum object: dims = [[2, 2], [2, 2]], shape = (4, 4), type = oper, isherm = False $ \\\\ \\left(\\begin{matrix}0.0 & -1.0j & 0.0 & 0.0\\\\0.0 & 0.0 & -1.0 & 0.0\\\\1.0 & 0.0 & 0.0 & 0.0\\\\0.0 & 0.0 & 0.0 & -1.0j\\\\\\end{matrix}\\right)$"
      ],
      "text/plain": [
       "Quantum object: dims = [[2, 2], [2, 2]], shape = (4, 4), type = oper, isherm = False\n",
       "Qobj data =\n",
       "[[ 0.+0.j  0.-1.j  0.+0.j  0.+0.j]\n",
       " [ 0.+0.j  0.+0.j -1.+0.j  0.+0.j]\n",
       " [ 1.+0.j  0.+0.j  0.+0.j  0.+0.j]\n",
       " [ 0.+0.j  0.+0.j  0.+0.j  0.-1.j]]"
      ]
     },
     "execution_count": 149,
     "metadata": {},
     "output_type": "execute_result"
    }
   ],
   "source": [
    "p2_11.compile().get_operator()"
   ]
  },
  {
   "cell_type": "code",
   "execution_count": 150,
   "metadata": {},
   "outputs": [
    {
     "data": {
      "text/latex": [
       "Quantum object: dims = [[2, 2], [2, 2]], shape = (4, 4), type = oper, isherm = True $ \\\\ \\left(\\begin{matrix}0.600 & 0.0 & 0.0 & 0.0\\\\0.0 & -0.600 & 0.0 & 0.0\\\\0.0 & 0.0 & 1.0 & 0.0\\\\0.0 & 0.0 & 0.0 & -1.0\\\\\\end{matrix}\\right)$"
      ],
      "text/plain": [
       "Quantum object: dims = [[2, 2], [2, 2]], shape = (4, 4), type = oper, isherm = True\n",
       "Qobj data =\n",
       "[[ 0.6  0.   0.   0. ]\n",
       " [ 0.  -0.6  0.   0. ]\n",
       " [ 0.   0.   1.   0. ]\n",
       " [ 0.   0.   0.  -1. ]]"
      ]
     },
     "execution_count": 150,
     "metadata": {},
     "output_type": "execute_result"
    }
   ],
   "source": [
    "p2_rho11 = p2_11.compile().evolve_pho(pho_th)\n",
    "p2_rho11.rho"
   ]
  },
  {
   "cell_type": "code",
   "execution_count": 151,
   "metadata": {},
   "outputs": [
    {
     "name": "stdout",
     "output_type": "stream",
     "text": [
      "H spectrum\n",
      "Peak1 at 4.7364 ppm with integral=(-0.4+0j)\n",
      "Peak2 at 8.1836 ppm with integral=(0.4+0j)\n",
      "C spectrum\n",
      "Peak1 @ 66.4751 ppm with integral=(1+0j)\n",
      "Peak2 @ 80.1869 ppm with integral=(2+0j)\n"
     ]
    }
   ],
   "source": [
    "p2_rho11.h_spectrum()\n",
    "p2_rho11.c_spectrum()"
   ]
  },
  {
   "cell_type": "markdown",
   "metadata": {},
   "source": [
    "#### Part D.1.4 : Calculate temporal average for |11>"
   ]
  },
  {
   "cell_type": "code",
   "execution_count": 152,
   "metadata": {},
   "outputs": [
    {
     "data": {
      "text/latex": [
       "Quantum object: dims = [[2, 2], [2, 2]], shape = (4, 4), type = oper, isherm = True $ \\\\ \\left(\\begin{matrix}0.333 & 0.0 & 0.0 & 0.0\\\\0.0 & 0.333 & 0.0 & 0.0\\\\0.0 & 0.0 & 0.333 & 0.0\\\\0.0 & 0.0 & 0.0 & -1.0\\\\\\end{matrix}\\right)$"
      ],
      "text/plain": [
       "Quantum object: dims = [[2, 2], [2, 2]], shape = (4, 4), type = oper, isherm = True\n",
       "Qobj data =\n",
       "[[ 0.33333333  0.          0.          0.        ]\n",
       " [ 0.          0.33333333  0.          0.        ]\n",
       " [ 0.          0.          0.33333333  0.        ]\n",
       " [ 0.          0.          0.         -1.        ]]"
      ]
     },
     "execution_count": 152,
     "metadata": {},
     "output_type": "execute_result"
    }
   ],
   "source": [
    "(p0_rho11.rho + p1_rho11.rho + p2_rho11.rho)/3"
   ]
  },
  {
   "cell_type": "markdown",
   "metadata": {},
   "source": [
    "### Part D.2 : Near CNOT(NCX) : |11>"
   ]
  },
  {
   "cell_type": "markdown",
   "metadata": {},
   "source": [
    "#### Part D.2.1 : P0 simulation for NCX(|11>)"
   ]
  },
  {
   "cell_type": "code",
   "execution_count": 153,
   "metadata": {},
   "outputs": [
    {
     "name": "stdout",
     "output_type": "stream",
     "text": [
      "NCX P0(11) Pulse Sequence: Sx(pi/2) -> 2IzSz(aka delay(1/2J)) -> Sy(-pi/2)"
     ]
    }
   ],
   "source": [
    "ncx_p0_11 = PulseSequence(\"NCX P0(11)\")\\\n",
    "        .add_seq(p0_11)\\\n",
    "        .add_seq(ncx)\n",
    "\n",
    "ncx_p0_11.print_sequence()"
   ]
  },
  {
   "cell_type": "code",
   "execution_count": 154,
   "metadata": {},
   "outputs": [
    {
     "data": {
      "text/latex": [
       "Quantum object: dims = [[2, 2], [2, 2]], shape = (4, 4), type = oper, isherm = False $ \\\\ \\left(\\begin{matrix}(0.707-0.707j) & 0.0 & 0.0 & 0.0\\\\0.0 & (0.707+0.707j) & 0.0 & 0.0\\\\0.0 & 0.0 & 0.0 & (0.707-0.707j)\\\\0.0 & 0.0 & (-0.707-0.707j) & 0.0\\\\\\end{matrix}\\right)$"
      ],
      "text/plain": [
       "Quantum object: dims = [[2, 2], [2, 2]], shape = (4, 4), type = oper, isherm = False\n",
       "Qobj data =\n",
       "[[ 0.70710678-0.70710678j  0.        +0.j          0.        +0.j\n",
       "   0.        +0.j        ]\n",
       " [ 0.        +0.j          0.70710678+0.70710678j  0.        +0.j\n",
       "   0.        +0.j        ]\n",
       " [ 0.        +0.j          0.        +0.j          0.        +0.j\n",
       "   0.70710678-0.70710678j]\n",
       " [ 0.        +0.j          0.        +0.j         -0.70710678-0.70710678j\n",
       "   0.        +0.j        ]]"
      ]
     },
     "execution_count": 154,
     "metadata": {},
     "output_type": "execute_result"
    }
   ],
   "source": [
    "ncx_p0_11.compile().get_operator()"
   ]
  },
  {
   "cell_type": "code",
   "execution_count": 155,
   "metadata": {},
   "outputs": [
    {
     "data": {
      "text/latex": [
       "Quantum object: dims = [[2, 2], [2, 2]], shape = (4, 4), type = oper, isherm = True $ \\\\ \\left(\\begin{matrix}1.000 & 0.0 & 0.0 & 0.0\\\\0.0 & 0.600 & 0.0 & 0.0\\\\0.0 & 0.0 & -1.000 & 0.0\\\\0.0 & 0.0 & 0.0 & -0.600\\\\\\end{matrix}\\right)$"
      ],
      "text/plain": [
       "Quantum object: dims = [[2, 2], [2, 2]], shape = (4, 4), type = oper, isherm = True\n",
       "Qobj data =\n",
       "[[ 1.   0.   0.   0. ]\n",
       " [ 0.   0.6  0.   0. ]\n",
       " [ 0.   0.  -1.   0. ]\n",
       " [ 0.   0.   0.  -0.6]]"
      ]
     },
     "execution_count": 155,
     "metadata": {},
     "output_type": "execute_result"
    }
   ],
   "source": [
    "ncx_p0_rho11 = ncx_p0_11.compile().evolve_pho(pho_th)\n",
    "ncx_p0_rho11.rho"
   ]
  },
  {
   "cell_type": "code",
   "execution_count": 156,
   "metadata": {},
   "outputs": [
    {
     "name": "stdout",
     "output_type": "stream",
     "text": [
      "H spectrum\n",
      "Peak1 at 4.7364 ppm with integral=(2+0j)\n",
      "Peak2 at 8.1836 ppm with integral=(1.2+0j)\n",
      "C spectrum\n",
      "Peak1 @ 66.4751 ppm with integral=0j\n",
      "Peak2 @ 80.1869 ppm with integral=(-0+0j)\n"
     ]
    }
   ],
   "source": [
    "ncx_p0_rho11.h_spectrum()\n",
    "ncx_p0_rho11.c_spectrum()"
   ]
  },
  {
   "cell_type": "markdown",
   "metadata": {},
   "source": [
    "#### Part D.2.2 : P1 simulation for NCX(|11>)"
   ]
  },
  {
   "cell_type": "code",
   "execution_count": 157,
   "metadata": {},
   "outputs": [
    {
     "name": "stdout",
     "output_type": "stream",
     "text": [
      "NCX P1(11) Pulse Sequence: Sx(+pi/2) -> 2IzSz(aka delay(1/2J)) -> Sy(+pi/2) -> Ix(+pi/2) -> 2IzSz(aka delay(1/2J)) -> Iy(+pi/2) -> Sx(pi/2) -> 2IzSz(aka delay(1/2J)) -> Sy(-pi/2)"
     ]
    }
   ],
   "source": [
    "ncx_p1_11 = PulseSequence(\"NCX P1(11)\")\\\n",
    "        .add_seq(p1_11)\\\n",
    "        .add_seq(ncx)\n",
    "ncx_p1_11.print_sequence()"
   ]
  },
  {
   "cell_type": "code",
   "execution_count": 158,
   "metadata": {},
   "outputs": [
    {
     "data": {
      "text/latex": [
       "Quantum object: dims = [[2, 2], [2, 2]], shape = (4, 4), type = oper, isherm = False $ \\\\ \\left(\\begin{matrix}0.0 & 0.0 & (-0.707-0.707j) & 0.0\\\\(0.707+0.707j) & 0.0 & 0.0 & 0.0\\\\0.0 & 0.0 & 0.0 & (-0.707-0.707j)\\\\0.0 & (0.707+0.707j) & 0.0 & 0.0\\\\\\end{matrix}\\right)$"
      ],
      "text/plain": [
       "Quantum object: dims = [[2, 2], [2, 2]], shape = (4, 4), type = oper, isherm = False\n",
       "Qobj data =\n",
       "[[ 0.        +0.j          0.        +0.j         -0.70710678-0.70710678j\n",
       "   0.        +0.j        ]\n",
       " [ 0.70710678+0.70710678j  0.        +0.j          0.        +0.j\n",
       "   0.        +0.j        ]\n",
       " [ 0.        +0.j          0.        +0.j          0.        +0.j\n",
       "  -0.70710678-0.70710678j]\n",
       " [ 0.        +0.j          0.70710678+0.70710678j  0.        +0.j\n",
       "   0.        +0.j        ]]"
      ]
     },
     "execution_count": 158,
     "metadata": {},
     "output_type": "execute_result"
    }
   ],
   "source": [
    "ncx_p1_11.compile().get_operator()"
   ]
  },
  {
   "cell_type": "code",
   "execution_count": 159,
   "metadata": {},
   "outputs": [
    {
     "data": {
      "text/latex": [
       "Quantum object: dims = [[2, 2], [2, 2]], shape = (4, 4), type = oper, isherm = True $ \\\\ \\left(\\begin{matrix}-0.600 & 0.0 & 0.0 & 0.0\\\\0.0 & 1.0 & 0.0 & 0.0\\\\0.0 & 0.0 & -1.0 & 0.0\\\\0.0 & 0.0 & 0.0 & 0.600\\\\\\end{matrix}\\right)$"
      ],
      "text/plain": [
       "Quantum object: dims = [[2, 2], [2, 2]], shape = (4, 4), type = oper, isherm = True\n",
       "Qobj data =\n",
       "[[-0.6  0.   0.   0. ]\n",
       " [ 0.   1.   0.   0. ]\n",
       " [ 0.   0.  -1.   0. ]\n",
       " [ 0.   0.   0.   0.6]]"
      ]
     },
     "execution_count": 159,
     "metadata": {},
     "output_type": "execute_result"
    }
   ],
   "source": [
    "ncx_p1_rho11 = ncx_p1_11.compile().evolve_pho(pho_th)\n",
    "ncx_p1_rho11.rho"
   ]
  },
  {
   "cell_type": "code",
   "execution_count": 160,
   "metadata": {},
   "outputs": [
    {
     "name": "stdout",
     "output_type": "stream",
     "text": [
      "H spectrum\n",
      "Peak1 at 4.7364 ppm with integral=(0.4+0j)\n",
      "Peak2 at 8.1836 ppm with integral=(0.4+0j)\n",
      "C spectrum\n",
      "Peak1 @ 66.4751 ppm with integral=(-2+0j)\n",
      "Peak2 @ 80.1869 ppm with integral=(-2+0j)\n"
     ]
    }
   ],
   "source": [
    "ncx_p1_rho11.h_spectrum()\n",
    "ncx_p1_rho11.c_spectrum()"
   ]
  },
  {
   "cell_type": "markdown",
   "metadata": {},
   "source": [
    "#### Part D.2.3 : P2 simulation for |11>"
   ]
  },
  {
   "cell_type": "code",
   "execution_count": 161,
   "metadata": {},
   "outputs": [
    {
     "name": "stdout",
     "output_type": "stream",
     "text": [
      "NCX P2(11) Pulse Sequence: Ix(+pi/2) -> 2IzSz(aka delay(1/2J)) -> Sx(+pi/2) -> Iy(+pi/2) -> 2IzSz(aka delay(1/2J)) -> Sy(+pi/2) -> Sx(pi/2) -> 2IzSz(aka delay(1/2J)) -> Sy(-pi/2)"
     ]
    }
   ],
   "source": [
    "ncx_p2_11 = PulseSequence(\"NCX P2(11)\")\\\n",
    "        .add_seq(p2_11)\\\n",
    "        .add_seq(ncx)\n",
    "ncx_p2_11.print_sequence()"
   ]
  },
  {
   "cell_type": "code",
   "execution_count": 162,
   "metadata": {},
   "outputs": [
    {
     "data": {
      "text/latex": [
       "Quantum object: dims = [[2, 2], [2, 2]], shape = (4, 4), type = oper, isherm = False $ \\\\ \\left(\\begin{matrix}0.0 & (-0.707-0.707j) & 0.0 & 0.0\\\\0.0 & 0.0 & (-0.707-0.707j) & 0.0\\\\0.0 & 0.0 & 0.0 & (-0.707-0.707j)\\\\(-0.707-0.707j) & 0.0 & 0.0 & 0.0\\\\\\end{matrix}\\right)$"
      ],
      "text/plain": [
       "Quantum object: dims = [[2, 2], [2, 2]], shape = (4, 4), type = oper, isherm = False\n",
       "Qobj data =\n",
       "[[ 0.        +0.j         -0.70710678-0.70710678j  0.        +0.j\n",
       "   0.        +0.j        ]\n",
       " [ 0.        +0.j          0.        +0.j         -0.70710678-0.70710678j\n",
       "   0.        +0.j        ]\n",
       " [ 0.        +0.j          0.        +0.j          0.        +0.j\n",
       "  -0.70710678-0.70710678j]\n",
       " [-0.70710678-0.70710678j  0.        +0.j          0.        +0.j\n",
       "   0.        +0.j        ]]"
      ]
     },
     "execution_count": 162,
     "metadata": {},
     "output_type": "execute_result"
    }
   ],
   "source": [
    "ncx_p2_11.compile().get_operator()"
   ]
  },
  {
   "cell_type": "code",
   "execution_count": 163,
   "metadata": {},
   "outputs": [
    {
     "data": {
      "text/latex": [
       "Quantum object: dims = [[2, 2], [2, 2]], shape = (4, 4), type = oper, isherm = True $ \\\\ \\left(\\begin{matrix}0.600 & 0.0 & 0.0 & 0.0\\\\0.0 & -0.600 & 0.0 & 0.0\\\\0.0 & 0.0 & -1.0 & 0.0\\\\0.0 & 0.0 & 0.0 & 1.0\\\\\\end{matrix}\\right)$"
      ],
      "text/plain": [
       "Quantum object: dims = [[2, 2], [2, 2]], shape = (4, 4), type = oper, isherm = True\n",
       "Qobj data =\n",
       "[[ 0.6  0.   0.   0. ]\n",
       " [ 0.  -0.6  0.   0. ]\n",
       " [ 0.   0.  -1.   0. ]\n",
       " [ 0.   0.   0.   1. ]]"
      ]
     },
     "execution_count": 163,
     "metadata": {},
     "output_type": "execute_result"
    }
   ],
   "source": [
    "ncx_p2_rho11 = ncx_p2_11.compile().evolve_pho(pho_th)\n",
    "ncx_p2_rho11.rho"
   ]
  },
  {
   "cell_type": "code",
   "execution_count": 164,
   "metadata": {},
   "outputs": [
    {
     "name": "stdout",
     "output_type": "stream",
     "text": [
      "H spectrum\n",
      "Peak1 at 4.7364 ppm with integral=(1.6+0j)\n",
      "Peak2 at 8.1836 ppm with integral=(-1.6+0j)\n",
      "C spectrum\n",
      "Peak1 @ 66.4751 ppm with integral=(1+0j)\n",
      "Peak2 @ 80.1869 ppm with integral=(-2+0j)\n"
     ]
    }
   ],
   "source": [
    "ncx_p2_rho11.h_spectrum()\n",
    "ncx_p2_rho11.c_spectrum()"
   ]
  },
  {
   "cell_type": "markdown",
   "metadata": {},
   "source": [
    "#### Part D.2.4 : Calculate temporal average for NCX(|11>)"
   ]
  },
  {
   "cell_type": "code",
   "execution_count": 165,
   "metadata": {},
   "outputs": [
    {
     "data": {
      "text/latex": [
       "Quantum object: dims = [[2, 2], [2, 2]], shape = (4, 4), type = oper, isherm = True $ \\\\ \\left(\\begin{matrix}0.333 & 0.0 & 0.0 & 0.0\\\\0.0 & 0.333 & 0.0 & 0.0\\\\0.0 & 0.0 & 0.333 & 0.0\\\\0.0 & 0.0 & 0.0 & -1.0\\\\\\end{matrix}\\right)$"
      ],
      "text/plain": [
       "Quantum object: dims = [[2, 2], [2, 2]], shape = (4, 4), type = oper, isherm = True\n",
       "Qobj data =\n",
       "[[ 0.33333333  0.          0.          0.        ]\n",
       " [ 0.          0.33333333  0.          0.        ]\n",
       " [ 0.          0.          0.33333333  0.        ]\n",
       " [ 0.          0.          0.         -1.        ]]"
      ]
     },
     "execution_count": 165,
     "metadata": {},
     "output_type": "execute_result"
    }
   ],
   "source": [
    "(ncx_p0_rho10.rho + ncx_p1_rho10.rho + ncx_p2_rho10.rho)/3"
   ]
  },
  {
   "cell_type": "markdown",
   "metadata": {},
   "source": []
  }
 ],
 "metadata": {
  "kernelspec": {
   "display_name": "pandoc-env",
   "language": "python",
   "name": "python3"
  },
  "language_info": {
   "codemirror_mode": {
    "name": "ipython",
    "version": 3
   },
   "file_extension": ".py",
   "mimetype": "text/x-python",
   "name": "python",
   "nbconvert_exporter": "python",
   "pygments_lexer": "ipython3",
   "version": "3.11.5"
  }
 },
 "nbformat": 4,
 "nbformat_minor": 2
}
