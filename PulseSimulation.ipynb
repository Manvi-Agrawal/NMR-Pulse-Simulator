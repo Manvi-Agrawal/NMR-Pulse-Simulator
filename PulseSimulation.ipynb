{
 "cells": [
  {
   "cell_type": "code",
   "execution_count": 1,
   "metadata": {},
   "outputs": [],
   "source": [
    "import numpy as np\n",
    "import qutip as qt\n",
    "import qutip.qip.operations as op\n",
    "from scipy.linalg import expm\n",
    "\n",
    "from PulseSequence import PulseSequence\n",
    "from Pulse import Pulse"
   ]
  },
  {
   "cell_type": "markdown",
   "metadata": {},
   "source": [
    "### Thermal density matrix"
   ]
  },
  {
   "cell_type": "code",
   "execution_count": 2,
   "metadata": {},
   "outputs": [
    {
     "data": {
      "text/latex": [
       "Quantum object: dims = [[2, 2], [2, 2]], shape = (4, 4), type = oper, isherm = True $ \\\\ \\left(\\begin{matrix}1.0 & 0.0 & 0.0 & 0.0\\\\0.0 & 0.600 & 0.0 & 0.0\\\\0.0 & 0.0 & -0.600 & 0.0\\\\0.0 & 0.0 & 0.0 & -1.0\\\\\\end{matrix}\\right)$"
      ],
      "text/plain": [
       "Quantum object: dims = [[2, 2], [2, 2]], shape = (4, 4), type = oper, isherm = True\n",
       "Qobj data =\n",
       "[[ 1.   0.   0.   0. ]\n",
       " [ 0.   0.6  0.   0. ]\n",
       " [ 0.   0.  -0.6  0. ]\n",
       " [ 0.   0.   0.  -1. ]]"
      ]
     },
     "execution_count": 2,
     "metadata": {},
     "output_type": "execute_result"
    }
   ],
   "source": [
    "pho_th = qt.Qobj(np.diag([1, 0.6, -0.6, -1]), dims=([[2, 2], [2, 2]]))\n",
    "pho_th"
   ]
  },
  {
   "cell_type": "markdown",
   "metadata": {},
   "source": [
    "### Helper Functions\n",
    "See https://github.com/Manvi-Agrawal/Pulse-Sequence-Simulator."
   ]
  },
  {
   "cell_type": "markdown",
   "metadata": {},
   "source": [
    "# OPERATORS"
   ]
  },
  {
   "cell_type": "code",
   "execution_count": 3,
   "metadata": {},
   "outputs": [],
   "source": [
    "x = qt.sigmax()*0.5\n",
    "y = qt.sigmay()*0.5\n",
    "z = qt.sigmaz()*0.5\n",
    "I = qt.qeye(2)"
   ]
  },
  {
   "cell_type": "code",
   "execution_count": 4,
   "metadata": {},
   "outputs": [],
   "source": [
    "Ix = qt.tensor(x, I)\n",
    "Iy = qt.tensor(y, I)\n",
    "Iz = qt.tensor(z, I)"
   ]
  },
  {
   "cell_type": "code",
   "execution_count": 5,
   "metadata": {},
   "outputs": [],
   "source": [
    "Sx = qt.tensor(I, x)\n",
    "Sy = qt.tensor(I, y)\n",
    "Sz = qt.tensor(I, z)"
   ]
  },
  {
   "cell_type": "code",
   "execution_count": 6,
   "metadata": {},
   "outputs": [],
   "source": [
    "J = 215\n",
    "tJ = 1/(2*J)\n",
    "IzSz = qt.tensor(z, z)"
   ]
  },
  {
   "cell_type": "code",
   "execution_count": 7,
   "metadata": {},
   "outputs": [
    {
     "name": "stdout",
     "output_type": "stream",
     "text": [
      "J coupling delay = 2.326 ms\n"
     ]
    }
   ],
   "source": [
    "print(f\"J coupling delay = {np.round(tJ*1000, 3)} ms\")"
   ]
  },
  {
   "cell_type": "code",
   "execution_count": 8,
   "metadata": {},
   "outputs": [
    {
     "data": {
      "text/latex": [
       "Quantum object: dims = [[2, 2], [2, 2]], shape = (4, 4), type = oper, isherm = False $ \\\\ \\left(\\begin{matrix}(0.707-0.707j) & 0.0 & 0.0 & 0.0\\\\0.0 & (0.707+0.707j) & 0.0 & 0.0\\\\0.0 & 0.0 & (0.707+0.707j) & 0.0\\\\0.0 & 0.0 & 0.0 & (0.707-0.707j)\\\\\\end{matrix}\\right)$"
      ],
      "text/plain": [
       "Quantum object: dims = [[2, 2], [2, 2]], shape = (4, 4), type = oper, isherm = False\n",
       "Qobj data =\n",
       "[[0.70710678-0.70710678j 0.        +0.j         0.        +0.j\n",
       "  0.        +0.j        ]\n",
       " [0.        +0.j         0.70710678+0.70710678j 0.        +0.j\n",
       "  0.        +0.j        ]\n",
       " [0.        +0.j         0.        +0.j         0.70710678+0.70710678j\n",
       "  0.        +0.j        ]\n",
       " [0.        +0.j         0.        +0.j         0.        +0.j\n",
       "  0.70710678-0.70710678j]]"
      ]
     },
     "execution_count": 8,
     "metadata": {},
     "output_type": "execute_result"
    }
   ],
   "source": [
    "Pulse(\"+2IzSz\", IzSz, (2*np.pi*J)*(tJ) ).apply()"
   ]
  },
  {
   "cell_type": "code",
   "execution_count": 9,
   "metadata": {},
   "outputs": [
    {
     "data": {
      "text/latex": [
       "Quantum object: dims = [[2, 2], [2, 2]], shape = (4, 4), type = oper, isherm = False $ \\\\ \\left(\\begin{matrix}(-0.707-0.707j) & 0.0 & 0.0 & 0.0\\\\0.0 & (-0.707+0.707j) & 0.0 & 0.0\\\\0.0 & 0.0 & (-0.707+0.707j) & 0.0\\\\0.0 & 0.0 & 0.0 & (-0.707-0.707j)\\\\\\end{matrix}\\right)$"
      ],
      "text/plain": [
       "Quantum object: dims = [[2, 2], [2, 2]], shape = (4, 4), type = oper, isherm = False\n",
       "Qobj data =\n",
       "[[-0.70710678-0.70710678j  0.        +0.j          0.        +0.j\n",
       "   0.        +0.j        ]\n",
       " [ 0.        +0.j         -0.70710678+0.70710678j  0.        +0.j\n",
       "   0.        +0.j        ]\n",
       " [ 0.        +0.j          0.        +0.j         -0.70710678+0.70710678j\n",
       "   0.        +0.j        ]\n",
       " [ 0.        +0.j          0.        +0.j          0.        +0.j\n",
       "  -0.70710678-0.70710678j]]"
      ]
     },
     "execution_count": 9,
     "metadata": {},
     "output_type": "execute_result"
    }
   ],
   "source": [
    "# Delay for negative J coupling = 3*tJ; accurate upto global phase\n",
    "Pulse(\"-2IzSz\", IzSz, (2*np.pi*J)*(3*tJ) ).apply()"
   ]
  },
  {
   "cell_type": "markdown",
   "metadata": {},
   "source": [
    "We cant implement an $I_z/S_z$ pulse directly.  \n",
    "Use $ R_z(\\theta) = R_x(-pi/2).R_y(\\theta).R_x(pi/2)$ "
   ]
  },
  {
   "cell_type": "code",
   "execution_count": 10,
   "metadata": {},
   "outputs": [],
   "source": [
    "def Iz_pulse(theta):\n",
    "    return PulseSequence(\"Iz(theta)\")\\\n",
    "        .add(Pulse(\"Ix(-pi/2)\", Ix, -np.pi/2))\\\n",
    "        .add(Pulse(f\"Iy({theta/np.pi}*pi)\", Iy, theta))\\\n",
    "        .add(Pulse(\"Ix(pi/2)\", Ix, np.pi/2))"
   ]
  },
  {
   "cell_type": "code",
   "execution_count": 11,
   "metadata": {},
   "outputs": [
    {
     "data": {
      "text/latex": [
       "Quantum object: dims = [[2, 2], [2, 2]], shape = (4, 4), type = oper, isherm = False $ \\\\ \\left(\\begin{matrix}(0.707-0.707j) & 0.0 & 0.0 & 0.0\\\\0.0 & (0.707-0.707j) & 0.0 & 0.0\\\\0.0 & 0.0 & (0.707+0.707j) & 0.0\\\\0.0 & 0.0 & 0.0 & (0.707+0.707j)\\\\\\end{matrix}\\right)$"
      ],
      "text/plain": [
       "Quantum object: dims = [[2, 2], [2, 2]], shape = (4, 4), type = oper, isherm = False\n",
       "Qobj data =\n",
       "[[0.70710678-0.70710678j 0.        +0.j         0.        +0.j\n",
       "  0.        +0.j        ]\n",
       " [0.        +0.j         0.70710678-0.70710678j 0.        +0.j\n",
       "  0.        +0.j        ]\n",
       " [0.        +0.j         0.        +0.j         0.70710678+0.70710678j\n",
       "  0.        +0.j        ]\n",
       " [0.        +0.j         0.        +0.j         0.        +0.j\n",
       "  0.70710678+0.70710678j]]"
      ]
     },
     "execution_count": 11,
     "metadata": {},
     "output_type": "execute_result"
    }
   ],
   "source": [
    "Iz_pulse(np.pi/2).compile().get_operator()"
   ]
  },
  {
   "cell_type": "code",
   "execution_count": 12,
   "metadata": {},
   "outputs": [
    {
     "data": {
      "text/latex": [
       "Quantum object: dims = [[2, 2], [2, 2]], shape = (4, 4), type = oper, isherm = False $ \\\\ \\left(\\begin{matrix}(0.707-0.707j) & 0.0 & 0.0 & 0.0\\\\0.0 & (0.707-0.707j) & 0.0 & 0.0\\\\0.0 & 0.0 & (0.707+0.707j) & 0.0\\\\0.0 & 0.0 & 0.0 & (0.707+0.707j)\\\\\\end{matrix}\\right)$"
      ],
      "text/plain": [
       "Quantum object: dims = [[2, 2], [2, 2]], shape = (4, 4), type = oper, isherm = False\n",
       "Qobj data =\n",
       "[[0.70710678-0.70710678j 0.        +0.j         0.        +0.j\n",
       "  0.        +0.j        ]\n",
       " [0.        +0.j         0.70710678-0.70710678j 0.        +0.j\n",
       "  0.        +0.j        ]\n",
       " [0.        +0.j         0.        +0.j         0.70710678+0.70710678j\n",
       "  0.        +0.j        ]\n",
       " [0.        +0.j         0.        +0.j         0.        +0.j\n",
       "  0.70710678+0.70710678j]]"
      ]
     },
     "execution_count": 12,
     "metadata": {},
     "output_type": "execute_result"
    }
   ],
   "source": [
    "(-1j*np.pi/2*Iz).expm()"
   ]
  },
  {
   "cell_type": "markdown",
   "metadata": {},
   "source": [
    "Verified that $R_x(-pi/2).R_y(pi/2).R_x(pi/2) = R_z(pi/2)$ "
   ]
  },
  {
   "cell_type": "code",
   "execution_count": 13,
   "metadata": {},
   "outputs": [
    {
     "data": {
      "text/latex": [
       "Quantum object: dims = [[2, 2], [2, 2]], shape = (4, 4), type = oper, isherm = False $ \\\\ \\left(\\begin{matrix}(0.707+0.707j) & 0.0 & 0.0 & 0.0\\\\0.0 & (0.707+0.707j) & 0.0 & 0.0\\\\0.0 & 0.0 & (0.707-0.707j) & 0.0\\\\0.0 & 0.0 & 0.0 & (0.707-0.707j)\\\\\\end{matrix}\\right)$"
      ],
      "text/plain": [
       "Quantum object: dims = [[2, 2], [2, 2]], shape = (4, 4), type = oper, isherm = False\n",
       "Qobj data =\n",
       "[[0.70710678+0.70710678j 0.        +0.j         0.        +0.j\n",
       "  0.        +0.j        ]\n",
       " [0.        +0.j         0.70710678+0.70710678j 0.        +0.j\n",
       "  0.        +0.j        ]\n",
       " [0.        +0.j         0.        +0.j         0.70710678-0.70710678j\n",
       "  0.        +0.j        ]\n",
       " [0.        +0.j         0.        +0.j         0.        +0.j\n",
       "  0.70710678-0.70710678j]]"
      ]
     },
     "execution_count": 13,
     "metadata": {},
     "output_type": "execute_result"
    }
   ],
   "source": [
    "Iz_pulse(-np.pi/2).compile().get_operator()"
   ]
  },
  {
   "cell_type": "code",
   "execution_count": 14,
   "metadata": {},
   "outputs": [
    {
     "data": {
      "text/latex": [
       "Quantum object: dims = [[2, 2], [2, 2]], shape = (4, 4), type = oper, isherm = False $ \\\\ \\left(\\begin{matrix}(0.707+0.707j) & 0.0 & 0.0 & 0.0\\\\0.0 & (0.707+0.707j) & 0.0 & 0.0\\\\0.0 & 0.0 & (0.707-0.707j) & 0.0\\\\0.0 & 0.0 & 0.0 & (0.707-0.707j)\\\\\\end{matrix}\\right)$"
      ],
      "text/plain": [
       "Quantum object: dims = [[2, 2], [2, 2]], shape = (4, 4), type = oper, isherm = False\n",
       "Qobj data =\n",
       "[[0.70710678+0.70710678j 0.        +0.j         0.        +0.j\n",
       "  0.        +0.j        ]\n",
       " [0.        +0.j         0.70710678+0.70710678j 0.        +0.j\n",
       "  0.        +0.j        ]\n",
       " [0.        +0.j         0.        +0.j         0.70710678-0.70710678j\n",
       "  0.        +0.j        ]\n",
       " [0.        +0.j         0.        +0.j         0.        +0.j\n",
       "  0.70710678-0.70710678j]]"
      ]
     },
     "execution_count": 14,
     "metadata": {},
     "output_type": "execute_result"
    }
   ],
   "source": [
    "(+1j*np.pi/2*Iz).expm()"
   ]
  },
  {
   "cell_type": "markdown",
   "metadata": {},
   "source": [
    "Verified that $R_x(-\\pi/2).R_y(-\\pi/2).R_x(\\pi/2) = R_z(-\\pi/2)$ "
   ]
  },
  {
   "cell_type": "code",
   "execution_count": 15,
   "metadata": {},
   "outputs": [],
   "source": [
    "def Sz_pulse(theta):\n",
    "    return PulseSequence(\"Sz(theta)\")\\\n",
    "        .add(Pulse(\"Sx(-pi/2)\", Sx, -np.pi/2))\\\n",
    "        .add(Pulse(f\"Sy({theta/np.pi}*pi)\", Sy, theta))\\\n",
    "        .add(Pulse(\"Sx(pi/2)\", Sx, np.pi/2))"
   ]
  },
  {
   "cell_type": "code",
   "execution_count": 16,
   "metadata": {},
   "outputs": [
    {
     "data": {
      "text/latex": [
       "Quantum object: dims = [[2, 2], [2, 2]], shape = (4, 4), type = oper, isherm = False $ \\\\ \\left(\\begin{matrix}(0.707-0.707j) & 0.0 & 0.0 & 0.0\\\\0.0 & (0.707+0.707j) & 0.0 & 0.0\\\\0.0 & 0.0 & (0.707-0.707j) & 0.0\\\\0.0 & 0.0 & 0.0 & (0.707+0.707j)\\\\\\end{matrix}\\right)$"
      ],
      "text/plain": [
       "Quantum object: dims = [[2, 2], [2, 2]], shape = (4, 4), type = oper, isherm = False\n",
       "Qobj data =\n",
       "[[0.70710678-0.70710678j 0.        +0.j         0.        +0.j\n",
       "  0.        +0.j        ]\n",
       " [0.        +0.j         0.70710678+0.70710678j 0.        +0.j\n",
       "  0.        +0.j        ]\n",
       " [0.        +0.j         0.        +0.j         0.70710678-0.70710678j\n",
       "  0.        +0.j        ]\n",
       " [0.        +0.j         0.        +0.j         0.        +0.j\n",
       "  0.70710678+0.70710678j]]"
      ]
     },
     "execution_count": 16,
     "metadata": {},
     "output_type": "execute_result"
    }
   ],
   "source": [
    "Sz_pulse(np.pi/2).compile().get_operator()"
   ]
  },
  {
   "cell_type": "code",
   "execution_count": 17,
   "metadata": {},
   "outputs": [
    {
     "name": "stdout",
     "output_type": "stream",
     "text": [
      "Sz(theta) Pulse Sequence: Sx(-pi/2) -> Sy(0.5*pi) -> Sx(pi/2)"
     ]
    }
   ],
   "source": [
    "Sz_pulse(np.pi/2).print_sequence()"
   ]
  },
  {
   "cell_type": "code",
   "execution_count": 18,
   "metadata": {},
   "outputs": [
    {
     "data": {
      "text/latex": [
       "Quantum object: dims = [[2, 2], [2, 2]], shape = (4, 4), type = oper, isherm = False $ \\\\ \\left(\\begin{matrix}(0.707+0.707j) & 0.0 & 0.0 & 0.0\\\\0.0 & (0.707-0.707j) & 0.0 & 0.0\\\\0.0 & 0.0 & (0.707+0.707j) & 0.0\\\\0.0 & 0.0 & 0.0 & (0.707-0.707j)\\\\\\end{matrix}\\right)$"
      ],
      "text/plain": [
       "Quantum object: dims = [[2, 2], [2, 2]], shape = (4, 4), type = oper, isherm = False\n",
       "Qobj data =\n",
       "[[0.70710678+0.70710678j 0.        +0.j         0.        +0.j\n",
       "  0.        +0.j        ]\n",
       " [0.        +0.j         0.70710678-0.70710678j 0.        +0.j\n",
       "  0.        +0.j        ]\n",
       " [0.        +0.j         0.        +0.j         0.70710678+0.70710678j\n",
       "  0.        +0.j        ]\n",
       " [0.        +0.j         0.        +0.j         0.        +0.j\n",
       "  0.70710678-0.70710678j]]"
      ]
     },
     "execution_count": 18,
     "metadata": {},
     "output_type": "execute_result"
    }
   ],
   "source": [
    "Sz_pulse(-np.pi/2).compile().get_operator()"
   ]
  },
  {
   "cell_type": "code",
   "execution_count": 19,
   "metadata": {},
   "outputs": [
    {
     "name": "stdout",
     "output_type": "stream",
     "text": [
      "Sz(theta) Pulse Sequence: Sx(-pi/2) -> Sy(-0.5*pi) -> Sx(pi/2)"
     ]
    }
   ],
   "source": [
    "Sz_pulse(-np.pi/2).print_sequence()\n"
   ]
  },
  {
   "cell_type": "markdown",
   "metadata": {},
   "source": [
    "# Q1: GATES"
   ]
  },
  {
   "cell_type": "markdown",
   "metadata": {},
   "source": [
    "### PART A: One qubit X"
   ]
  },
  {
   "cell_type": "code",
   "execution_count": 20,
   "metadata": {},
   "outputs": [
    {
     "data": {
      "text/latex": [
       "Quantum object: dims = [[2, 2], [2, 2]], shape = (4, 4), type = oper, isherm = False $ \\\\ \\left(\\begin{matrix}0.0 & 0.0 & -1.0j & 0.0\\\\0.0 & 0.0 & 0.0 & -1.0j\\\\-1.0j & 0.0 & 0.0 & 0.0\\\\0.0 & -1.0j & 0.0 & 0.0\\\\\\end{matrix}\\right)$"
      ],
      "text/plain": [
       "Quantum object: dims = [[2, 2], [2, 2]], shape = (4, 4), type = oper, isherm = False\n",
       "Qobj data =\n",
       "[[0.+0.j 0.+0.j 0.-1.j 0.+0.j]\n",
       " [0.+0.j 0.+0.j 0.+0.j 0.-1.j]\n",
       " [0.-1.j 0.+0.j 0.+0.j 0.+0.j]\n",
       " [0.+0.j 0.-1.j 0.+0.j 0.+0.j]]"
      ]
     },
     "execution_count": 20,
     "metadata": {},
     "output_type": "execute_result"
    }
   ],
   "source": [
    "X_i = Pulse(\"Ix(pi)\", Ix, np.pi)\n",
    "print(\"Applying X gate to 1H, upto global phase\")\n",
    "np.exp(+1j*np.pi)*X_i.apply()"
   ]
  },
  {
   "cell_type": "code",
   "execution_count": 21,
   "metadata": {},
   "outputs": [
    {
     "data": {
      "text/latex": [
       "Quantum object: dims = [[2, 2], [2, 2]], shape = (4, 4), type = oper, isherm = False $ \\\\ \\left(\\begin{matrix}0.0 & -1.0j & 0.0 & 0.0\\\\-1.0j & 0.0 & 0.0 & 0.0\\\\0.0 & 0.0 & 0.0 & -1.0j\\\\0.0 & 0.0 & -1.0j & 0.0\\\\\\end{matrix}\\right)$"
      ],
      "text/plain": [
       "Quantum object: dims = [[2, 2], [2, 2]], shape = (4, 4), type = oper, isherm = False\n",
       "Qobj data =\n",
       "[[0.+0.j 0.-1.j 0.+0.j 0.+0.j]\n",
       " [0.-1.j 0.+0.j 0.+0.j 0.+0.j]\n",
       " [0.+0.j 0.+0.j 0.+0.j 0.-1.j]\n",
       " [0.+0.j 0.+0.j 0.-1.j 0.+0.j]]"
      ]
     },
     "execution_count": 21,
     "metadata": {},
     "output_type": "execute_result"
    }
   ],
   "source": [
    "X_s = Pulse(\"Sx(pi)\", Sx, np.pi)\n",
    "print(\"Applying X gate to 13C, upto global phase\")\n",
    "np.exp(+1j*np.pi)*X_s.apply()"
   ]
  },
  {
   "cell_type": "markdown",
   "metadata": {},
   "source": [
    "### PART B: One qubit Hadamard"
   ]
  },
  {
   "cell_type": "markdown",
   "metadata": {},
   "source": [
    "#### Pseudo Hadamards"
   ]
  },
  {
   "cell_type": "code",
   "execution_count": 22,
   "metadata": {},
   "outputs": [
    {
     "name": "stdout",
     "output_type": "stream",
     "text": [
      "Pseudo pH_i pulse : Iy(-pi/2)\n"
     ]
    }
   ],
   "source": [
    "pH_i = Pulse(\"Iy(-pi/2)\", Iy, -np.pi/2)\n",
    "print(f\"Pseudo pH_i pulse : {pH_i.name}\")"
   ]
  },
  {
   "cell_type": "code",
   "execution_count": 23,
   "metadata": {},
   "outputs": [
    {
     "name": "stdout",
     "output_type": "stream",
     "text": [
      "Pseudo pH_i operator\n"
     ]
    },
    {
     "data": {
      "text/latex": [
       "Quantum object: dims = [[2, 2], [2, 2]], shape = (4, 4), type = oper, isherm = False $ \\\\ \\left(\\begin{matrix}0.707 & 0.0 & 0.707 & 0.0\\\\0.0 & 0.707 & 0.0 & 0.707\\\\-0.707 & 0.0 & 0.707 & 0.0\\\\0.0 & -0.707 & 0.0 & 0.707\\\\\\end{matrix}\\right)$"
      ],
      "text/plain": [
       "Quantum object: dims = [[2, 2], [2, 2]], shape = (4, 4), type = oper, isherm = False\n",
       "Qobj data =\n",
       "[[ 0.70710678  0.          0.70710678  0.        ]\n",
       " [ 0.          0.70710678  0.          0.70710678]\n",
       " [-0.70710678  0.          0.70710678  0.        ]\n",
       " [ 0.         -0.70710678  0.          0.70710678]]"
      ]
     },
     "execution_count": 23,
     "metadata": {},
     "output_type": "execute_result"
    }
   ],
   "source": [
    "print(f\"Pseudo pH_i operator\")\n",
    "pH_i.apply()"
   ]
  },
  {
   "cell_type": "code",
   "execution_count": 24,
   "metadata": {},
   "outputs": [
    {
     "name": "stdout",
     "output_type": "stream",
     "text": [
      "Pseudo pH_i.dag() pulse : Iy(+pi/2)\n"
     ]
    }
   ],
   "source": [
    "pH_i_dag = Pulse(\"Iy(+pi/2)\", Iy, np.pi/2)\n",
    "print(f\"Pseudo pH_i.dag() pulse : {pH_i_dag.name}\")"
   ]
  },
  {
   "cell_type": "code",
   "execution_count": 25,
   "metadata": {},
   "outputs": [
    {
     "name": "stdout",
     "output_type": "stream",
     "text": [
      "Pseudo pH_i.dag() operator\n"
     ]
    },
    {
     "data": {
      "text/latex": [
       "Quantum object: dims = [[2, 2], [2, 2]], shape = (4, 4), type = oper, isherm = False $ \\\\ \\left(\\begin{matrix}0.707 & 0.0 & -0.707 & 0.0\\\\0.0 & 0.707 & 0.0 & -0.707\\\\0.707 & 0.0 & 0.707 & 0.0\\\\0.0 & 0.707 & 0.0 & 0.707\\\\\\end{matrix}\\right)$"
      ],
      "text/plain": [
       "Quantum object: dims = [[2, 2], [2, 2]], shape = (4, 4), type = oper, isherm = False\n",
       "Qobj data =\n",
       "[[ 0.70710678  0.         -0.70710678  0.        ]\n",
       " [ 0.          0.70710678  0.         -0.70710678]\n",
       " [ 0.70710678  0.          0.70710678  0.        ]\n",
       " [ 0.          0.70710678  0.          0.70710678]]"
      ]
     },
     "execution_count": 25,
     "metadata": {},
     "output_type": "execute_result"
    }
   ],
   "source": [
    "print(f\"Pseudo pH_i.dag() operator\")\n",
    "pH_i_dag.apply()"
   ]
  },
  {
   "cell_type": "code",
   "execution_count": 26,
   "metadata": {},
   "outputs": [
    {
     "name": "stdout",
     "output_type": "stream",
     "text": [
      "Pseudo pH_S pulse : Sy(-pi/2)\n"
     ]
    }
   ],
   "source": [
    "pH_s = Pulse(\"Sy(-pi/2)\", Sy, -np.pi/2)\n",
    "print(f\"Pseudo pH_S pulse : {pH_s.name}\")"
   ]
  },
  {
   "cell_type": "code",
   "execution_count": 27,
   "metadata": {},
   "outputs": [
    {
     "name": "stdout",
     "output_type": "stream",
     "text": [
      "Pseudo pH_S operator\n"
     ]
    },
    {
     "data": {
      "text/latex": [
       "Quantum object: dims = [[2, 2], [2, 2]], shape = (4, 4), type = oper, isherm = False $ \\\\ \\left(\\begin{matrix}0.707 & 0.707 & 0.0 & 0.0\\\\-0.707 & 0.707 & 0.0 & 0.0\\\\0.0 & 0.0 & 0.707 & 0.707\\\\0.0 & 0.0 & -0.707 & 0.707\\\\\\end{matrix}\\right)$"
      ],
      "text/plain": [
       "Quantum object: dims = [[2, 2], [2, 2]], shape = (4, 4), type = oper, isherm = False\n",
       "Qobj data =\n",
       "[[ 0.70710678  0.70710678  0.          0.        ]\n",
       " [-0.70710678  0.70710678  0.          0.        ]\n",
       " [ 0.          0.          0.70710678  0.70710678]\n",
       " [ 0.          0.         -0.70710678  0.70710678]]"
      ]
     },
     "execution_count": 27,
     "metadata": {},
     "output_type": "execute_result"
    }
   ],
   "source": [
    "print(f\"Pseudo pH_S operator\")\n",
    "pH_s.apply()"
   ]
  },
  {
   "cell_type": "code",
   "execution_count": 28,
   "metadata": {},
   "outputs": [
    {
     "name": "stdout",
     "output_type": "stream",
     "text": [
      "Pseudo H_S.dag() pulse : Sy(-pi/2)\n"
     ]
    }
   ],
   "source": [
    "pH_s_dag = Pulse(\"Sy(+pi/2)\", Sy, +np.pi/2)\n",
    "print(f\"Pseudo H_S.dag() pulse : {pH_s.name}\")"
   ]
  },
  {
   "cell_type": "code",
   "execution_count": 29,
   "metadata": {},
   "outputs": [
    {
     "name": "stdout",
     "output_type": "stream",
     "text": [
      "Pseudo H_S.dag() operator\n"
     ]
    },
    {
     "data": {
      "text/latex": [
       "Quantum object: dims = [[2, 2], [2, 2]], shape = (4, 4), type = oper, isherm = False $ \\\\ \\left(\\begin{matrix}0.707 & -0.707 & 0.0 & 0.0\\\\0.707 & 0.707 & 0.0 & 0.0\\\\0.0 & 0.0 & 0.707 & -0.707\\\\0.0 & 0.0 & 0.707 & 0.707\\\\\\end{matrix}\\right)$"
      ],
      "text/plain": [
       "Quantum object: dims = [[2, 2], [2, 2]], shape = (4, 4), type = oper, isherm = False\n",
       "Qobj data =\n",
       "[[ 0.70710678 -0.70710678  0.          0.        ]\n",
       " [ 0.70710678  0.70710678  0.          0.        ]\n",
       " [ 0.          0.          0.70710678 -0.70710678]\n",
       " [ 0.          0.          0.70710678  0.70710678]]"
      ]
     },
     "execution_count": 29,
     "metadata": {},
     "output_type": "execute_result"
    }
   ],
   "source": [
    "print(f\"Pseudo H_S.dag() operator\")\n",
    "pH_s_dag.apply()"
   ]
  },
  {
   "cell_type": "markdown",
   "metadata": {},
   "source": [
    "#### Real Hadamards"
   ]
  },
  {
   "cell_type": "code",
   "execution_count": 30,
   "metadata": {},
   "outputs": [
    {
     "name": "stdout",
     "output_type": "stream",
     "text": [
      "Actual H_i Pulse Sequence: Iy(+pi/2) -> Ix(+pi/2) -> Ix(+pi/2)"
     ]
    }
   ],
   "source": [
    "aH_i = PulseSequence(\"Actual H_i\")\\\n",
    "        .add(Pulse(\"Iy(+pi/2)\", Iy, +np.pi/2))\\\n",
    "        .add(Pulse(\"Ix(+pi/2)\", Ix, +np.pi/2))\\\n",
    "        .add(Pulse(\"Ix(+pi/2)\", Ix, +np.pi/2))\\\n",
    "\n",
    "aH_i.print_sequence()"
   ]
  },
  {
   "cell_type": "code",
   "execution_count": 31,
   "metadata": {},
   "outputs": [
    {
     "name": "stdout",
     "output_type": "stream",
     "text": [
      "Actual H_i operator upto global phase\n"
     ]
    },
    {
     "data": {
      "text/latex": [
       "Quantum object: dims = [[2, 2], [2, 2]], shape = (4, 4), type = oper, isherm = True $ \\\\ \\left(\\begin{matrix}0.707 & 0.0 & 0.707 & 0.0\\\\0.0 & 0.707 & 0.0 & 0.707\\\\0.707 & 0.0 & -0.707 & 0.0\\\\0.0 & 0.707 & 0.0 & -0.707\\\\\\end{matrix}\\right)$"
      ],
      "text/plain": [
       "Quantum object: dims = [[2, 2], [2, 2]], shape = (4, 4), type = oper, isherm = True\n",
       "Qobj data =\n",
       "[[ 0.70710678  0.          0.70710678  0.        ]\n",
       " [ 0.          0.70710678  0.          0.70710678]\n",
       " [ 0.70710678  0.         -0.70710678  0.        ]\n",
       " [ 0.          0.70710678  0.         -0.70710678]]"
      ]
     },
     "execution_count": 31,
     "metadata": {},
     "output_type": "execute_result"
    }
   ],
   "source": [
    "print(f\"Actual H_i operator upto global phase\")\n",
    "np.exp(1j*np.pi/2)*aH_i.compile().get_operator()"
   ]
  },
  {
   "cell_type": "code",
   "execution_count": 32,
   "metadata": {},
   "outputs": [
    {
     "name": "stdout",
     "output_type": "stream",
     "text": [
      "Actual H_s Pulse Sequence: Sy(+pi/2) -> Sx(+pi/2) -> Sx(+pi/2)"
     ]
    }
   ],
   "source": [
    "aH_s = PulseSequence(\"Actual H_s\")\\\n",
    "        .add(Pulse(\"Sy(+pi/2)\", Sy, +np.pi/2))\\\n",
    "        .add(Pulse(\"Sx(+pi/2)\", Sx, +np.pi/2))\\\n",
    "        .add(Pulse(\"Sx(+pi/2)\", Sx, +np.pi/2))\\\n",
    "\n",
    "aH_s.print_sequence()"
   ]
  },
  {
   "cell_type": "code",
   "execution_count": 33,
   "metadata": {},
   "outputs": [
    {
     "name": "stdout",
     "output_type": "stream",
     "text": [
      "Actual H_S operator upto global phase\n"
     ]
    },
    {
     "data": {
      "text/latex": [
       "Quantum object: dims = [[2, 2], [2, 2]], shape = (4, 4), type = oper, isherm = True $ \\\\ \\left(\\begin{matrix}0.707 & 0.707 & 0.0 & 0.0\\\\0.707 & -0.707 & 0.0 & 0.0\\\\0.0 & 0.0 & 0.707 & 0.707\\\\0.0 & 0.0 & 0.707 & -0.707\\\\\\end{matrix}\\right)$"
      ],
      "text/plain": [
       "Quantum object: dims = [[2, 2], [2, 2]], shape = (4, 4), type = oper, isherm = True\n",
       "Qobj data =\n",
       "[[ 0.70710678  0.70710678  0.          0.        ]\n",
       " [ 0.70710678 -0.70710678  0.          0.        ]\n",
       " [ 0.          0.          0.70710678  0.70710678]\n",
       " [ 0.          0.          0.70710678 -0.70710678]]"
      ]
     },
     "execution_count": 33,
     "metadata": {},
     "output_type": "execute_result"
    }
   ],
   "source": [
    "print(f\"Actual H_S operator upto global phase\")\n",
    "np.exp(1j*np.pi/2) * aH_s.compile().get_operator()"
   ]
  },
  {
   "cell_type": "markdown",
   "metadata": {},
   "source": [
    "### Part C: Two Qubit Controlled Z"
   ]
  },
  {
   "cell_type": "code",
   "execution_count": 34,
   "metadata": {},
   "outputs": [],
   "source": [
    "cz_p = PulseSequence(\"CZ\")\\\n",
    "    .add_seq(Iz_pulse(np.pi/2))\\\n",
    "    .add_seq(Sz_pulse(np.pi/2))\\\n",
    "    .add(Pulse(\"-2IzSz(aka delay(3/2J))\", IzSz, 3*np.pi))"
   ]
  },
  {
   "cell_type": "code",
   "execution_count": 35,
   "metadata": {},
   "outputs": [
    {
     "name": "stdout",
     "output_type": "stream",
     "text": [
      "CZ multiplied by phase factor:\n"
     ]
    },
    {
     "data": {
      "text/latex": [
       "Quantum object: dims = [[2, 2], [2, 2]], shape = (4, 4), type = oper, isherm = True $ \\\\ \\left(\\begin{matrix}-1.000 & 0.0 & 0.0 & 0.0\\\\0.0 & -1.0 & 0.0 & 0.0\\\\0.0 & 0.0 & -1.0 & 0.0\\\\0.0 & 0.0 & 0.0 & 1.0\\\\\\end{matrix}\\right)$"
      ],
      "text/plain": [
       "Quantum object: dims = [[2, 2], [2, 2]], shape = (4, 4), type = oper, isherm = True\n",
       "Qobj data =\n",
       "[[-1.  0.  0.  0.]\n",
       " [ 0. -1.  0.  0.]\n",
       " [ 0.  0. -1.  0.]\n",
       " [ 0.  0.  0.  1.]]"
      ]
     },
     "execution_count": 35,
     "metadata": {},
     "output_type": "execute_result"
    }
   ],
   "source": [
    "print(f\"CZ multiplied by phase factor:\")\n",
    "np.exp(1j*np.pi/4)*cz_p.compile().get_operator()"
   ]
  },
  {
   "cell_type": "code",
   "execution_count": 36,
   "metadata": {},
   "outputs": [
    {
     "name": "stdout",
     "output_type": "stream",
     "text": [
      "CZ Pulse Sequence: Ix(-pi/2) -> Iy(0.5*pi) -> Ix(pi/2) -> Sx(-pi/2) -> Sy(0.5*pi) -> Sx(pi/2) -> -2IzSz(aka delay(3/2J))"
     ]
    }
   ],
   "source": [
    "cz_p.print_sequence()"
   ]
  },
  {
   "cell_type": "markdown",
   "metadata": {},
   "source": [
    "### Part D: Two Qubit CNOT"
   ]
  },
  {
   "cell_type": "code",
   "execution_count": 37,
   "metadata": {},
   "outputs": [],
   "source": [
    "ncx = PulseSequence(\"Near CNOT\")\\\n",
    "    .add(Pulse(\"Sx(pi/2)\", Sx, np.pi/2))\\\n",
    "    .add(Pulse(\"2IzSz(aka delay(1/2J))\", IzSz, np.pi))\\\n",
    "    .add(Pulse(\"Sy(-pi/2)\", Sy, -np.pi/2))"
   ]
  },
  {
   "cell_type": "code",
   "execution_count": 38,
   "metadata": {},
   "outputs": [
    {
     "name": "stdout",
     "output_type": "stream",
     "text": [
      "Near CX multiplied by phase factor: \n"
     ]
    },
    {
     "data": {
      "text/latex": [
       "Quantum object: dims = [[2, 2], [2, 2]], shape = (4, 4), type = oper, isherm = False $ \\\\ \\left(\\begin{matrix}-1.0j & 0.0 & 0.0 & 0.0\\\\0.0 & 1.0 & 0.0 & 0.0\\\\0.0 & 0.0 & 0.0 & -1.0j\\\\0.0 & 0.0 & -1.0 & 0.0\\\\\\end{matrix}\\right)$"
      ],
      "text/plain": [
       "Quantum object: dims = [[2, 2], [2, 2]], shape = (4, 4), type = oper, isherm = False\n",
       "Qobj data =\n",
       "[[ 0.-1.j  0.+0.j  0.+0.j  0.+0.j]\n",
       " [ 0.+0.j  1.+0.j  0.+0.j  0.+0.j]\n",
       " [ 0.+0.j  0.+0.j  0.+0.j  0.-1.j]\n",
       " [ 0.+0.j  0.+0.j -1.+0.j  0.+0.j]]"
      ]
     },
     "execution_count": 38,
     "metadata": {},
     "output_type": "execute_result"
    }
   ],
   "source": [
    "print(f\"Near CX multiplied by phase factor: \")\n",
    "np.exp(-1j*np.pi/4)*ncx.compile().get_operator()"
   ]
  },
  {
   "cell_type": "code",
   "execution_count": 39,
   "metadata": {},
   "outputs": [
    {
     "name": "stdout",
     "output_type": "stream",
     "text": [
      "Near CNOT Pulse Sequence: Sx(pi/2) -> 2IzSz(aka delay(1/2J)) -> Sy(-pi/2)"
     ]
    }
   ],
   "source": [
    "ncx.print_sequence()"
   ]
  },
  {
   "cell_type": "code",
   "execution_count": 40,
   "metadata": {},
   "outputs": [],
   "source": [
    "cx =  PulseSequence(\"CNOT\")\\\n",
    "    .add(pH_s)\\\n",
    "    .add_seq(cz_p)\\\n",
    "    .add(pH_s_dag)"
   ]
  },
  {
   "cell_type": "code",
   "execution_count": 41,
   "metadata": {},
   "outputs": [
    {
     "name": "stdout",
     "output_type": "stream",
     "text": [
      "Actual CNOT multiplied by global phase\n"
     ]
    },
    {
     "data": {
      "text/latex": [
       "Quantum object: dims = [[2, 2], [2, 2]], shape = (4, 4), type = oper, isherm = True $ \\\\ \\left(\\begin{matrix}1.000 & 0.0 & 0.0 & 0.0\\\\0.0 & 1.0 & 0.0 & 0.0\\\\0.0 & 0.0 & 0.0 & 1.0\\\\0.0 & 0.0 & 1.0 & 0.0\\\\\\end{matrix}\\right)$"
      ],
      "text/plain": [
       "Quantum object: dims = [[2, 2], [2, 2]], shape = (4, 4), type = oper, isherm = True\n",
       "Qobj data =\n",
       "[[1. 0. 0. 0.]\n",
       " [0. 1. 0. 0.]\n",
       " [0. 0. 0. 1.]\n",
       " [0. 0. 1. 0.]]"
      ]
     },
     "execution_count": 41,
     "metadata": {},
     "output_type": "execute_result"
    }
   ],
   "source": [
    "print(\"Actual CNOT multiplied by global phase\")\n",
    "np.exp(1j*5*np.pi/4)*cx.compile().get_operator()"
   ]
  },
  {
   "cell_type": "code",
   "execution_count": 42,
   "metadata": {},
   "outputs": [
    {
     "name": "stdout",
     "output_type": "stream",
     "text": [
      "CNOT Pulse Sequence: Sy(-pi/2) -> Ix(-pi/2) -> Iy(0.5*pi) -> Ix(pi/2) -> Sx(-pi/2) -> Sy(0.5*pi) -> Sx(pi/2) -> -2IzSz(aka delay(3/2J)) -> Sy(+pi/2)"
     ]
    }
   ],
   "source": [
    "cx.print_sequence()"
   ]
  },
  {
   "cell_type": "markdown",
   "metadata": {},
   "source": [
    "# (Q2) Oracles: Deutsch Jozsa"
   ]
  },
  {
   "cell_type": "markdown",
   "metadata": {},
   "source": [
    "### f1(x) = 0 {Constant 0 function} \n",
    "f1(0)=0, f1(1)=0  \n",
    "Do nothing"
   ]
  },
  {
   "cell_type": "code",
   "execution_count": 43,
   "metadata": {},
   "outputs": [
    {
     "name": "stdout",
     "output_type": "stream",
     "text": [
      "f1 Pulse Sequence: "
     ]
    }
   ],
   "source": [
    "f1 = PulseSequence(\"f1\")\n",
    "f1.print_sequence()"
   ]
  },
  {
   "cell_type": "markdown",
   "metadata": {},
   "source": [
    "### f2(x) = 1 {Constant 1 function} \n",
    "f2(0) = 1, f2(1) = 1  \n",
    "Apply X gate on second qubit(C)\n"
   ]
  },
  {
   "cell_type": "code",
   "execution_count": 44,
   "metadata": {},
   "outputs": [
    {
     "name": "stdout",
     "output_type": "stream",
     "text": [
      "f2 Pulse Sequence: Sx(pi)"
     ]
    }
   ],
   "source": [
    "# f1(x) = 1 for x in {0,1}\n",
    "# Apply X gate on second qubit(C)\n",
    "f2 = PulseSequence(\"f2\").add(X_s)\n",
    "f2.print_sequence()"
   ]
  },
  {
   "cell_type": "code",
   "execution_count": 45,
   "metadata": {},
   "outputs": [
    {
     "data": {
      "text/latex": [
       "Quantum object: dims = [[2, 2], [2, 2]], shape = (4, 4), type = oper, isherm = False $ \\\\ \\left(\\begin{matrix}0.0 & -1.0j & 0.0 & 0.0\\\\-1.0j & 0.0 & 0.0 & 0.0\\\\0.0 & 0.0 & 0.0 & -1.0j\\\\0.0 & 0.0 & -1.0j & 0.0\\\\\\end{matrix}\\right)$"
      ],
      "text/plain": [
       "Quantum object: dims = [[2, 2], [2, 2]], shape = (4, 4), type = oper, isherm = False\n",
       "Qobj data =\n",
       "[[0.+0.j 0.-1.j 0.+0.j 0.+0.j]\n",
       " [0.-1.j 0.+0.j 0.+0.j 0.+0.j]\n",
       " [0.+0.j 0.+0.j 0.+0.j 0.-1.j]\n",
       " [0.+0.j 0.+0.j 0.-1.j 0.+0.j]]"
      ]
     },
     "execution_count": 45,
     "metadata": {},
     "output_type": "execute_result"
    }
   ],
   "source": [
    "f2.compile().get_operator()"
   ]
  },
  {
   "cell_type": "markdown",
   "metadata": {},
   "source": [
    "### f3(x) = x xor y {Balanced function} \n",
    "f3(0) = 0, f3(1) = 1  \n",
    "Apply CX gate, with control on $1^{st}$ qubit and target on $2^{nd}$ qubit.\n"
   ]
  },
  {
   "cell_type": "code",
   "execution_count": 46,
   "metadata": {},
   "outputs": [
    {
     "name": "stdout",
     "output_type": "stream",
     "text": [
      "f3 Pulse Sequence: Sy(-pi/2) -> Ix(-pi/2) -> Iy(0.5*pi) -> Ix(pi/2) -> Sx(-pi/2) -> Sy(0.5*pi) -> Sx(pi/2) -> -2IzSz(aka delay(3/2J)) -> Sy(+pi/2)"
     ]
    }
   ],
   "source": [
    "f3 = PulseSequence(\"f3\").add_seq(cx)\n",
    "f3.print_sequence()"
   ]
  },
  {
   "cell_type": "code",
   "execution_count": 47,
   "metadata": {},
   "outputs": [
    {
     "data": {
      "text/latex": [
       "Quantum object: dims = [[2, 2], [2, 2]], shape = (4, 4), type = oper, isherm = False $ \\\\ \\left(\\begin{matrix}(-0.707+0.707j) & 0.0 & 0.0 & 0.0\\\\0.0 & (-0.707+0.707j) & 0.0 & 0.0\\\\0.0 & 0.0 & 0.0 & (-0.707+0.707j)\\\\0.0 & 0.0 & (-0.707+0.707j) & 0.0\\\\\\end{matrix}\\right)$"
      ],
      "text/plain": [
       "Quantum object: dims = [[2, 2], [2, 2]], shape = (4, 4), type = oper, isherm = False\n",
       "Qobj data =\n",
       "[[-0.70710678+0.70710678j  0.        +0.j          0.        +0.j\n",
       "   0.        +0.j        ]\n",
       " [ 0.        +0.j         -0.70710678+0.70710678j  0.        +0.j\n",
       "   0.        +0.j        ]\n",
       " [ 0.        +0.j          0.        +0.j          0.        +0.j\n",
       "  -0.70710678+0.70710678j]\n",
       " [ 0.        +0.j          0.        +0.j         -0.70710678+0.70710678j\n",
       "   0.        +0.j        ]]"
      ]
     },
     "execution_count": 47,
     "metadata": {},
     "output_type": "execute_result"
    }
   ],
   "source": [
    "print(f\"Uf3 is CNOT upto global phase\")\n",
    "(np.exp(-1j*np.pi/4))*f3.compile().get_operator()"
   ]
  },
  {
   "cell_type": "markdown",
   "metadata": {},
   "source": [
    "### f4(x) = ~x xor y {Balanced function} \n",
    "f4(0) = 1, f4(1) = 0  \n",
    "Apply anti-controlled CX gate, with control on $1^{st}$ qubit and target on $2^{nd}$ qubit. This can be done by applying an $X_{i}$ -> CX -> $X_{i}$ pulse sequence.\n"
   ]
  },
  {
   "cell_type": "code",
   "execution_count": 48,
   "metadata": {},
   "outputs": [],
   "source": [
    "f4 = PulseSequence(\"f4\")\\\n",
    "    .add(X_i)\\\n",
    "    .add_seq(cx)\\\n",
    "    .add(X_i)"
   ]
  },
  {
   "cell_type": "code",
   "execution_count": 49,
   "metadata": {},
   "outputs": [
    {
     "name": "stdout",
     "output_type": "stream",
     "text": [
      "f4 Pulse Sequence: Ix(pi) -> Sy(-pi/2) -> Ix(-pi/2) -> Iy(0.5*pi) -> Ix(pi/2) -> Sx(-pi/2) -> Sy(0.5*pi) -> Sx(pi/2) -> -2IzSz(aka delay(3/2J)) -> Sy(+pi/2) -> Ix(pi)"
     ]
    }
   ],
   "source": [
    "f4.print_sequence()"
   ]
  },
  {
   "cell_type": "code",
   "execution_count": 50,
   "metadata": {},
   "outputs": [],
   "source": [
    "g = qt.basis(2,0)\n",
    "e = qt.basis(2,1)"
   ]
  },
  {
   "cell_type": "code",
   "execution_count": 51,
   "metadata": {},
   "outputs": [
    {
     "name": "stdout",
     "output_type": "stream",
     "text": [
      "0-controlled CNOT upto global phase\n"
     ]
    },
    {
     "data": {
      "text/latex": [
       "Quantum object: dims = [[2, 2], [2, 2]], shape = (4, 4), type = oper, isherm = True $ \\\\ \\left(\\begin{matrix}0.0 & 1.0 & 0.0 & 0.0\\\\1.0 & 0.0 & 0.0 & 0.0\\\\0.0 & 0.0 & 1.000 & 0.0\\\\0.0 & 0.0 & 0.0 & 1.0\\\\\\end{matrix}\\right)$"
      ],
      "text/plain": [
       "Quantum object: dims = [[2, 2], [2, 2]], shape = (4, 4), type = oper, isherm = True\n",
       "Qobj data =\n",
       "[[0. 1. 0. 0.]\n",
       " [1. 0. 0. 0.]\n",
       " [0. 0. 1. 0.]\n",
       " [0. 0. 0. 1.]]"
      ]
     },
     "execution_count": 51,
     "metadata": {},
     "output_type": "execute_result"
    }
   ],
   "source": [
    "print(\"0-controlled CNOT upto global phase\")\n",
    "np.exp(1j*np.pi/4)*f4.compile().get_operator()"
   ]
  },
  {
   "cell_type": "markdown",
   "metadata": {},
   "source": [
    "#### Verification of 0-CNOT"
   ]
  },
  {
   "cell_type": "code",
   "execution_count": 52,
   "metadata": {},
   "outputs": [
    {
     "data": {
      "text/latex": [
       "Quantum object: dims = [[2, 2], [1, 1]], shape = (4, 1), type = ket $ \\\\ \\left(\\begin{matrix}0.0\\\\1.0\\\\0.0\\\\0.0\\\\\\end{matrix}\\right)$"
      ],
      "text/plain": [
       "Quantum object: dims = [[2, 2], [1, 1]], shape = (4, 1), type = ket\n",
       "Qobj data =\n",
       "[[0.]\n",
       " [1.]\n",
       " [0.]\n",
       " [0.]]"
      ]
     },
     "execution_count": 52,
     "metadata": {},
     "output_type": "execute_result"
    }
   ],
   "source": [
    "np.exp(1j*np.pi/4)*f4.compile().get_operator()*qt.tensor(g,g)"
   ]
  },
  {
   "cell_type": "markdown",
   "metadata": {},
   "source": [
    "|00> -> |01>"
   ]
  },
  {
   "cell_type": "code",
   "execution_count": 53,
   "metadata": {},
   "outputs": [
    {
     "data": {
      "text/latex": [
       "Quantum object: dims = [[2, 2], [1, 1]], shape = (4, 1), type = ket $ \\\\ \\left(\\begin{matrix}1.0\\\\0.0\\\\0.0\\\\0.0\\\\\\end{matrix}\\right)$"
      ],
      "text/plain": [
       "Quantum object: dims = [[2, 2], [1, 1]], shape = (4, 1), type = ket\n",
       "Qobj data =\n",
       "[[1.]\n",
       " [0.]\n",
       " [0.]\n",
       " [0.]]"
      ]
     },
     "execution_count": 53,
     "metadata": {},
     "output_type": "execute_result"
    }
   ],
   "source": [
    "np.exp(1j*np.pi/4)*f4.compile().get_operator()*qt.tensor(g,e)"
   ]
  },
  {
   "cell_type": "markdown",
   "metadata": {},
   "source": [
    "|01> -> |00>"
   ]
  },
  {
   "cell_type": "code",
   "execution_count": 54,
   "metadata": {},
   "outputs": [
    {
     "data": {
      "text/latex": [
       "Quantum object: dims = [[2, 2], [1, 1]], shape = (4, 1), type = ket $ \\\\ \\left(\\begin{matrix}0.0\\\\0.0\\\\1.000\\\\0.0\\\\\\end{matrix}\\right)$"
      ],
      "text/plain": [
       "Quantum object: dims = [[2, 2], [1, 1]], shape = (4, 1), type = ket\n",
       "Qobj data =\n",
       "[[0.]\n",
       " [0.]\n",
       " [1.]\n",
       " [0.]]"
      ]
     },
     "execution_count": 54,
     "metadata": {},
     "output_type": "execute_result"
    }
   ],
   "source": [
    "np.exp(1j*np.pi/4)*f4.compile().get_operator()*qt.tensor(e,g)"
   ]
  },
  {
   "cell_type": "markdown",
   "metadata": {},
   "source": [
    "|10> -> |10>"
   ]
  },
  {
   "cell_type": "code",
   "execution_count": 55,
   "metadata": {},
   "outputs": [
    {
     "data": {
      "text/latex": [
       "Quantum object: dims = [[2, 2], [1, 1]], shape = (4, 1), type = ket $ \\\\ \\left(\\begin{matrix}0.0\\\\0.0\\\\0.0\\\\1.0\\\\\\end{matrix}\\right)$"
      ],
      "text/plain": [
       "Quantum object: dims = [[2, 2], [1, 1]], shape = (4, 1), type = ket\n",
       "Qobj data =\n",
       "[[0.]\n",
       " [0.]\n",
       " [0.]\n",
       " [1.]]"
      ]
     },
     "execution_count": 55,
     "metadata": {},
     "output_type": "execute_result"
    }
   ],
   "source": [
    "np.exp(1j*np.pi/4)*f4.compile().get_operator()*qt.tensor(e,e)"
   ]
  },
  {
   "cell_type": "markdown",
   "metadata": {},
   "source": [
    "|11> -> |11>"
   ]
  },
  {
   "cell_type": "markdown",
   "metadata": {},
   "source": [
    "# (Q3) Deutsch Jozsa(DJ) Algorithm"
   ]
  },
  {
   "cell_type": "markdown",
   "metadata": {},
   "source": [
    "It is a quantum algorithm to determine if a Boolean function is constant or balanced. \n",
    "\n",
    "### Step 1: State Initialisation\n",
    "We first prepare $|\\psi_0\\rangle =|00\\rangle$ by temporal averaging as done in Lab 3. \n",
    "\n",
    "### Step 2: Execute Algorithm\n",
    "#### Step 2.1 Apply $U_{1}= Iy(+pi/2)Sy(-pi/2)$\n",
    "After applying $U_1$ to $|\\psi_0\\rangle =|00\\rangle$, we get:\n",
    "$$\n",
    "\\begin{aligned} \n",
    "|\\psi_1\\rangle=U_1|\\psi_0\\rangle= \\frac{|0\\rangle+|1\\rangle}{\\sqrt{2}}\\otimes\\frac{|0\\rangle-|1\\rangle}{\\sqrt{2}}\\\\\n",
    "=|00\\rangle -|01\\rangle +|10\\rangle-|11\\rangle \n",
    "\\end{aligned}\n",
    "$$\n",
    "\n",
    "#### Step 2.2 Apply $U_{fk}$\n",
    "Here are the four possible boolean functions for two classical bits\n",
    "\n",
    "|x|f1(x)|f2(x)|f3(x)|f4(x)|\n",
    "| :---- | :-: | :-: | :-: | :-:\n",
    "| 0 | 0 | 1 | 0 | 1 |\n",
    "| 1 | 0 | 1 | 1 | 0 |\n",
    "\n",
    "Unitary transform $U_{fk}|x\\rangle |y\\rangle=|x\\rangle |f(x)\\oplus y\\rangle$. The reason can be seen by writing the qubit state after the unitary transform $|\\psi_2\\rangle=U_f|\\psi_1\\rangle$.\n",
    "\n",
    "$$\n",
    "\\begin{aligned}\n",
    "|\\psi_2\\rangle&=\\frac{1}{2}\\{|0\\rangle |0\\rangle- |0\\rangle |f(0)\\oplus1\\rangle+|1\\rangle |f(1)\\rangle-|1\\rangle |f(1)\\oplus1\\rangle\\}\\\\\n",
    "&=\\frac{1}{2}\\{ (-1)^{f(0)} |0\\rangle(|0\\rangle-|1\\rangle)+(-1)^{f(1)} |1\\rangle(|0\\rangle-|1\\rangle)\\}\\\\\n",
    "&=\\frac{(-1)^{f(0)}|0\\rangle+(-1)^{f(1)}|1\\rangle}{\\sqrt{2}}\\otimes\\frac{|0\\rangle-|1\\rangle}{\\sqrt{2}}\n",
    "\\end{aligned}\n",
    "$$\n",
    "\n",
    "#### Step 2.3 Apply $U_{3}=Iy(-pi/2)Sy(+pi/2)$\n",
    "Finally, we invert the initial rotations using $U_{3}=Iy(-pi/2)Sy(+pi/2)$\n",
    "$$\n",
    "\n",
    "\\begin{aligned}\n",
    "|\\psi_3\\rangle&=U_3|\\psi_2\\rangle\\\\\n",
    "&= \\frac{1}{2}\\{(-1)^{f(0)}(|0\\rangle-|1\\rangle)+(-1)^{f(1)}(|0\\rangle+|1\\rangle)\\}\\otimes |0\\rangle\\\\\n",
    "&= \\frac{1}{2} \\{((-1)^{f(0)}+(-1)^{f(1)})|0\\rangle+(-(-1)^{f(0)}+(-1)^{f(1)})|1\\rangle\\}\\otimes |0\\rangle\n",
    "\\end{aligned}\n",
    "$$\n",
    "\n",
    "### Step 3: Verify Deutsch Jozsa(DJ) Algorithm\n",
    "\n",
    "### Case 1: Function is constant: f(0)=f(1)\n",
    "- Putting $f(0)=f(1)$ in $|\\psi_3\\rangle$, we get $|\\psi_3\\rangle= |00\\rangle$\n",
    "- Therefore we should observe same spectra for $U_{f1}$ and $U_{f2}$, which would be different from spectra of $U_{f3}$ and $U_{f4}$.\n",
    "\n",
    "### Case 2: Function is balanced: f(0)!=f(1)\n",
    "- Putting $f(0)=(1-f(1))$ in $|\\psi_3\\rangle$, we get $|\\psi_3\\rangle= |10\\rangle$\n",
    "- Therefore we should observe same spectra for $U_{f3}$ and $U_{f4}$, which would be different from spectra of $U_{f1}$ and $U_{f2}$."
   ]
  },
  {
   "cell_type": "markdown",
   "metadata": {},
   "source": [
    "## Define P1 and P2 operators for Temporal averaging"
   ]
  },
  {
   "cell_type": "code",
   "execution_count": 56,
   "metadata": {},
   "outputs": [
    {
     "data": {
      "text/latex": [
       "Quantum object: dims = [[2, 2], [2, 2]], shape = (4, 4), type = oper, isherm = True $ \\\\ \\left(\\begin{matrix}1.0 & 0.0 & 0.0 & 0.0\\\\0.0 & 1.0 & 0.0 & 0.0\\\\0.0 & 0.0 & 1.0 & 0.0\\\\0.0 & 0.0 & 0.0 & 1.0\\\\\\end{matrix}\\right)$"
      ],
      "text/plain": [
       "Quantum object: dims = [[2, 2], [2, 2]], shape = (4, 4), type = oper, isherm = True\n",
       "Qobj data =\n",
       "[[1. 0. 0. 0.]\n",
       " [0. 1. 0. 0.]\n",
       " [0. 0. 1. 0.]\n",
       " [0. 0. 0. 1.]]"
      ]
     },
     "execution_count": 56,
     "metadata": {},
     "output_type": "execute_result"
    }
   ],
   "source": [
    "p0 = PulseSequence(\"P0\")\n",
    "p0.compile().get_operator()"
   ]
  },
  {
   "cell_type": "code",
   "execution_count": 57,
   "metadata": {},
   "outputs": [],
   "source": [
    "# From lab manual\n",
    "p1 =  PulseSequence(\"P1\")\\\n",
    "    .add(Pulse(\"Sx(+pi/2)\", Sx, +np.pi/2))\\\n",
    "    .add(Pulse(\"2IzSz(aka delay(1/2J))\", IzSz, +np.pi))\\\n",
    "    .add(Pulse(\"Sy(+pi/2)\", Sy, +np.pi/2))\\\n",
    "    .add(Pulse(\"Ix(+pi/2)\", Ix, +np.pi/2))\\\n",
    "    .add(Pulse(\"2IzSz(aka delay(1/2J))\", IzSz, +np.pi))\\\n",
    "    .add(Pulse(\"Iy(+pi/2)\", Iy, +np.pi/2))"
   ]
  },
  {
   "cell_type": "code",
   "execution_count": 58,
   "metadata": {},
   "outputs": [
    {
     "data": {
      "text/latex": [
       "Quantum object: dims = [[2, 2], [2, 2]], shape = (4, 4), type = oper, isherm = False $ \\\\ \\left(\\begin{matrix}0.0 & 0.0 & -1.0j & 0.0\\\\1.0 & 0.0 & 0.0 & 0.0\\\\0.0 & -1.0 & 0.0 & 0.0\\\\0.0 & 0.0 & 0.0 & -1.0j\\\\\\end{matrix}\\right)$"
      ],
      "text/plain": [
       "Quantum object: dims = [[2, 2], [2, 2]], shape = (4, 4), type = oper, isherm = False\n",
       "Qobj data =\n",
       "[[ 0.+0.j  0.+0.j  0.-1.j  0.+0.j]\n",
       " [ 1.+0.j  0.+0.j  0.+0.j  0.+0.j]\n",
       " [ 0.+0.j -1.+0.j  0.+0.j  0.+0.j]\n",
       " [ 0.+0.j  0.+0.j  0.+0.j  0.-1.j]]"
      ]
     },
     "execution_count": 58,
     "metadata": {},
     "output_type": "execute_result"
    }
   ],
   "source": [
    "p1.compile().get_operator()"
   ]
  },
  {
   "cell_type": "code",
   "execution_count": 59,
   "metadata": {},
   "outputs": [
    {
     "name": "stdout",
     "output_type": "stream",
     "text": [
      "P1 Pulse Sequence: Sx(+pi/2) -> 2IzSz(aka delay(1/2J)) -> Sy(+pi/2) -> Ix(+pi/2) -> 2IzSz(aka delay(1/2J)) -> Iy(+pi/2)"
     ]
    }
   ],
   "source": [
    "p1.print_sequence()"
   ]
  },
  {
   "cell_type": "code",
   "execution_count": 60,
   "metadata": {},
   "outputs": [],
   "source": [
    "# From lab manual\n",
    "p2 =  PulseSequence(\"P2\")\\\n",
    "    .add(Pulse(\"Ix(+pi/2)\", Ix, +np.pi/2))\\\n",
    "    .add(Pulse(\"2IzSz(aka delay(1/2J))\", IzSz, +np.pi))\\\n",
    "    .add(Pulse(\"Sx(+pi/2)\", Sx, +np.pi/2))\\\n",
    "    .add(Pulse(\"Iy(+pi/2)\", Iy, +np.pi/2))\\\n",
    "    .add(Pulse(\"2IzSz(aka delay(1/2J))\", IzSz, +np.pi))\\\n",
    "    .add(Pulse(\"Sy(+pi/2)\", Sy, +np.pi/2))"
   ]
  },
  {
   "cell_type": "code",
   "execution_count": 61,
   "metadata": {},
   "outputs": [
    {
     "data": {
      "text/latex": [
       "Quantum object: dims = [[2, 2], [2, 2]], shape = (4, 4), type = oper, isherm = False $ \\\\ \\left(\\begin{matrix}0.0 & -1.0j & 0.0 & 0.0\\\\0.0 & 0.0 & -1.0 & 0.0\\\\1.0 & 0.0 & 0.0 & 0.0\\\\0.0 & 0.0 & 0.0 & -1.0j\\\\\\end{matrix}\\right)$"
      ],
      "text/plain": [
       "Quantum object: dims = [[2, 2], [2, 2]], shape = (4, 4), type = oper, isherm = False\n",
       "Qobj data =\n",
       "[[ 0.+0.j  0.-1.j  0.+0.j  0.+0.j]\n",
       " [ 0.+0.j  0.+0.j -1.+0.j  0.+0.j]\n",
       " [ 1.+0.j  0.+0.j  0.+0.j  0.+0.j]\n",
       " [ 0.+0.j  0.+0.j  0.+0.j  0.-1.j]]"
      ]
     },
     "execution_count": 61,
     "metadata": {},
     "output_type": "execute_result"
    }
   ],
   "source": [
    "p2.compile().get_operator()"
   ]
  },
  {
   "cell_type": "code",
   "execution_count": 62,
   "metadata": {},
   "outputs": [
    {
     "name": "stdout",
     "output_type": "stream",
     "text": [
      "P2 Pulse Sequence: Ix(+pi/2) -> 2IzSz(aka delay(1/2J)) -> Sx(+pi/2) -> Iy(+pi/2) -> 2IzSz(aka delay(1/2J)) -> Sy(+pi/2)"
     ]
    }
   ],
   "source": [
    "p2.print_sequence()"
   ]
  },
  {
   "cell_type": "markdown",
   "metadata": {},
   "source": [
    "## Step 1 : State Preparation : |00>"
   ]
  },
  {
   "cell_type": "markdown",
   "metadata": {},
   "source": [
    "### Step 1.1 : P0 simulation for |00>"
   ]
  },
  {
   "cell_type": "code",
   "execution_count": 63,
   "metadata": {},
   "outputs": [
    {
     "name": "stdout",
     "output_type": "stream",
     "text": [
      "P0(00) Pulse Sequence: Ix(pi) -> Sx(pi)"
     ]
    }
   ],
   "source": [
    "p0_00 = PulseSequence(\"P0(00)\")\\\n",
    "        .add(X_i)\\\n",
    "        .add(X_s)\n",
    "p0_00.print_sequence()"
   ]
  },
  {
   "cell_type": "code",
   "execution_count": 64,
   "metadata": {},
   "outputs": [
    {
     "data": {
      "text/latex": [
       "Quantum object: dims = [[2, 2], [2, 2]], shape = (4, 4), type = oper, isherm = True $ \\\\ \\left(\\begin{matrix}0.0 & 0.0 & 0.0 & -1.0\\\\0.0 & 0.0 & -1.0 & 0.0\\\\0.0 & -1.0 & 0.0 & 0.0\\\\-1.0 & 0.0 & 0.0 & 0.0\\\\\\end{matrix}\\right)$"
      ],
      "text/plain": [
       "Quantum object: dims = [[2, 2], [2, 2]], shape = (4, 4), type = oper, isherm = True\n",
       "Qobj data =\n",
       "[[ 0.  0.  0. -1.]\n",
       " [ 0.  0. -1.  0.]\n",
       " [ 0. -1.  0.  0.]\n",
       " [-1.  0.  0.  0.]]"
      ]
     },
     "execution_count": 64,
     "metadata": {},
     "output_type": "execute_result"
    }
   ],
   "source": [
    "p0_00.compile().get_operator()"
   ]
  },
  {
   "cell_type": "code",
   "execution_count": 65,
   "metadata": {},
   "outputs": [
    {
     "data": {
      "text/latex": [
       "Quantum object: dims = [[2, 2], [2, 2]], shape = (4, 4), type = oper, isherm = True $ \\\\ \\left(\\begin{matrix}-1.0 & 0.0 & 0.0 & 0.0\\\\0.0 & -0.600 & 0.0 & 0.0\\\\0.0 & 0.0 & 0.600 & 0.0\\\\0.0 & 0.0 & 0.0 & 1.0\\\\\\end{matrix}\\right)$"
      ],
      "text/plain": [
       "Quantum object: dims = [[2, 2], [2, 2]], shape = (4, 4), type = oper, isherm = True\n",
       "Qobj data =\n",
       "[[-1.   0.   0.   0. ]\n",
       " [ 0.  -0.6  0.   0. ]\n",
       " [ 0.   0.   0.6  0. ]\n",
       " [ 0.   0.   0.   1. ]]"
      ]
     },
     "execution_count": 65,
     "metadata": {},
     "output_type": "execute_result"
    }
   ],
   "source": [
    "p0_rho00 = p0_00.compile().evolve_pho(pho_th)\n",
    "p0_rho00.rho"
   ]
  },
  {
   "cell_type": "code",
   "execution_count": 66,
   "metadata": {},
   "outputs": [
    {
     "name": "stdout",
     "output_type": "stream",
     "text": [
      "H spectrum\n",
      "Peak1 at 4.74 ppm with integral=(-1.6+0j)\n",
      "Peak2 at 8.18 ppm with integral=(-1.6+0j)\n",
      "C spectrum\n",
      "Peak1 @ 66.48 ppm with integral=(-0.4+0j)\n",
      "Peak2 @ 80.19 ppm with integral=(-0.4+0j)\n"
     ]
    }
   ],
   "source": [
    "p0_rho00.h_spectrum()\n",
    "p0_rho00.c_spectrum()"
   ]
  },
  {
   "cell_type": "markdown",
   "metadata": {},
   "source": [
    "#### Step 1.2 : P1 simulation for |00>"
   ]
  },
  {
   "cell_type": "code",
   "execution_count": 67,
   "metadata": {},
   "outputs": [],
   "source": [
    "p1_00 = PulseSequence(\"P1(00)\")\\\n",
    "        .add_seq(p1)\\\n",
    "        .add(X_i)\\\n",
    "        .add(X_s)"
   ]
  },
  {
   "cell_type": "code",
   "execution_count": 68,
   "metadata": {},
   "outputs": [
    {
     "name": "stdout",
     "output_type": "stream",
     "text": [
      "P1(00) Pulse Sequence: Sx(+pi/2) -> 2IzSz(aka delay(1/2J)) -> Sy(+pi/2) -> Ix(+pi/2) -> 2IzSz(aka delay(1/2J)) -> Iy(+pi/2) -> Ix(pi) -> Sx(pi)"
     ]
    }
   ],
   "source": [
    "p1_00.print_sequence()"
   ]
  },
  {
   "cell_type": "code",
   "execution_count": 69,
   "metadata": {},
   "outputs": [
    {
     "data": {
      "text/latex": [
       "Quantum object: dims = [[2, 2], [2, 2]], shape = (4, 4), type = oper, isherm = False $ \\\\ \\left(\\begin{matrix}0.0 & 0.0 & 0.0 & 1.0j\\\\0.0 & 1.0 & 0.0 & 0.0\\\\-1.0 & 0.0 & 0.0 & 0.0\\\\0.0 & 0.0 & 1.0j & 0.0\\\\\\end{matrix}\\right)$"
      ],
      "text/plain": [
       "Quantum object: dims = [[2, 2], [2, 2]], shape = (4, 4), type = oper, isherm = False\n",
       "Qobj data =\n",
       "[[ 0.+0.j  0.+0.j  0.+0.j  0.+1.j]\n",
       " [ 0.+0.j  1.+0.j  0.+0.j  0.+0.j]\n",
       " [-1.+0.j  0.+0.j  0.+0.j  0.+0.j]\n",
       " [ 0.+0.j  0.+0.j  0.+1.j  0.+0.j]]"
      ]
     },
     "execution_count": 69,
     "metadata": {},
     "output_type": "execute_result"
    }
   ],
   "source": [
    "p1_00.compile().get_operator()"
   ]
  },
  {
   "cell_type": "code",
   "execution_count": 70,
   "metadata": {},
   "outputs": [
    {
     "data": {
      "text/latex": [
       "Quantum object: dims = [[2, 2], [2, 2]], shape = (4, 4), type = oper, isherm = True $ \\\\ \\left(\\begin{matrix}-1.0 & 0.0 & 0.0 & 0.0\\\\0.0 & 0.600 & 0.0 & 0.0\\\\0.0 & 0.0 & 1.0 & 0.0\\\\0.0 & 0.0 & 0.0 & -0.600\\\\\\end{matrix}\\right)$"
      ],
      "text/plain": [
       "Quantum object: dims = [[2, 2], [2, 2]], shape = (4, 4), type = oper, isherm = True\n",
       "Qobj data =\n",
       "[[-1.   0.   0.   0. ]\n",
       " [ 0.   0.6  0.   0. ]\n",
       " [ 0.   0.   1.   0. ]\n",
       " [ 0.   0.   0.  -0.6]]"
      ]
     },
     "execution_count": 70,
     "metadata": {},
     "output_type": "execute_result"
    }
   ],
   "source": [
    "p1_rho00 = p1_00.compile().evolve_pho(pho_th)\n",
    "p1_rho00.rho"
   ]
  },
  {
   "cell_type": "code",
   "execution_count": 71,
   "metadata": {},
   "outputs": [
    {
     "name": "stdout",
     "output_type": "stream",
     "text": [
      "H spectrum\n",
      "Peak1 at 4.74 ppm with integral=(-2+0j)\n",
      "Peak2 at 8.18 ppm with integral=(1.2+0j)\n",
      "C spectrum\n",
      "Peak1 @ 66.48 ppm with integral=(-1.6+0j)\n",
      "Peak2 @ 80.19 ppm with integral=(1.6+0j)\n"
     ]
    }
   ],
   "source": [
    "p1_rho00.h_spectrum()\n",
    "p1_rho00.c_spectrum()"
   ]
  },
  {
   "cell_type": "markdown",
   "metadata": {},
   "source": [
    "### Step 1.3 : P2 simulation for |00>"
   ]
  },
  {
   "cell_type": "code",
   "execution_count": 72,
   "metadata": {},
   "outputs": [],
   "source": [
    "p2_00 = PulseSequence(\"P2(00)\")\\\n",
    "        .add_seq(p2)\\\n",
    "        .add(X_i)\\\n",
    "        .add(X_s)"
   ]
  },
  {
   "cell_type": "code",
   "execution_count": 73,
   "metadata": {},
   "outputs": [
    {
     "name": "stdout",
     "output_type": "stream",
     "text": [
      "P2(00) Pulse Sequence: Ix(+pi/2) -> 2IzSz(aka delay(1/2J)) -> Sx(+pi/2) -> Iy(+pi/2) -> 2IzSz(aka delay(1/2J)) -> Sy(+pi/2) -> Ix(pi) -> Sx(pi)"
     ]
    }
   ],
   "source": [
    "p2_00.print_sequence()"
   ]
  },
  {
   "cell_type": "code",
   "execution_count": 74,
   "metadata": {},
   "outputs": [
    {
     "data": {
      "text/latex": [
       "Quantum object: dims = [[2, 2], [2, 2]], shape = (4, 4), type = oper, isherm = False $ \\\\ \\left(\\begin{matrix}0.0 & 0.0 & 0.0 & 1.0j\\\\-1.0 & 0.0 & 0.0 & 0.0\\\\0.0 & 0.0 & 1.0 & 0.0\\\\0.0 & 1.0j & 0.0 & 0.0\\\\\\end{matrix}\\right)$"
      ],
      "text/plain": [
       "Quantum object: dims = [[2, 2], [2, 2]], shape = (4, 4), type = oper, isherm = False\n",
       "Qobj data =\n",
       "[[ 0.+0.j  0.+0.j  0.+0.j  0.+1.j]\n",
       " [-1.+0.j  0.+0.j  0.+0.j  0.+0.j]\n",
       " [ 0.+0.j  0.+0.j  1.+0.j  0.+0.j]\n",
       " [ 0.+0.j  0.+1.j  0.+0.j  0.+0.j]]"
      ]
     },
     "execution_count": 74,
     "metadata": {},
     "output_type": "execute_result"
    }
   ],
   "source": [
    "p2_00.compile().get_operator()"
   ]
  },
  {
   "cell_type": "code",
   "execution_count": 75,
   "metadata": {},
   "outputs": [
    {
     "data": {
      "text/latex": [
       "Quantum object: dims = [[2, 2], [2, 2]], shape = (4, 4), type = oper, isherm = True $ \\\\ \\left(\\begin{matrix}-1.0 & 0.0 & 0.0 & 0.0\\\\0.0 & 1.0 & 0.0 & 0.0\\\\0.0 & 0.0 & -0.600 & 0.0\\\\0.0 & 0.0 & 0.0 & 0.600\\\\\\end{matrix}\\right)$"
      ],
      "text/plain": [
       "Quantum object: dims = [[2, 2], [2, 2]], shape = (4, 4), type = oper, isherm = True\n",
       "Qobj data =\n",
       "[[-1.   0.   0.   0. ]\n",
       " [ 0.   1.   0.   0. ]\n",
       " [ 0.   0.  -0.6  0. ]\n",
       " [ 0.   0.   0.   0.6]]"
      ]
     },
     "execution_count": 75,
     "metadata": {},
     "output_type": "execute_result"
    }
   ],
   "source": [
    "p2_rho00 = p2_00.compile().evolve_pho(pho_th)\n",
    "p2_rho00.rho"
   ]
  },
  {
   "cell_type": "code",
   "execution_count": 76,
   "metadata": {},
   "outputs": [
    {
     "name": "stdout",
     "output_type": "stream",
     "text": [
      "H spectrum\n",
      "Peak1 at 4.74 ppm with integral=(-0.4+0j)\n",
      "Peak2 at 8.18 ppm with integral=(0.4+0j)\n",
      "C spectrum\n",
      "Peak1 @ 66.48 ppm with integral=(-2+0j)\n",
      "Peak2 @ 80.19 ppm with integral=(-1.2+0j)\n"
     ]
    }
   ],
   "source": [
    "p2_rho00.h_spectrum()\n",
    "p2_rho00.c_spectrum()"
   ]
  },
  {
   "cell_type": "markdown",
   "metadata": {},
   "source": [
    "### Step 1.4 : Calculate temporal average for |00>"
   ]
  },
  {
   "cell_type": "code",
   "execution_count": 77,
   "metadata": {},
   "outputs": [
    {
     "data": {
      "text/latex": [
       "Quantum object: dims = [[2, 2], [2, 2]], shape = (4, 4), type = oper, isherm = True $ \\\\ \\left(\\begin{matrix}-1.0 & 0.0 & 0.0 & 0.0\\\\0.0 & 0.333 & 0.0 & 0.0\\\\0.0 & 0.0 & 0.333 & 0.0\\\\0.0 & 0.0 & 0.0 & 0.333\\\\\\end{matrix}\\right)$"
      ],
      "text/plain": [
       "Quantum object: dims = [[2, 2], [2, 2]], shape = (4, 4), type = oper, isherm = True\n",
       "Qobj data =\n",
       "[[-1.          0.          0.          0.        ]\n",
       " [ 0.          0.33333333  0.          0.        ]\n",
       " [ 0.          0.          0.33333333  0.        ]\n",
       " [ 0.          0.          0.          0.33333333]]"
      ]
     },
     "execution_count": 77,
     "metadata": {},
     "output_type": "execute_result"
    }
   ],
   "source": [
    "(p0_rho00.rho + p1_rho00.rho + p2_rho00.rho)/3"
   ]
  },
  {
   "cell_type": "markdown",
   "metadata": {},
   "source": [
    "## Step 2 : Execute DJ Algorithm : |00>\n",
    "- Case A: $U_{f1}(0)=0, \\ U_{f1}(1)=0$\n",
    "- Case B: $U_{f2}(0)=1, \\ U_{f2}(1)=1$\n",
    "- Case C: $U_{f3}(0)=0, \\ U_{f3}(1)=1$\n",
    "- Case D: $U_{f4}(0)=1, \\ U_{f4}(1)=0$"
   ]
  },
  {
   "cell_type": "markdown",
   "metadata": {},
   "source": [
    "### Step 2A : $U_{f1}(0)=0, \\ U_{f1}(1)=0$"
   ]
  },
  {
   "cell_type": "markdown",
   "metadata": {},
   "source": [
    "#### Step 2A.1 : $U_{f1}$ P0 simulation for |00>"
   ]
  },
  {
   "cell_type": "code",
   "execution_count": 78,
   "metadata": {},
   "outputs": [
    {
     "name": "stdout",
     "output_type": "stream",
     "text": [
      "DJ-Uf1(00) Pulse Sequence: Ix(pi) -> Sx(pi) -> Iy(+pi/2) -> Sy(-pi/2) -> Iy(-pi/2) -> Sy(+pi/2)"
     ]
    }
   ],
   "source": [
    "p0_dj_uf1 = PulseSequence(\"DJ-Uf1(00)\")\\\n",
    "        .add_seq(p0_00)\\\n",
    "        .add(Pulse(\"Iy(+pi/2)\", Iy, +np.pi/2))\\\n",
    "        .add(Pulse(\"Sy(-pi/2)\", Sy, -np.pi/2))\\\n",
    "        .add_seq(f1)\\\n",
    "        .add(Pulse(\"Iy(-pi/2)\", Iy, -np.pi/2))\\\n",
    "        .add(Pulse(\"Sy(+pi/2)\", Sy, +np.pi/2))\\\n",
    "        \n",
    "p0_dj_uf1.print_sequence()"
   ]
  },
  {
   "cell_type": "code",
   "execution_count": 79,
   "metadata": {},
   "outputs": [
    {
     "data": {
      "text/latex": [
       "Quantum object: dims = [[2, 2], [2, 2]], shape = (4, 4), type = oper, isherm = True $ \\\\ \\left(\\begin{matrix}0.0 & 0.0 & 0.0 & -1.000\\\\0.0 & 0.0 & -1.0 & 0.0\\\\0.0 & -1.0 & 0.0 & 0.0\\\\-1.0 & 0.0 & 0.0 & 0.0\\\\\\end{matrix}\\right)$"
      ],
      "text/plain": [
       "Quantum object: dims = [[2, 2], [2, 2]], shape = (4, 4), type = oper, isherm = True\n",
       "Qobj data =\n",
       "[[ 0.  0.  0. -1.]\n",
       " [ 0.  0. -1.  0.]\n",
       " [ 0. -1.  0.  0.]\n",
       " [-1.  0.  0.  0.]]"
      ]
     },
     "execution_count": 79,
     "metadata": {},
     "output_type": "execute_result"
    }
   ],
   "source": [
    "p0_dj_uf1.compile().get_operator()"
   ]
  },
  {
   "cell_type": "code",
   "execution_count": 80,
   "metadata": {},
   "outputs": [
    {
     "data": {
      "text/latex": [
       "Quantum object: dims = [[2, 2], [2, 2]], shape = (4, 4), type = oper, isherm = True $ \\\\ \\left(\\begin{matrix}-1.000 & 0.0 & 0.0 & 0.0\\\\0.0 & -0.600 & 0.0 & 0.0\\\\0.0 & 0.0 & 0.600 & 0.0\\\\0.0 & 0.0 & 0.0 & 1.0\\\\\\end{matrix}\\right)$"
      ],
      "text/plain": [
       "Quantum object: dims = [[2, 2], [2, 2]], shape = (4, 4), type = oper, isherm = True\n",
       "Qobj data =\n",
       "[[-1.   0.   0.   0. ]\n",
       " [ 0.  -0.6  0.   0. ]\n",
       " [ 0.   0.   0.6  0. ]\n",
       " [ 0.   0.   0.   1. ]]"
      ]
     },
     "execution_count": 80,
     "metadata": {},
     "output_type": "execute_result"
    }
   ],
   "source": [
    "p0_dj_uf1 = p0_dj_uf1.compile().evolve_pho(pho_th)\n",
    "p0_dj_uf1.rho"
   ]
  },
  {
   "cell_type": "code",
   "execution_count": 81,
   "metadata": {},
   "outputs": [
    {
     "name": "stdout",
     "output_type": "stream",
     "text": [
      "H spectrum\n",
      "Peak1 at 4.74 ppm with integral=(-1.6+0j)\n",
      "Peak2 at 8.18 ppm with integral=(-1.6+0j)\n",
      "C spectrum\n",
      "Peak1 @ 66.48 ppm with integral=(-0.4+0j)\n",
      "Peak2 @ 80.19 ppm with integral=(-0.4+0j)\n"
     ]
    }
   ],
   "source": [
    "p0_dj_uf1.h_spectrum()\n",
    "p0_dj_uf1.c_spectrum()"
   ]
  },
  {
   "cell_type": "markdown",
   "metadata": {},
   "source": [
    "#### Step 2A.2 : $U_{f1}$ P1 simulation for |00>"
   ]
  },
  {
   "cell_type": "code",
   "execution_count": 82,
   "metadata": {},
   "outputs": [
    {
     "name": "stdout",
     "output_type": "stream",
     "text": [
      "P1 :: DJ-Uf1(00) Pulse Sequence: Sx(+pi/2) -> 2IzSz(aka delay(1/2J)) -> Sy(+pi/2) -> Ix(+pi/2) -> 2IzSz(aka delay(1/2J)) -> Iy(+pi/2) -> Ix(pi) -> Sx(pi) -> Iy(+pi/2) -> Sy(-pi/2) -> Iy(-pi/2) -> Sy(+pi/2)"
     ]
    }
   ],
   "source": [
    "p1_dj_uf1 = PulseSequence(\"P1 :: DJ-Uf1(00)\")\\\n",
    "        .add_seq(p1_00)\\\n",
    "        .add(Pulse(\"Iy(+pi/2)\", Iy, +np.pi/2))\\\n",
    "        .add(Pulse(\"Sy(-pi/2)\", Sy, -np.pi/2))\\\n",
    "        .add_seq(f1)\\\n",
    "        .add(Pulse(\"Iy(-pi/2)\", Iy, -np.pi/2))\\\n",
    "        .add(Pulse(\"Sy(+pi/2)\", Sy, +np.pi/2))\\\n",
    "        \n",
    "p1_dj_uf1.print_sequence()"
   ]
  },
  {
   "cell_type": "code",
   "execution_count": 83,
   "metadata": {},
   "outputs": [
    {
     "data": {
      "text/latex": [
       "Quantum object: dims = [[2, 2], [2, 2]], shape = (4, 4), type = oper, isherm = False $ \\\\ \\left(\\begin{matrix}0.0 & 0.0 & 0.0 & 1.0j\\\\0.0 & 1.0 & 0.0 & 0.0\\\\-1.0 & 0.0 & 0.0 & 0.0\\\\0.0 & 0.0 & 1.0j & 0.0\\\\\\end{matrix}\\right)$"
      ],
      "text/plain": [
       "Quantum object: dims = [[2, 2], [2, 2]], shape = (4, 4), type = oper, isherm = False\n",
       "Qobj data =\n",
       "[[ 0.+0.j  0.+0.j  0.+0.j  0.+1.j]\n",
       " [ 0.+0.j  1.+0.j  0.+0.j  0.+0.j]\n",
       " [-1.+0.j  0.+0.j  0.+0.j  0.+0.j]\n",
       " [ 0.+0.j  0.+0.j  0.+1.j  0.+0.j]]"
      ]
     },
     "execution_count": 83,
     "metadata": {},
     "output_type": "execute_result"
    }
   ],
   "source": [
    "p1_dj_uf1.compile().get_operator()"
   ]
  },
  {
   "cell_type": "code",
   "execution_count": 84,
   "metadata": {},
   "outputs": [
    {
     "data": {
      "text/latex": [
       "Quantum object: dims = [[2, 2], [2, 2]], shape = (4, 4), type = oper, isherm = True $ \\\\ \\left(\\begin{matrix}-1.0 & 0.0 & 0.0 & 0.0\\\\0.0 & 0.600 & 0.0 & 0.0\\\\0.0 & 0.0 & 1.0 & 0.0\\\\0.0 & 0.0 & 0.0 & -0.600\\\\\\end{matrix}\\right)$"
      ],
      "text/plain": [
       "Quantum object: dims = [[2, 2], [2, 2]], shape = (4, 4), type = oper, isherm = True\n",
       "Qobj data =\n",
       "[[-1.   0.   0.   0. ]\n",
       " [ 0.   0.6  0.   0. ]\n",
       " [ 0.   0.   1.   0. ]\n",
       " [ 0.   0.   0.  -0.6]]"
      ]
     },
     "execution_count": 84,
     "metadata": {},
     "output_type": "execute_result"
    }
   ],
   "source": [
    "p1_dj_uf1 = p1_dj_uf1.compile().evolve_pho(pho_th)\n",
    "p1_dj_uf1.rho"
   ]
  },
  {
   "cell_type": "code",
   "execution_count": 85,
   "metadata": {},
   "outputs": [
    {
     "name": "stdout",
     "output_type": "stream",
     "text": [
      "H spectrum\n",
      "Peak1 at 4.74 ppm with integral=(-2+0j)\n",
      "Peak2 at 8.18 ppm with integral=(1.2+0j)\n",
      "C spectrum\n",
      "Peak1 @ 66.48 ppm with integral=(-1.6+0j)\n",
      "Peak2 @ 80.19 ppm with integral=(1.6+0j)\n"
     ]
    }
   ],
   "source": [
    "p1_dj_uf1.h_spectrum()\n",
    "p1_dj_uf1.c_spectrum()"
   ]
  },
  {
   "cell_type": "markdown",
   "metadata": {},
   "source": [
    "#### Step 2A.3 : $U_{f1}$ P2 simulation for |00>"
   ]
  },
  {
   "cell_type": "code",
   "execution_count": 86,
   "metadata": {},
   "outputs": [
    {
     "name": "stdout",
     "output_type": "stream",
     "text": [
      "P2 :: DJ-Uf1(00) Pulse Sequence: Ix(+pi/2) -> 2IzSz(aka delay(1/2J)) -> Sx(+pi/2) -> Iy(+pi/2) -> 2IzSz(aka delay(1/2J)) -> Sy(+pi/2) -> Ix(pi) -> Sx(pi) -> Iy(+pi/2) -> Sy(-pi/2) -> Iy(-pi/2) -> Sy(+pi/2)"
     ]
    }
   ],
   "source": [
    "p2_dj_uf1 = PulseSequence(\"P2 :: DJ-Uf1(00)\")\\\n",
    "        .add_seq(p2_00)\\\n",
    "        .add(Pulse(\"Iy(+pi/2)\", Iy, +np.pi/2))\\\n",
    "        .add(Pulse(\"Sy(-pi/2)\", Sy, -np.pi/2))\\\n",
    "        .add_seq(f1)\\\n",
    "        .add(Pulse(\"Iy(-pi/2)\", Iy, -np.pi/2))\\\n",
    "        .add(Pulse(\"Sy(+pi/2)\", Sy, +np.pi/2))\\\n",
    "        \n",
    "p2_dj_uf1.print_sequence()"
   ]
  },
  {
   "cell_type": "code",
   "execution_count": 87,
   "metadata": {},
   "outputs": [
    {
     "data": {
      "text/latex": [
       "Quantum object: dims = [[2, 2], [2, 2]], shape = (4, 4), type = oper, isherm = False $ \\\\ \\left(\\begin{matrix}0.0 & 0.0 & 0.0 & 1.0j\\\\-1.0 & 0.0 & 0.0 & 0.0\\\\0.0 & 0.0 & 1.0 & 0.0\\\\0.0 & 1.0j & 0.0 & 0.0\\\\\\end{matrix}\\right)$"
      ],
      "text/plain": [
       "Quantum object: dims = [[2, 2], [2, 2]], shape = (4, 4), type = oper, isherm = False\n",
       "Qobj data =\n",
       "[[ 0.+0.j  0.+0.j  0.+0.j  0.+1.j]\n",
       " [-1.+0.j  0.+0.j  0.+0.j  0.+0.j]\n",
       " [ 0.+0.j  0.+0.j  1.+0.j  0.+0.j]\n",
       " [ 0.+0.j  0.+1.j  0.+0.j  0.+0.j]]"
      ]
     },
     "execution_count": 87,
     "metadata": {},
     "output_type": "execute_result"
    }
   ],
   "source": [
    "p2_dj_uf1.compile().get_operator()"
   ]
  },
  {
   "cell_type": "code",
   "execution_count": 88,
   "metadata": {},
   "outputs": [
    {
     "data": {
      "text/latex": [
       "Quantum object: dims = [[2, 2], [2, 2]], shape = (4, 4), type = oper, isherm = True $ \\\\ \\left(\\begin{matrix}-1.0 & 0.0 & 0.0 & 0.0\\\\0.0 & 1.0 & 0.0 & 0.0\\\\0.0 & 0.0 & -0.600 & 0.0\\\\0.0 & 0.0 & 0.0 & 0.600\\\\\\end{matrix}\\right)$"
      ],
      "text/plain": [
       "Quantum object: dims = [[2, 2], [2, 2]], shape = (4, 4), type = oper, isherm = True\n",
       "Qobj data =\n",
       "[[-1.   0.   0.   0. ]\n",
       " [ 0.   1.   0.   0. ]\n",
       " [ 0.   0.  -0.6  0. ]\n",
       " [ 0.   0.   0.   0.6]]"
      ]
     },
     "execution_count": 88,
     "metadata": {},
     "output_type": "execute_result"
    }
   ],
   "source": [
    "p2_dj_uf1 = p2_dj_uf1.compile().evolve_pho(pho_th)\n",
    "p2_dj_uf1.rho"
   ]
  },
  {
   "cell_type": "code",
   "execution_count": 89,
   "metadata": {},
   "outputs": [
    {
     "name": "stdout",
     "output_type": "stream",
     "text": [
      "H spectrum\n",
      "Peak1 at 4.74 ppm with integral=(-0.4+0j)\n",
      "Peak2 at 8.18 ppm with integral=(0.4+0j)\n",
      "C spectrum\n",
      "Peak1 @ 66.48 ppm with integral=(-2+0j)\n",
      "Peak2 @ 80.19 ppm with integral=(-1.2+0j)\n"
     ]
    }
   ],
   "source": [
    "p2_dj_uf1.h_spectrum()\n",
    "p2_dj_uf1.c_spectrum()"
   ]
  },
  {
   "cell_type": "markdown",
   "metadata": {},
   "source": [
    "#### Step 2A.4 : Temporal averaging for DJ $U_{f1}$ |00>"
   ]
  },
  {
   "cell_type": "code",
   "execution_count": 90,
   "metadata": {},
   "outputs": [
    {
     "data": {
      "text/latex": [
       "Quantum object: dims = [[2, 2], [2, 2]], shape = (4, 4), type = oper, isherm = True $ \\\\ \\left(\\begin{matrix}-1.000 & 0.0 & 0.0 & 0.0\\\\0.0 & 0.333 & 0.0 & 0.0\\\\0.0 & 0.0 & 0.333 & 0.0\\\\0.0 & 0.0 & 0.0 & 0.333\\\\\\end{matrix}\\right)$"
      ],
      "text/plain": [
       "Quantum object: dims = [[2, 2], [2, 2]], shape = (4, 4), type = oper, isherm = True\n",
       "Qobj data =\n",
       "[[-1.          0.          0.          0.        ]\n",
       " [ 0.          0.33333333  0.          0.        ]\n",
       " [ 0.          0.          0.33333333  0.        ]\n",
       " [ 0.          0.          0.          0.33333333]]"
      ]
     },
     "execution_count": 90,
     "metadata": {},
     "output_type": "execute_result"
    }
   ],
   "source": [
    "(p0_dj_uf1.rho + p1_dj_uf1.rho + p2_dj_uf1.rho)/3"
   ]
  },
  {
   "cell_type": "markdown",
   "metadata": {},
   "source": [
    "### Step 2B : $U_{f2}$"
   ]
  },
  {
   "cell_type": "markdown",
   "metadata": {},
   "source": [
    "#### Step 2B.1 : $U_{f2}$ P0 simulation for |00>"
   ]
  },
  {
   "cell_type": "code",
   "execution_count": 91,
   "metadata": {},
   "outputs": [
    {
     "name": "stdout",
     "output_type": "stream",
     "text": [
      "DJ-Uf2(00) Pulse Sequence: Ix(pi) -> Sx(pi) -> Iy(+pi/2) -> Sy(-pi/2) -> Sx(pi) -> Iy(-pi/2) -> Sy(+pi/2)"
     ]
    }
   ],
   "source": [
    "p0_dj_uf2 = PulseSequence(\"DJ-Uf2(00)\")\\\n",
    "        .add_seq(p0_00)\\\n",
    "        .add(Pulse(\"Iy(+pi/2)\", Iy, +np.pi/2))\\\n",
    "        .add(Pulse(\"Sy(-pi/2)\", Sy, -np.pi/2))\\\n",
    "        .add_seq(f2)\\\n",
    "        .add(Pulse(\"Iy(-pi/2)\", Iy, -np.pi/2))\\\n",
    "        .add(Pulse(\"Sy(+pi/2)\", Sy, +np.pi/2))\\\n",
    "        \n",
    "p0_dj_uf2.print_sequence()"
   ]
  },
  {
   "cell_type": "code",
   "execution_count": 92,
   "metadata": {},
   "outputs": [
    {
     "data": {
      "text/latex": [
       "Quantum object: dims = [[2, 2], [2, 2]], shape = (4, 4), type = oper, isherm = True $ \\\\ \\left(\\begin{matrix}0.0 & 0.0 & 0.0 & -1.000j\\\\0.0 & 0.0 & 1.0j & 0.0\\\\0.0 & -1.0j & 0.0 & 0.0\\\\1.0j & 0.0 & 0.0 & 0.0\\\\\\end{matrix}\\right)$"
      ],
      "text/plain": [
       "Quantum object: dims = [[2, 2], [2, 2]], shape = (4, 4), type = oper, isherm = True\n",
       "Qobj data =\n",
       "[[0.+0.j 0.+0.j 0.+0.j 0.-1.j]\n",
       " [0.+0.j 0.+0.j 0.+1.j 0.+0.j]\n",
       " [0.+0.j 0.-1.j 0.+0.j 0.+0.j]\n",
       " [0.+1.j 0.+0.j 0.+0.j 0.+0.j]]"
      ]
     },
     "execution_count": 92,
     "metadata": {},
     "output_type": "execute_result"
    }
   ],
   "source": [
    "p0_dj_uf2.compile().get_operator()"
   ]
  },
  {
   "cell_type": "code",
   "execution_count": 93,
   "metadata": {},
   "outputs": [
    {
     "data": {
      "text/latex": [
       "Quantum object: dims = [[2, 2], [2, 2]], shape = (4, 4), type = oper, isherm = True $ \\\\ \\left(\\begin{matrix}-1.000 & 0.0 & 0.0 & 0.0\\\\0.0 & -0.600 & 0.0 & 0.0\\\\0.0 & 0.0 & 0.600 & 0.0\\\\0.0 & 0.0 & 0.0 & 1.0\\\\\\end{matrix}\\right)$"
      ],
      "text/plain": [
       "Quantum object: dims = [[2, 2], [2, 2]], shape = (4, 4), type = oper, isherm = True\n",
       "Qobj data =\n",
       "[[-1.   0.   0.   0. ]\n",
       " [ 0.  -0.6  0.   0. ]\n",
       " [ 0.   0.   0.6  0. ]\n",
       " [ 0.   0.   0.   1. ]]"
      ]
     },
     "execution_count": 93,
     "metadata": {},
     "output_type": "execute_result"
    }
   ],
   "source": [
    "p0_dj_uf2 = p0_dj_uf2.compile().evolve_pho(pho_th)\n",
    "p0_dj_uf2.rho"
   ]
  },
  {
   "cell_type": "code",
   "execution_count": 94,
   "metadata": {},
   "outputs": [
    {
     "name": "stdout",
     "output_type": "stream",
     "text": [
      "H spectrum\n",
      "Peak1 at 4.74 ppm with integral=(-1.6+0j)\n",
      "Peak2 at 8.18 ppm with integral=(-1.6+0j)\n",
      "C spectrum\n",
      "Peak1 @ 66.48 ppm with integral=(-0.4+0j)\n",
      "Peak2 @ 80.19 ppm with integral=(-0.4+0j)\n"
     ]
    }
   ],
   "source": [
    "p0_dj_uf2.h_spectrum()\n",
    "p0_dj_uf2.c_spectrum()"
   ]
  },
  {
   "cell_type": "markdown",
   "metadata": {},
   "source": [
    "#### Step 2B.2 : $U_{f2}$ P1 simulation for |00>"
   ]
  },
  {
   "cell_type": "code",
   "execution_count": 95,
   "metadata": {},
   "outputs": [
    {
     "name": "stdout",
     "output_type": "stream",
     "text": [
      "P1 :: DJ-Uf2(00) Pulse Sequence: Sx(+pi/2) -> 2IzSz(aka delay(1/2J)) -> Sy(+pi/2) -> Ix(+pi/2) -> 2IzSz(aka delay(1/2J)) -> Iy(+pi/2) -> Ix(pi) -> Sx(pi) -> Iy(+pi/2) -> Sy(-pi/2) -> Sx(pi) -> Iy(-pi/2) -> Sy(+pi/2)"
     ]
    }
   ],
   "source": [
    "p1_dj_uf2 = PulseSequence(\"P1 :: DJ-Uf2(00)\")\\\n",
    "        .add_seq(p1_00)\\\n",
    "        .add(Pulse(\"Iy(+pi/2)\", Iy, +np.pi/2))\\\n",
    "        .add(Pulse(\"Sy(-pi/2)\", Sy, -np.pi/2))\\\n",
    "        .add_seq(f2)\\\n",
    "        .add(Pulse(\"Iy(-pi/2)\", Iy, -np.pi/2))\\\n",
    "        .add(Pulse(\"Sy(+pi/2)\", Sy, +np.pi/2))\\\n",
    "        \n",
    "p1_dj_uf2.print_sequence()"
   ]
  },
  {
   "cell_type": "code",
   "execution_count": 96,
   "metadata": {},
   "outputs": [
    {
     "data": {
      "text/latex": [
       "Quantum object: dims = [[2, 2], [2, 2]], shape = (4, 4), type = oper, isherm = False $ \\\\ \\left(\\begin{matrix}0.0 & 0.0 & 0.0 & -1.0\\\\0.0 & -1.0j & 0.0 & 0.0\\\\-1.0j & 0.0 & 0.0 & 0.0\\\\0.0 & 0.0 & 1.0 & 0.0\\\\\\end{matrix}\\right)$"
      ],
      "text/plain": [
       "Quantum object: dims = [[2, 2], [2, 2]], shape = (4, 4), type = oper, isherm = False\n",
       "Qobj data =\n",
       "[[ 0.+0.j  0.+0.j  0.+0.j -1.+0.j]\n",
       " [ 0.+0.j  0.-1.j  0.+0.j  0.+0.j]\n",
       " [ 0.-1.j  0.+0.j  0.+0.j  0.+0.j]\n",
       " [ 0.+0.j  0.+0.j  1.+0.j  0.+0.j]]"
      ]
     },
     "execution_count": 96,
     "metadata": {},
     "output_type": "execute_result"
    }
   ],
   "source": [
    "p1_dj_uf2.compile().get_operator()"
   ]
  },
  {
   "cell_type": "code",
   "execution_count": 97,
   "metadata": {},
   "outputs": [
    {
     "data": {
      "text/latex": [
       "Quantum object: dims = [[2, 2], [2, 2]], shape = (4, 4), type = oper, isherm = True $ \\\\ \\left(\\begin{matrix}-1.0 & 0.0 & 0.0 & 0.0\\\\0.0 & 0.600 & 0.0 & 0.0\\\\0.0 & 0.0 & 1.0 & 0.0\\\\0.0 & 0.0 & 0.0 & -0.600\\\\\\end{matrix}\\right)$"
      ],
      "text/plain": [
       "Quantum object: dims = [[2, 2], [2, 2]], shape = (4, 4), type = oper, isherm = True\n",
       "Qobj data =\n",
       "[[-1.   0.   0.   0. ]\n",
       " [ 0.   0.6  0.   0. ]\n",
       " [ 0.   0.   1.   0. ]\n",
       " [ 0.   0.   0.  -0.6]]"
      ]
     },
     "execution_count": 97,
     "metadata": {},
     "output_type": "execute_result"
    }
   ],
   "source": [
    "p1_dj_uf2 = p1_dj_uf2.compile().evolve_pho(pho_th)\n",
    "p1_dj_uf2.rho"
   ]
  },
  {
   "cell_type": "code",
   "execution_count": 98,
   "metadata": {},
   "outputs": [
    {
     "name": "stdout",
     "output_type": "stream",
     "text": [
      "H spectrum\n",
      "Peak1 at 4.74 ppm with integral=(-2+0j)\n",
      "Peak2 at 8.18 ppm with integral=(1.2+0j)\n",
      "C spectrum\n",
      "Peak1 @ 66.48 ppm with integral=(-1.6+0j)\n",
      "Peak2 @ 80.19 ppm with integral=(1.6+0j)\n"
     ]
    }
   ],
   "source": [
    "p1_dj_uf2.h_spectrum()\n",
    "p1_dj_uf2.c_spectrum()"
   ]
  },
  {
   "cell_type": "markdown",
   "metadata": {},
   "source": [
    "#### Step 2B.3 : $U_{f2}$ P2 simulation for |00>"
   ]
  },
  {
   "cell_type": "code",
   "execution_count": 99,
   "metadata": {},
   "outputs": [
    {
     "name": "stdout",
     "output_type": "stream",
     "text": [
      "P2 :: DJ-Uf2(00) Pulse Sequence: Ix(+pi/2) -> 2IzSz(aka delay(1/2J)) -> Sx(+pi/2) -> Iy(+pi/2) -> 2IzSz(aka delay(1/2J)) -> Sy(+pi/2) -> Ix(pi) -> Sx(pi) -> Iy(+pi/2) -> Sy(-pi/2) -> Sx(pi) -> Iy(-pi/2) -> Sy(+pi/2)"
     ]
    }
   ],
   "source": [
    "p2_dj_uf2 = PulseSequence(\"P2 :: DJ-Uf2(00)\")\\\n",
    "        .add_seq(p2_00)\\\n",
    "        .add(Pulse(\"Iy(+pi/2)\", Iy, +np.pi/2))\\\n",
    "        .add(Pulse(\"Sy(-pi/2)\", Sy, -np.pi/2))\\\n",
    "        .add_seq(f2)\\\n",
    "        .add(Pulse(\"Iy(-pi/2)\", Iy, -np.pi/2))\\\n",
    "        .add(Pulse(\"Sy(+pi/2)\", Sy, +np.pi/2))\\\n",
    "        \n",
    "\n",
    "p2_dj_uf2.print_sequence()"
   ]
  },
  {
   "cell_type": "code",
   "execution_count": 100,
   "metadata": {},
   "outputs": [
    {
     "data": {
      "text/latex": [
       "Quantum object: dims = [[2, 2], [2, 2]], shape = (4, 4), type = oper, isherm = False $ \\\\ \\left(\\begin{matrix}0.0 & 0.0 & 0.0 & -1.0\\\\1.0j & 0.0 & 0.0 & 0.0\\\\0.0 & 0.0 & 1.0j & 0.0\\\\0.0 & 1.0 & 0.0 & 0.0\\\\\\end{matrix}\\right)$"
      ],
      "text/plain": [
       "Quantum object: dims = [[2, 2], [2, 2]], shape = (4, 4), type = oper, isherm = False\n",
       "Qobj data =\n",
       "[[ 0.+0.j  0.+0.j  0.+0.j -1.+0.j]\n",
       " [ 0.+1.j  0.+0.j  0.+0.j  0.+0.j]\n",
       " [ 0.+0.j  0.+0.j  0.+1.j  0.+0.j]\n",
       " [ 0.+0.j  1.+0.j  0.+0.j  0.+0.j]]"
      ]
     },
     "execution_count": 100,
     "metadata": {},
     "output_type": "execute_result"
    }
   ],
   "source": [
    "p2_dj_uf2.compile().get_operator()"
   ]
  },
  {
   "cell_type": "code",
   "execution_count": 101,
   "metadata": {},
   "outputs": [
    {
     "data": {
      "text/latex": [
       "Quantum object: dims = [[2, 2], [2, 2]], shape = (4, 4), type = oper, isherm = True $ \\\\ \\left(\\begin{matrix}-1.0 & 0.0 & 0.0 & 0.0\\\\0.0 & 1.0 & 0.0 & 0.0\\\\0.0 & 0.0 & -0.600 & 0.0\\\\0.0 & 0.0 & 0.0 & 0.600\\\\\\end{matrix}\\right)$"
      ],
      "text/plain": [
       "Quantum object: dims = [[2, 2], [2, 2]], shape = (4, 4), type = oper, isherm = True\n",
       "Qobj data =\n",
       "[[-1.   0.   0.   0. ]\n",
       " [ 0.   1.   0.   0. ]\n",
       " [ 0.   0.  -0.6  0. ]\n",
       " [ 0.   0.   0.   0.6]]"
      ]
     },
     "execution_count": 101,
     "metadata": {},
     "output_type": "execute_result"
    }
   ],
   "source": [
    "p2_dj_uf2 = p2_dj_uf2.compile().evolve_pho(pho_th)\n",
    "p2_dj_uf2.rho"
   ]
  },
  {
   "cell_type": "code",
   "execution_count": 102,
   "metadata": {},
   "outputs": [
    {
     "name": "stdout",
     "output_type": "stream",
     "text": [
      "H spectrum\n",
      "Peak1 at 4.74 ppm with integral=(-0.4+0j)\n",
      "Peak2 at 8.18 ppm with integral=(0.4+0j)\n",
      "C spectrum\n",
      "Peak1 @ 66.48 ppm with integral=(-2+0j)\n",
      "Peak2 @ 80.19 ppm with integral=(-1.2+0j)\n"
     ]
    }
   ],
   "source": [
    "p2_dj_uf2.h_spectrum()\n",
    "p2_dj_uf2.c_spectrum()"
   ]
  },
  {
   "cell_type": "markdown",
   "metadata": {},
   "source": [
    "#### Step 2B.4 : Temporal averaging for DJ $U_{f2}$ |00>"
   ]
  },
  {
   "cell_type": "code",
   "execution_count": 103,
   "metadata": {},
   "outputs": [
    {
     "data": {
      "text/latex": [
       "Quantum object: dims = [[2, 2], [2, 2]], shape = (4, 4), type = oper, isherm = True $ \\\\ \\left(\\begin{matrix}-1.000 & 0.0 & 0.0 & 0.0\\\\0.0 & 0.333 & 0.0 & 0.0\\\\0.0 & 0.0 & 0.333 & 0.0\\\\0.0 & 0.0 & 0.0 & 0.333\\\\\\end{matrix}\\right)$"
      ],
      "text/plain": [
       "Quantum object: dims = [[2, 2], [2, 2]], shape = (4, 4), type = oper, isherm = True\n",
       "Qobj data =\n",
       "[[-1.          0.          0.          0.        ]\n",
       " [ 0.          0.33333333  0.          0.        ]\n",
       " [ 0.          0.          0.33333333  0.        ]\n",
       " [ 0.          0.          0.          0.33333333]]"
      ]
     },
     "execution_count": 103,
     "metadata": {},
     "output_type": "execute_result"
    }
   ],
   "source": [
    "(p0_dj_uf2.rho + p1_dj_uf2.rho + p2_dj_uf2.rho)/3"
   ]
  },
  {
   "cell_type": "code",
   "execution_count": 104,
   "metadata": {},
   "outputs": [],
   "source": [
    "# %reset_selective dj*"
   ]
  },
  {
   "cell_type": "markdown",
   "metadata": {},
   "source": [
    "### Step 2C : $U_{f3}$"
   ]
  },
  {
   "cell_type": "markdown",
   "metadata": {},
   "source": [
    "#### Step 2C.1 : $U_{f3}$ P0 simulation for |00>"
   ]
  },
  {
   "cell_type": "code",
   "execution_count": 105,
   "metadata": {},
   "outputs": [
    {
     "name": "stdout",
     "output_type": "stream",
     "text": [
      "DJ-Uf3(00) Pulse Sequence: Ix(pi) -> Sx(pi) -> Iy(+pi/2) -> Sy(-pi/2) -> Sy(-pi/2) -> Ix(-pi/2) -> Iy(0.5*pi) -> Ix(pi/2) -> Sx(-pi/2) -> Sy(0.5*pi) -> Sx(pi/2) -> -2IzSz(aka delay(3/2J)) -> Sy(+pi/2) -> Iy(-pi/2) -> Sy(+pi/2)"
     ]
    }
   ],
   "source": [
    "p0_dj_uf3 = PulseSequence(\"DJ-Uf3(00)\")\\\n",
    "        .add_seq(p0_00)\\\n",
    "        .add(Pulse(\"Iy(+pi/2)\", Iy, +np.pi/2))\\\n",
    "        .add(Pulse(\"Sy(-pi/2)\", Sy, -np.pi/2))\\\n",
    "        .add_seq(f3)\\\n",
    "        .add(Pulse(\"Iy(-pi/2)\", Iy, -np.pi/2))\\\n",
    "        .add(Pulse(\"Sy(+pi/2)\", Sy, +np.pi/2))\\\n",
    "        \n",
    "p0_dj_uf3.print_sequence()"
   ]
  },
  {
   "cell_type": "code",
   "execution_count": 106,
   "metadata": {},
   "outputs": [
    {
     "data": {
      "text/latex": [
       "Quantum object: dims = [[2, 2], [2, 2]], shape = (4, 4), type = oper, isherm = False $ \\\\ \\left(\\begin{matrix}0.0 & (-0.707+0.707j) & 0.0 & 0.0\\\\0.0 & 0.0 & (0.707-0.707j) & 0.0\\\\0.0 & 0.0 & 0.0 & (-0.707+0.707j)\\\\(0.707-0.707j) & 0.0 & 0.0 & 0.0\\\\\\end{matrix}\\right)$"
      ],
      "text/plain": [
       "Quantum object: dims = [[2, 2], [2, 2]], shape = (4, 4), type = oper, isherm = False\n",
       "Qobj data =\n",
       "[[ 0.        +0.j         -0.70710678+0.70710678j  0.        +0.j\n",
       "   0.        +0.j        ]\n",
       " [ 0.        +0.j          0.        +0.j          0.70710678-0.70710678j\n",
       "   0.        +0.j        ]\n",
       " [ 0.        +0.j          0.        +0.j          0.        +0.j\n",
       "  -0.70710678+0.70710678j]\n",
       " [ 0.70710678-0.70710678j  0.        +0.j          0.        +0.j\n",
       "   0.        +0.j        ]]"
      ]
     },
     "execution_count": 106,
     "metadata": {},
     "output_type": "execute_result"
    }
   ],
   "source": [
    "p0_dj_uf3.compile().get_operator()"
   ]
  },
  {
   "cell_type": "code",
   "execution_count": 107,
   "metadata": {},
   "outputs": [
    {
     "data": {
      "text/latex": [
       "Quantum object: dims = [[2, 2], [2, 2]], shape = (4, 4), type = oper, isherm = True $ \\\\ \\left(\\begin{matrix}0.600 & 0.0 & 0.0 & 0.0\\\\0.0 & -0.600 & 0.0 & 0.0\\\\0.0 & 0.0 & -1.000 & 0.0\\\\0.0 & 0.0 & 0.0 & 1.0\\\\\\end{matrix}\\right)$"
      ],
      "text/plain": [
       "Quantum object: dims = [[2, 2], [2, 2]], shape = (4, 4), type = oper, isherm = True\n",
       "Qobj data =\n",
       "[[ 0.6  0.   0.   0. ]\n",
       " [ 0.  -0.6  0.   0. ]\n",
       " [ 0.   0.  -1.   0. ]\n",
       " [ 0.   0.   0.   1. ]]"
      ]
     },
     "execution_count": 107,
     "metadata": {},
     "output_type": "execute_result"
    }
   ],
   "source": [
    "p0_dj_uf3 = p0_dj_uf3.compile().evolve_pho(pho_th)\n",
    "p0_dj_uf3.rho"
   ]
  },
  {
   "cell_type": "code",
   "execution_count": 108,
   "metadata": {},
   "outputs": [
    {
     "name": "stdout",
     "output_type": "stream",
     "text": [
      "H spectrum\n",
      "Peak1 at 4.74 ppm with integral=(1.6+0j)\n",
      "Peak2 at 8.18 ppm with integral=(-1.6+0j)\n",
      "C spectrum\n",
      "Peak1 @ 66.48 ppm with integral=(1.2+0j)\n",
      "Peak2 @ 80.19 ppm with integral=(-2+0j)\n"
     ]
    }
   ],
   "source": [
    "p0_dj_uf3.h_spectrum()\n",
    "p0_dj_uf3.c_spectrum()"
   ]
  },
  {
   "cell_type": "markdown",
   "metadata": {},
   "source": [
    "#### Step 2C.2 : $U_{f3}$ P1 simulation for |00>"
   ]
  },
  {
   "cell_type": "code",
   "execution_count": 109,
   "metadata": {},
   "outputs": [
    {
     "name": "stdout",
     "output_type": "stream",
     "text": [
      "P1 :: DJ-Uf3(00) Pulse Sequence: Sx(+pi/2) -> 2IzSz(aka delay(1/2J)) -> Sy(+pi/2) -> Ix(+pi/2) -> 2IzSz(aka delay(1/2J)) -> Iy(+pi/2) -> Ix(pi) -> Sx(pi) -> Iy(+pi/2) -> Sy(-pi/2) -> Sy(-pi/2) -> Ix(-pi/2) -> Iy(0.5*pi) -> Ix(pi/2) -> Sx(-pi/2) -> Sy(0.5*pi) -> Sx(pi/2) -> -2IzSz(aka delay(3/2J)) -> Sy(+pi/2) -> Iy(-pi/2) -> Sy(+pi/2)"
     ]
    }
   ],
   "source": [
    "p1_dj_uf3 = PulseSequence(\"P1 :: DJ-Uf3(00)\")\\\n",
    "        .add_seq(p1_00)\\\n",
    "        .add(Pulse(\"Iy(+pi/2)\", Iy, +np.pi/2))\\\n",
    "        .add(Pulse(\"Sy(-pi/2)\", Sy, -np.pi/2))\\\n",
    "        .add_seq(f3)\\\n",
    "        .add(Pulse(\"Iy(-pi/2)\", Iy, -np.pi/2))\\\n",
    "        .add(Pulse(\"Sy(+pi/2)\", Sy, +np.pi/2))\\\n",
    "        \n",
    "p1_dj_uf3.print_sequence()"
   ]
  },
  {
   "cell_type": "code",
   "execution_count": 110,
   "metadata": {},
   "outputs": [
    {
     "data": {
      "text/latex": [
       "Quantum object: dims = [[2, 2], [2, 2]], shape = (4, 4), type = oper, isherm = False $ \\\\ \\left(\\begin{matrix}(-0.707+0.707j) & 0.0 & 0.0 & 0.0\\\\0.0 & (-0.707+0.707j) & 0.0 & 0.0\\\\0.0 & 0.0 & 0.0 & (0.707+0.707j)\\\\0.0 & 0.0 & (-0.707-0.707j) & 0.0\\\\\\end{matrix}\\right)$"
      ],
      "text/plain": [
       "Quantum object: dims = [[2, 2], [2, 2]], shape = (4, 4), type = oper, isherm = False\n",
       "Qobj data =\n",
       "[[-0.70710678+0.70710678j  0.        +0.j          0.        +0.j\n",
       "   0.        +0.j        ]\n",
       " [ 0.        +0.j         -0.70710678+0.70710678j  0.        +0.j\n",
       "   0.        +0.j        ]\n",
       " [ 0.        +0.j          0.        +0.j          0.        +0.j\n",
       "   0.70710678+0.70710678j]\n",
       " [ 0.        +0.j          0.        +0.j         -0.70710678-0.70710678j\n",
       "   0.        +0.j        ]]"
      ]
     },
     "execution_count": 110,
     "metadata": {},
     "output_type": "execute_result"
    }
   ],
   "source": [
    "p1_dj_uf3.compile().get_operator()"
   ]
  },
  {
   "cell_type": "code",
   "execution_count": 111,
   "metadata": {},
   "outputs": [
    {
     "data": {
      "text/latex": [
       "Quantum object: dims = [[2, 2], [2, 2]], shape = (4, 4), type = oper, isherm = True $ \\\\ \\left(\\begin{matrix}1.000 & 0.0 & 0.0 & 0.0\\\\0.0 & 0.600 & 0.0 & 0.0\\\\0.0 & 0.0 & -1.000 & 0.0\\\\0.0 & 0.0 & 0.0 & -0.600\\\\\\end{matrix}\\right)$"
      ],
      "text/plain": [
       "Quantum object: dims = [[2, 2], [2, 2]], shape = (4, 4), type = oper, isherm = True\n",
       "Qobj data =\n",
       "[[ 1.   0.   0.   0. ]\n",
       " [ 0.   0.6  0.   0. ]\n",
       " [ 0.   0.  -1.   0. ]\n",
       " [ 0.   0.   0.  -0.6]]"
      ]
     },
     "execution_count": 111,
     "metadata": {},
     "output_type": "execute_result"
    }
   ],
   "source": [
    "p1_dj_uf3 = p1_dj_uf3.compile().evolve_pho(pho_th)\n",
    "p1_dj_uf3.rho"
   ]
  },
  {
   "cell_type": "code",
   "execution_count": 112,
   "metadata": {},
   "outputs": [
    {
     "name": "stdout",
     "output_type": "stream",
     "text": [
      "H spectrum\n",
      "Peak1 at 4.74 ppm with integral=(2+0j)\n",
      "Peak2 at 8.18 ppm with integral=(1.2+0j)\n",
      "C spectrum\n",
      "Peak1 @ 66.48 ppm with integral=(0.4+0j)\n",
      "Peak2 @ 80.19 ppm with integral=(-0.4+0j)\n"
     ]
    }
   ],
   "source": [
    "p1_dj_uf3.h_spectrum()\n",
    "p1_dj_uf3.c_spectrum()"
   ]
  },
  {
   "cell_type": "markdown",
   "metadata": {},
   "source": [
    "#### Step 2C.3 : $U_{f3}$ P2 simulation for |00>"
   ]
  },
  {
   "cell_type": "code",
   "execution_count": 113,
   "metadata": {},
   "outputs": [
    {
     "name": "stdout",
     "output_type": "stream",
     "text": [
      "P2 :: DJ-Uf3(00) Pulse Sequence: Ix(+pi/2) -> 2IzSz(aka delay(1/2J)) -> Sx(+pi/2) -> Iy(+pi/2) -> 2IzSz(aka delay(1/2J)) -> Sy(+pi/2) -> Ix(pi) -> Sx(pi) -> Iy(+pi/2) -> Sy(-pi/2) -> Sy(-pi/2) -> Ix(-pi/2) -> Iy(0.5*pi) -> Ix(pi/2) -> Sx(-pi/2) -> Sy(0.5*pi) -> Sx(pi/2) -> -2IzSz(aka delay(3/2J)) -> Sy(+pi/2) -> Iy(-pi/2) -> Sy(+pi/2)"
     ]
    }
   ],
   "source": [
    "p2_dj_uf3 = PulseSequence(\"P2 :: DJ-Uf3(00)\")\\\n",
    "        .add_seq(p2_00)\\\n",
    "        .add(Pulse(\"Iy(+pi/2)\", Iy, +np.pi/2))\\\n",
    "        .add(Pulse(\"Sy(-pi/2)\", Sy, -np.pi/2))\\\n",
    "        .add_seq(f3)\\\n",
    "        .add(Pulse(\"Iy(-pi/2)\", Iy, -np.pi/2))\\\n",
    "        .add(Pulse(\"Sy(+pi/2)\", Sy, +np.pi/2))\\\n",
    "        \n",
    "\n",
    "p2_dj_uf3.print_sequence()"
   ]
  },
  {
   "cell_type": "code",
   "execution_count": 114,
   "metadata": {},
   "outputs": [
    {
     "data": {
      "text/latex": [
       "Quantum object: dims = [[2, 2], [2, 2]], shape = (4, 4), type = oper, isherm = False $ \\\\ \\left(\\begin{matrix}0.0 & 0.0 & (0.707-0.707j) & 0.0\\\\(0.707-0.707j) & 0.0 & 0.0 & 0.0\\\\0.0 & 0.0 & 0.0 & (0.707+0.707j)\\\\0.0 & (-0.707-0.707j) & 0.0 & 0.0\\\\\\end{matrix}\\right)$"
      ],
      "text/plain": [
       "Quantum object: dims = [[2, 2], [2, 2]], shape = (4, 4), type = oper, isherm = False\n",
       "Qobj data =\n",
       "[[ 0.        +0.j          0.        +0.j          0.70710678-0.70710678j\n",
       "   0.        +0.j        ]\n",
       " [ 0.70710678-0.70710678j  0.        +0.j          0.        +0.j\n",
       "   0.        +0.j        ]\n",
       " [ 0.        +0.j          0.        +0.j          0.        +0.j\n",
       "   0.70710678+0.70710678j]\n",
       " [ 0.        +0.j         -0.70710678-0.70710678j  0.        +0.j\n",
       "   0.        +0.j        ]]"
      ]
     },
     "execution_count": 114,
     "metadata": {},
     "output_type": "execute_result"
    }
   ],
   "source": [
    "p2_dj_uf3.compile().get_operator()"
   ]
  },
  {
   "cell_type": "code",
   "execution_count": 115,
   "metadata": {},
   "outputs": [
    {
     "data": {
      "text/latex": [
       "Quantum object: dims = [[2, 2], [2, 2]], shape = (4, 4), type = oper, isherm = True $ \\\\ \\left(\\begin{matrix}-0.600 & 0.0 & 0.0 & 0.0\\\\0.0 & 1.000 & 0.0 & 0.0\\\\0.0 & 0.0 & -1.000 & 0.0\\\\0.0 & 0.0 & 0.0 & 0.600\\\\\\end{matrix}\\right)$"
      ],
      "text/plain": [
       "Quantum object: dims = [[2, 2], [2, 2]], shape = (4, 4), type = oper, isherm = True\n",
       "Qobj data =\n",
       "[[-0.6  0.   0.   0. ]\n",
       " [ 0.   1.   0.   0. ]\n",
       " [ 0.   0.  -1.   0. ]\n",
       " [ 0.   0.   0.   0.6]]"
      ]
     },
     "execution_count": 115,
     "metadata": {},
     "output_type": "execute_result"
    }
   ],
   "source": [
    "p2_dj_uf3 = p2_dj_uf3.compile().evolve_pho(pho_th)\n",
    "p2_dj_uf3.rho"
   ]
  },
  {
   "cell_type": "code",
   "execution_count": 116,
   "metadata": {},
   "outputs": [
    {
     "name": "stdout",
     "output_type": "stream",
     "text": [
      "H spectrum\n",
      "Peak1 at 4.74 ppm with integral=(0.4+0j)\n",
      "Peak2 at 8.18 ppm with integral=(0.4+0j)\n",
      "C spectrum\n",
      "Peak1 @ 66.48 ppm with integral=(-1.6+0j)\n",
      "Peak2 @ 80.19 ppm with integral=(-1.6+0j)\n"
     ]
    }
   ],
   "source": [
    "p2_dj_uf3.h_spectrum()\n",
    "p2_dj_uf3.c_spectrum()"
   ]
  },
  {
   "cell_type": "markdown",
   "metadata": {},
   "source": [
    "#### Step 2C.4 : Temporal averaging for DJ $U_{f3}$ |00>"
   ]
  },
  {
   "cell_type": "code",
   "execution_count": 117,
   "metadata": {},
   "outputs": [
    {
     "data": {
      "text/latex": [
       "Quantum object: dims = [[2, 2], [2, 2]], shape = (4, 4), type = oper, isherm = True $ \\\\ \\left(\\begin{matrix}0.333 & 0.0 & 0.0 & 0.0\\\\0.0 & 0.333 & 0.0 & 0.0\\\\0.0 & 0.0 & -1.000 & 0.0\\\\0.0 & 0.0 & 0.0 & 0.333\\\\\\end{matrix}\\right)$"
      ],
      "text/plain": [
       "Quantum object: dims = [[2, 2], [2, 2]], shape = (4, 4), type = oper, isherm = True\n",
       "Qobj data =\n",
       "[[ 0.33333333  0.          0.          0.        ]\n",
       " [ 0.          0.33333333  0.          0.        ]\n",
       " [ 0.          0.         -1.          0.        ]\n",
       " [ 0.          0.          0.          0.33333333]]"
      ]
     },
     "execution_count": 117,
     "metadata": {},
     "output_type": "execute_result"
    }
   ],
   "source": [
    "(p0_dj_uf3.rho + p1_dj_uf3.rho + p2_dj_uf3.rho)/3"
   ]
  },
  {
   "cell_type": "markdown",
   "metadata": {},
   "source": [
    "### Step 2D : $U_{f4}$"
   ]
  },
  {
   "cell_type": "markdown",
   "metadata": {},
   "source": [
    "#### Step 2D.1 : $U_{f4}$ P0 simulation for |00>"
   ]
  },
  {
   "cell_type": "code",
   "execution_count": 118,
   "metadata": {},
   "outputs": [
    {
     "name": "stdout",
     "output_type": "stream",
     "text": [
      "DJ-Uf4(00) Pulse Sequence: Ix(pi) -> Sx(pi) -> Iy(+pi/2) -> Sy(-pi/2) -> Ix(pi) -> Sy(-pi/2) -> Ix(-pi/2) -> Iy(0.5*pi) -> Ix(pi/2) -> Sx(-pi/2) -> Sy(0.5*pi) -> Sx(pi/2) -> -2IzSz(aka delay(3/2J)) -> Sy(+pi/2) -> Ix(pi) -> Iy(-pi/2) -> Sy(+pi/2)"
     ]
    }
   ],
   "source": [
    "p0_dj_uf4 = PulseSequence(\"DJ-Uf4(00)\")\\\n",
    "        .add_seq(p0_00)\\\n",
    "        .add(Pulse(\"Iy(+pi/2)\", Iy, +np.pi/2))\\\n",
    "        .add(Pulse(\"Sy(-pi/2)\", Sy, -np.pi/2))\\\n",
    "        .add_seq(f4)\\\n",
    "        .add(Pulse(\"Iy(-pi/2)\", Iy, -np.pi/2))\\\n",
    "        .add(Pulse(\"Sy(+pi/2)\", Sy, +np.pi/2))\\\n",
    "        \n",
    "p0_dj_uf4.print_sequence()"
   ]
  },
  {
   "cell_type": "code",
   "execution_count": 119,
   "metadata": {},
   "outputs": [
    {
     "data": {
      "text/latex": [
       "Quantum object: dims = [[2, 2], [2, 2]], shape = (4, 4), type = oper, isherm = False $ \\\\ \\left(\\begin{matrix}0.0 & (-0.707+0.707j) & 0.0 & 0.0\\\\0.0 & 0.0 & (-0.707+0.707j) & 0.0\\\\0.0 & 0.0 & 0.0 & (-0.707+0.707j)\\\\(-0.707+0.707j) & 0.0 & 0.0 & 0.0\\\\\\end{matrix}\\right)$"
      ],
      "text/plain": [
       "Quantum object: dims = [[2, 2], [2, 2]], shape = (4, 4), type = oper, isherm = False\n",
       "Qobj data =\n",
       "[[ 0.        +0.j         -0.70710678+0.70710678j  0.        +0.j\n",
       "   0.        +0.j        ]\n",
       " [ 0.        +0.j          0.        +0.j         -0.70710678+0.70710678j\n",
       "   0.        +0.j        ]\n",
       " [ 0.        +0.j          0.        +0.j          0.        +0.j\n",
       "  -0.70710678+0.70710678j]\n",
       " [-0.70710678+0.70710678j  0.        +0.j          0.        +0.j\n",
       "   0.        +0.j        ]]"
      ]
     },
     "execution_count": 119,
     "metadata": {},
     "output_type": "execute_result"
    }
   ],
   "source": [
    "p0_dj_uf4.compile().get_operator()"
   ]
  },
  {
   "cell_type": "code",
   "execution_count": 120,
   "metadata": {},
   "outputs": [
    {
     "data": {
      "text/latex": [
       "Quantum object: dims = [[2, 2], [2, 2]], shape = (4, 4), type = oper, isherm = True $ \\\\ \\left(\\begin{matrix}0.600 & 0.0 & 0.0 & 0.0\\\\0.0 & -0.600 & 0.0 & 0.0\\\\0.0 & 0.0 & -1.000 & 0.0\\\\0.0 & 0.0 & 0.0 & 1.0\\\\\\end{matrix}\\right)$"
      ],
      "text/plain": [
       "Quantum object: dims = [[2, 2], [2, 2]], shape = (4, 4), type = oper, isherm = True\n",
       "Qobj data =\n",
       "[[ 0.6  0.   0.   0. ]\n",
       " [ 0.  -0.6  0.   0. ]\n",
       " [ 0.   0.  -1.   0. ]\n",
       " [ 0.   0.   0.   1. ]]"
      ]
     },
     "execution_count": 120,
     "metadata": {},
     "output_type": "execute_result"
    }
   ],
   "source": [
    "p0_dj_uf4 = p0_dj_uf4.compile().evolve_pho(pho_th)\n",
    "p0_dj_uf4.rho"
   ]
  },
  {
   "cell_type": "code",
   "execution_count": 121,
   "metadata": {},
   "outputs": [
    {
     "name": "stdout",
     "output_type": "stream",
     "text": [
      "H spectrum\n",
      "Peak1 at 4.74 ppm with integral=(1.6+0j)\n",
      "Peak2 at 8.18 ppm with integral=(-1.6+0j)\n",
      "C spectrum\n",
      "Peak1 @ 66.48 ppm with integral=(1.2+0j)\n",
      "Peak2 @ 80.19 ppm with integral=(-2+0j)\n"
     ]
    }
   ],
   "source": [
    "p0_dj_uf4.h_spectrum()\n",
    "p0_dj_uf4.c_spectrum()"
   ]
  },
  {
   "cell_type": "markdown",
   "metadata": {},
   "source": [
    "#### Step 2D.2 : $U_{f4}$ P1 simulation for |00>"
   ]
  },
  {
   "cell_type": "code",
   "execution_count": 122,
   "metadata": {},
   "outputs": [
    {
     "name": "stdout",
     "output_type": "stream",
     "text": [
      "P1 :: DJ-Uf4(00) Pulse Sequence: Sx(+pi/2) -> 2IzSz(aka delay(1/2J)) -> Sy(+pi/2) -> Ix(+pi/2) -> 2IzSz(aka delay(1/2J)) -> Iy(+pi/2) -> Ix(pi) -> Sx(pi) -> Iy(+pi/2) -> Sy(-pi/2) -> Ix(pi) -> Sy(-pi/2) -> Ix(-pi/2) -> Iy(0.5*pi) -> Ix(pi/2) -> Sx(-pi/2) -> Sy(0.5*pi) -> Sx(pi/2) -> -2IzSz(aka delay(3/2J)) -> Sy(+pi/2) -> Ix(pi) -> Iy(-pi/2) -> Sy(+pi/2)"
     ]
    }
   ],
   "source": [
    "p1_dj_uf4 = PulseSequence(\"P1 :: DJ-Uf4(00)\")\\\n",
    "        .add_seq(p1_00)\\\n",
    "        .add(Pulse(\"Iy(+pi/2)\", Iy, +np.pi/2))\\\n",
    "        .add(Pulse(\"Sy(-pi/2)\", Sy, -np.pi/2))\\\n",
    "        .add_seq(f4)\\\n",
    "        .add(Pulse(\"Iy(-pi/2)\", Iy, -np.pi/2))\\\n",
    "        .add(Pulse(\"Sy(+pi/2)\", Sy, +np.pi/2))\\\n",
    "        \n",
    "p1_dj_uf4.print_sequence()"
   ]
  },
  {
   "cell_type": "code",
   "execution_count": 123,
   "metadata": {},
   "outputs": [
    {
     "data": {
      "text/latex": [
       "Quantum object: dims = [[2, 2], [2, 2]], shape = (4, 4), type = oper, isherm = False $ \\\\ \\left(\\begin{matrix}(-0.707+0.707j) & 0.0 & 0.0 & 0.0\\\\0.0 & (0.707-0.707j) & 0.0 & 0.0\\\\0.0 & 0.0 & 0.0 & (0.707+0.707j)\\\\0.0 & 0.0 & (0.707+0.707j) & 0.0\\\\\\end{matrix}\\right)$"
      ],
      "text/plain": [
       "Quantum object: dims = [[2, 2], [2, 2]], shape = (4, 4), type = oper, isherm = False\n",
       "Qobj data =\n",
       "[[-0.70710678+0.70710678j  0.        +0.j          0.        +0.j\n",
       "   0.        +0.j        ]\n",
       " [ 0.        +0.j          0.70710678-0.70710678j  0.        +0.j\n",
       "   0.        +0.j        ]\n",
       " [ 0.        +0.j          0.        +0.j          0.        +0.j\n",
       "   0.70710678+0.70710678j]\n",
       " [ 0.        +0.j          0.        +0.j          0.70710678+0.70710678j\n",
       "   0.        +0.j        ]]"
      ]
     },
     "execution_count": 123,
     "metadata": {},
     "output_type": "execute_result"
    }
   ],
   "source": [
    "p1_dj_uf4.compile().get_operator()"
   ]
  },
  {
   "cell_type": "code",
   "execution_count": 124,
   "metadata": {},
   "outputs": [
    {
     "data": {
      "text/latex": [
       "Quantum object: dims = [[2, 2], [2, 2]], shape = (4, 4), type = oper, isherm = True $ \\\\ \\left(\\begin{matrix}1.000 & 0.0 & 0.0 & 0.0\\\\0.0 & 0.600 & 0.0 & 0.0\\\\0.0 & 0.0 & -1.000 & 0.0\\\\0.0 & 0.0 & 0.0 & -0.600\\\\\\end{matrix}\\right)$"
      ],
      "text/plain": [
       "Quantum object: dims = [[2, 2], [2, 2]], shape = (4, 4), type = oper, isherm = True\n",
       "Qobj data =\n",
       "[[ 1.   0.   0.   0. ]\n",
       " [ 0.   0.6  0.   0. ]\n",
       " [ 0.   0.  -1.   0. ]\n",
       " [ 0.   0.   0.  -0.6]]"
      ]
     },
     "execution_count": 124,
     "metadata": {},
     "output_type": "execute_result"
    }
   ],
   "source": [
    "p1_dj_uf4 = p1_dj_uf4.compile().evolve_pho(pho_th)\n",
    "p1_dj_uf4.rho"
   ]
  },
  {
   "cell_type": "code",
   "execution_count": 125,
   "metadata": {},
   "outputs": [
    {
     "name": "stdout",
     "output_type": "stream",
     "text": [
      "H spectrum\n",
      "Peak1 at 4.74 ppm with integral=(2+0j)\n",
      "Peak2 at 8.18 ppm with integral=(1.2+0j)\n",
      "C spectrum\n",
      "Peak1 @ 66.48 ppm with integral=(0.4+0j)\n",
      "Peak2 @ 80.19 ppm with integral=(-0.4+0j)\n"
     ]
    }
   ],
   "source": [
    "p1_dj_uf4.h_spectrum()\n",
    "p1_dj_uf4.c_spectrum()"
   ]
  },
  {
   "cell_type": "markdown",
   "metadata": {},
   "source": [
    "#### Step 2D.3 : $U_{f4}$ P2 simulation for |00>"
   ]
  },
  {
   "cell_type": "code",
   "execution_count": 126,
   "metadata": {},
   "outputs": [
    {
     "name": "stdout",
     "output_type": "stream",
     "text": [
      "P2 :: DJ-Uf4(00) Pulse Sequence: Ix(+pi/2) -> 2IzSz(aka delay(1/2J)) -> Sx(+pi/2) -> Iy(+pi/2) -> 2IzSz(aka delay(1/2J)) -> Sy(+pi/2) -> Ix(pi) -> Sx(pi) -> Iy(+pi/2) -> Sy(-pi/2) -> Ix(pi) -> Sy(-pi/2) -> Ix(-pi/2) -> Iy(0.5*pi) -> Ix(pi/2) -> Sx(-pi/2) -> Sy(0.5*pi) -> Sx(pi/2) -> -2IzSz(aka delay(3/2J)) -> Sy(+pi/2) -> Ix(pi) -> Iy(-pi/2) -> Sy(+pi/2)"
     ]
    }
   ],
   "source": [
    "p2_dj_uf4 = PulseSequence(\"P2 :: DJ-Uf4(00)\")\\\n",
    "        .add_seq(p2_00)\\\n",
    "        .add(Pulse(\"Iy(+pi/2)\", Iy, +np.pi/2))\\\n",
    "        .add(Pulse(\"Sy(-pi/2)\", Sy, -np.pi/2))\\\n",
    "        .add_seq(f4)\\\n",
    "        .add(Pulse(\"Iy(-pi/2)\", Iy, -np.pi/2))\\\n",
    "        .add(Pulse(\"Sy(+pi/2)\", Sy, +np.pi/2))\\\n",
    "        \n",
    "\n",
    "p2_dj_uf4.print_sequence()"
   ]
  },
  {
   "cell_type": "code",
   "execution_count": 127,
   "metadata": {},
   "outputs": [
    {
     "data": {
      "text/latex": [
       "Quantum object: dims = [[2, 2], [2, 2]], shape = (4, 4), type = oper, isherm = False $ \\\\ \\left(\\begin{matrix}0.0 & 0.0 & (0.707-0.707j) & 0.0\\\\(-0.707+0.707j) & 0.0 & 0.0 & 0.0\\\\0.0 & 0.0 & 0.0 & (0.707+0.707j)\\\\0.0 & (0.707+0.707j) & 0.0 & 0.0\\\\\\end{matrix}\\right)$"
      ],
      "text/plain": [
       "Quantum object: dims = [[2, 2], [2, 2]], shape = (4, 4), type = oper, isherm = False\n",
       "Qobj data =\n",
       "[[ 0.        +0.j          0.        +0.j          0.70710678-0.70710678j\n",
       "   0.        +0.j        ]\n",
       " [-0.70710678+0.70710678j  0.        +0.j          0.        +0.j\n",
       "   0.        +0.j        ]\n",
       " [ 0.        +0.j          0.        +0.j          0.        +0.j\n",
       "   0.70710678+0.70710678j]\n",
       " [ 0.        +0.j          0.70710678+0.70710678j  0.        +0.j\n",
       "   0.        +0.j        ]]"
      ]
     },
     "execution_count": 127,
     "metadata": {},
     "output_type": "execute_result"
    }
   ],
   "source": [
    "p2_dj_uf4.compile().get_operator()"
   ]
  },
  {
   "cell_type": "code",
   "execution_count": 128,
   "metadata": {},
   "outputs": [
    {
     "data": {
      "text/latex": [
       "Quantum object: dims = [[2, 2], [2, 2]], shape = (4, 4), type = oper, isherm = True $ \\\\ \\left(\\begin{matrix}-0.600 & 0.0 & 0.0 & 0.0\\\\0.0 & 1.000 & 0.0 & 0.0\\\\0.0 & 0.0 & -1.000 & 0.0\\\\0.0 & 0.0 & 0.0 & 0.600\\\\\\end{matrix}\\right)$"
      ],
      "text/plain": [
       "Quantum object: dims = [[2, 2], [2, 2]], shape = (4, 4), type = oper, isherm = True\n",
       "Qobj data =\n",
       "[[-0.6  0.   0.   0. ]\n",
       " [ 0.   1.   0.   0. ]\n",
       " [ 0.   0.  -1.   0. ]\n",
       " [ 0.   0.   0.   0.6]]"
      ]
     },
     "execution_count": 128,
     "metadata": {},
     "output_type": "execute_result"
    }
   ],
   "source": [
    "p2_dj_uf4 = p2_dj_uf4.compile().evolve_pho(pho_th)\n",
    "p2_dj_uf4.rho"
   ]
  },
  {
   "cell_type": "code",
   "execution_count": 129,
   "metadata": {},
   "outputs": [
    {
     "name": "stdout",
     "output_type": "stream",
     "text": [
      "H spectrum\n",
      "Peak1 at 4.74 ppm with integral=(0.4+0j)\n",
      "Peak2 at 8.18 ppm with integral=(0.4+0j)\n",
      "C spectrum\n",
      "Peak1 @ 66.48 ppm with integral=(-1.6+0j)\n",
      "Peak2 @ 80.19 ppm with integral=(-1.6+0j)\n"
     ]
    }
   ],
   "source": [
    "p2_dj_uf4.h_spectrum()\n",
    "p2_dj_uf4.c_spectrum()"
   ]
  },
  {
   "cell_type": "markdown",
   "metadata": {},
   "source": [
    "#### Step 2D.4 : Temporal averaging for DJ $U_{f4}$ |00>"
   ]
  },
  {
   "cell_type": "code",
   "execution_count": 130,
   "metadata": {},
   "outputs": [
    {
     "data": {
      "text/latex": [
       "Quantum object: dims = [[2, 2], [2, 2]], shape = (4, 4), type = oper, isherm = True $ \\\\ \\left(\\begin{matrix}0.333 & 0.0 & 0.0 & 0.0\\\\0.0 & 0.333 & 0.0 & 0.0\\\\0.0 & 0.0 & -1.000 & 0.0\\\\0.0 & 0.0 & 0.0 & 0.333\\\\\\end{matrix}\\right)$"
      ],
      "text/plain": [
       "Quantum object: dims = [[2, 2], [2, 2]], shape = (4, 4), type = oper, isherm = True\n",
       "Qobj data =\n",
       "[[ 0.33333333  0.          0.          0.        ]\n",
       " [ 0.          0.33333333  0.          0.        ]\n",
       " [ 0.          0.         -1.          0.        ]\n",
       " [ 0.          0.          0.          0.33333333]]"
      ]
     },
     "execution_count": 130,
     "metadata": {},
     "output_type": "execute_result"
    }
   ],
   "source": [
    "(p0_dj_uf4.rho + p1_dj_uf4.rho + p2_dj_uf4.rho)/3"
   ]
  },
  {
   "cell_type": "markdown",
   "metadata": {},
   "source": [
    "## Step 3: Verify Deutsch Jozsa(DJ) Algorithm"
   ]
  },
  {
   "cell_type": "markdown",
   "metadata": {},
   "source": [
    "### Step 3.1 : Verify constant function(f(0)=f(1))"
   ]
  },
  {
   "cell_type": "code",
   "execution_count": 131,
   "metadata": {},
   "outputs": [
    {
     "name": "stdout",
     "output_type": "stream",
     "text": [
      "---------------------------------------------------\n",
      "P0-Uf1(00) Spectrum\n",
      "---------------------------------------------------\n",
      "H spectrum\n",
      "Peak1 at 4.74 ppm with integral=(-1.6+0j)\n",
      "Peak2 at 8.18 ppm with integral=(-1.6+0j)\n",
      "C spectrum\n",
      "Peak1 @ 66.48 ppm with integral=(-0.4+0j)\n",
      "Peak2 @ 80.19 ppm with integral=(-0.4+0j)\n",
      "\n",
      "\n",
      "---------------------------------------------------\n",
      "P0-Uf2(00) Spectrum\n",
      "---------------------------------------------------\n",
      "H spectrum\n",
      "Peak1 at 4.74 ppm with integral=(-1.6+0j)\n",
      "Peak2 at 8.18 ppm with integral=(-1.6+0j)\n",
      "C spectrum\n",
      "Peak1 @ 66.48 ppm with integral=(-0.4+0j)\n",
      "Peak2 @ 80.19 ppm with integral=(-0.4+0j)\n"
     ]
    }
   ],
   "source": [
    "print(\"---------------------------------------------------\")\n",
    "print(\"P0-Uf1(00) Spectrum\")\n",
    "print(\"---------------------------------------------------\")\n",
    "p0_dj_uf1.h_spectrum()\n",
    "p0_dj_uf1.c_spectrum()\n",
    "\n",
    "print(\"\\n\")\n",
    "print(\"---------------------------------------------------\")\n",
    "print(\"P0-Uf2(00) Spectrum\")\n",
    "print(\"---------------------------------------------------\")\n",
    "p0_dj_uf2.h_spectrum()\n",
    "p0_dj_uf2.c_spectrum()"
   ]
  },
  {
   "cell_type": "code",
   "execution_count": 132,
   "metadata": {},
   "outputs": [
    {
     "name": "stdout",
     "output_type": "stream",
     "text": [
      "---------------------------------------------------\n",
      "P1-Uf1(00) Spectrum\n",
      "---------------------------------------------------\n",
      "H spectrum\n",
      "Peak1 at 4.74 ppm with integral=(-2+0j)\n",
      "Peak2 at 8.18 ppm with integral=(1.2+0j)\n",
      "C spectrum\n",
      "Peak1 @ 66.48 ppm with integral=(-1.6+0j)\n",
      "Peak2 @ 80.19 ppm with integral=(1.6+0j)\n",
      "\n",
      "\n",
      "---------------------------------------------------\n",
      "\n",
      "P1-Uf2(00) Spectrum\n",
      "---------------------------------------------------\n",
      "H spectrum\n",
      "Peak1 at 4.74 ppm with integral=(-2+0j)\n",
      "Peak2 at 8.18 ppm with integral=(1.2+0j)\n",
      "C spectrum\n",
      "Peak1 @ 66.48 ppm with integral=(-1.6+0j)\n",
      "Peak2 @ 80.19 ppm with integral=(1.6+0j)\n"
     ]
    }
   ],
   "source": [
    "print(\"---------------------------------------------------\")\n",
    "print(\"P1-Uf1(00) Spectrum\")\n",
    "print(\"---------------------------------------------------\")\n",
    "p1_dj_uf1.h_spectrum()\n",
    "p1_dj_uf1.c_spectrum()\n",
    "\n",
    "print(\"\\n\")\n",
    "print(\"---------------------------------------------------\")\n",
    "print(\"\\nP1-Uf2(00) Spectrum\")\n",
    "print(\"---------------------------------------------------\")\n",
    "p1_dj_uf2.h_spectrum()\n",
    "p1_dj_uf2.c_spectrum()"
   ]
  },
  {
   "cell_type": "code",
   "execution_count": 133,
   "metadata": {},
   "outputs": [
    {
     "name": "stdout",
     "output_type": "stream",
     "text": [
      "---------------------------------------------------\n",
      "P2-Uf1(00) Spectrum\n",
      "---------------------------------------------------\n",
      "H spectrum\n",
      "Peak1 at 4.74 ppm with integral=(-0.4+0j)\n",
      "Peak2 at 8.18 ppm with integral=(0.4+0j)\n",
      "C spectrum\n",
      "Peak1 @ 66.48 ppm with integral=(-2+0j)\n",
      "Peak2 @ 80.19 ppm with integral=(-1.2+0j)\n",
      "\n",
      "\n",
      "---------------------------------------------------\n",
      "\n",
      "P2-Uf2(00) Spectrum\n",
      "---------------------------------------------------\n",
      "H spectrum\n",
      "Peak1 at 4.74 ppm with integral=(-0.4+0j)\n",
      "Peak2 at 8.18 ppm with integral=(0.4+0j)\n",
      "C spectrum\n",
      "Peak1 @ 66.48 ppm with integral=(-2+0j)\n",
      "Peak2 @ 80.19 ppm with integral=(-1.2+0j)\n"
     ]
    }
   ],
   "source": [
    "print(\"---------------------------------------------------\")\n",
    "print(\"P2-Uf1(00) Spectrum\")\n",
    "print(\"---------------------------------------------------\")\n",
    "p2_dj_uf1.h_spectrum()\n",
    "p2_dj_uf1.c_spectrum()\n",
    "\n",
    "print(\"\\n\")\n",
    "print(\"---------------------------------------------------\")\n",
    "print(\"\\nP2-Uf2(00) Spectrum\")\n",
    "print(\"---------------------------------------------------\")\n",
    "p2_dj_uf2.h_spectrum()\n",
    "p2_dj_uf2.c_spectrum()"
   ]
  },
  {
   "cell_type": "markdown",
   "metadata": {},
   "source": [
    "### Step 3.2 : Verify balanced function(f(0)!=f(1))"
   ]
  },
  {
   "cell_type": "code",
   "execution_count": 134,
   "metadata": {},
   "outputs": [
    {
     "name": "stdout",
     "output_type": "stream",
     "text": [
      "---------------------------------------------------\n",
      "P0-Uf3(00) Spectrum\n",
      "---------------------------------------------------\n",
      "H spectrum\n",
      "Peak1 at 4.74 ppm with integral=(1.6+0j)\n",
      "Peak2 at 8.18 ppm with integral=(-1.6+0j)\n",
      "C spectrum\n",
      "Peak1 @ 66.48 ppm with integral=(1.2+0j)\n",
      "Peak2 @ 80.19 ppm with integral=(-2+0j)\n",
      "\n",
      "\n",
      "---------------------------------------------------\n",
      "P0-Uf4(00) Spectrum\n",
      "---------------------------------------------------\n",
      "H spectrum\n",
      "Peak1 at 4.74 ppm with integral=(1.6+0j)\n",
      "Peak2 at 8.18 ppm with integral=(-1.6+0j)\n",
      "C spectrum\n",
      "Peak1 @ 66.48 ppm with integral=(1.2+0j)\n",
      "Peak2 @ 80.19 ppm with integral=(-2+0j)\n"
     ]
    }
   ],
   "source": [
    "print(\"---------------------------------------------------\")\n",
    "print(\"P0-Uf3(00) Spectrum\")\n",
    "print(\"---------------------------------------------------\")\n",
    "p0_dj_uf3.h_spectrum()\n",
    "p0_dj_uf3.c_spectrum()\n",
    "\n",
    "print(\"\\n\")\n",
    "print(\"---------------------------------------------------\")\n",
    "print(\"P0-Uf4(00) Spectrum\")\n",
    "print(\"---------------------------------------------------\")\n",
    "p0_dj_uf4.h_spectrum()\n",
    "p0_dj_uf4.c_spectrum()"
   ]
  },
  {
   "cell_type": "code",
   "execution_count": 135,
   "metadata": {},
   "outputs": [
    {
     "name": "stdout",
     "output_type": "stream",
     "text": [
      "---------------------------------------------------\n",
      "P1-Uf3(00) Spectrum\n",
      "---------------------------------------------------\n",
      "H spectrum\n",
      "Peak1 at 4.74 ppm with integral=(2+0j)\n",
      "Peak2 at 8.18 ppm with integral=(1.2+0j)\n",
      "C spectrum\n",
      "Peak1 @ 66.48 ppm with integral=(0.4+0j)\n",
      "Peak2 @ 80.19 ppm with integral=(-0.4+0j)\n",
      "\n",
      "\n",
      "---------------------------------------------------\n",
      "P1-Uf4(00) Spectrum\n",
      "---------------------------------------------------\n",
      "H spectrum\n",
      "Peak1 at 4.74 ppm with integral=(2+0j)\n",
      "Peak2 at 8.18 ppm with integral=(1.2+0j)\n",
      "C spectrum\n",
      "Peak1 @ 66.48 ppm with integral=(0.4+0j)\n",
      "Peak2 @ 80.19 ppm with integral=(-0.4+0j)\n"
     ]
    }
   ],
   "source": [
    "print(\"---------------------------------------------------\")\n",
    "print(\"P1-Uf3(00) Spectrum\")\n",
    "print(\"---------------------------------------------------\")\n",
    "p1_dj_uf3.h_spectrum()\n",
    "p1_dj_uf3.c_spectrum()\n",
    "\n",
    "print(\"\\n\")\n",
    "print(\"---------------------------------------------------\")\n",
    "print(\"P1-Uf4(00) Spectrum\")\n",
    "print(\"---------------------------------------------------\")\n",
    "p1_dj_uf4.h_spectrum()\n",
    "p1_dj_uf4.c_spectrum()"
   ]
  },
  {
   "cell_type": "code",
   "execution_count": 136,
   "metadata": {},
   "outputs": [
    {
     "name": "stdout",
     "output_type": "stream",
     "text": [
      "---------------------------------------------------\n",
      "P2-Uf3(00) Spectrum\n",
      "---------------------------------------------------\n",
      "H spectrum\n",
      "Peak1 at 4.74 ppm with integral=(0.4+0j)\n",
      "Peak2 at 8.18 ppm with integral=(0.4+0j)\n",
      "C spectrum\n",
      "Peak1 @ 66.48 ppm with integral=(-1.6+0j)\n",
      "Peak2 @ 80.19 ppm with integral=(-1.6+0j)\n",
      "\n",
      "\n",
      "---------------------------------------------------\n",
      "P2-Uf4(00) Spectrum\n",
      "---------------------------------------------------\n",
      "H spectrum\n",
      "Peak1 at 4.74 ppm with integral=(0.4+0j)\n",
      "Peak2 at 8.18 ppm with integral=(0.4+0j)\n",
      "C spectrum\n",
      "Peak1 @ 66.48 ppm with integral=(-1.6+0j)\n",
      "Peak2 @ 80.19 ppm with integral=(-1.6+0j)\n"
     ]
    }
   ],
   "source": [
    "print(\"---------------------------------------------------\")\n",
    "print(\"P2-Uf3(00) Spectrum\")\n",
    "print(\"---------------------------------------------------\")\n",
    "p2_dj_uf3.h_spectrum()\n",
    "p2_dj_uf3.c_spectrum()\n",
    "\n",
    "print(\"\\n\")\n",
    "print(\"---------------------------------------------------\")\n",
    "print(\"P2-Uf4(00) Spectrum\")\n",
    "print(\"---------------------------------------------------\")\n",
    "p2_dj_uf4.h_spectrum()\n",
    "p2_dj_uf4.c_spectrum()"
   ]
  },
  {
   "cell_type": "markdown",
   "metadata": {},
   "source": [
    "# (Q4) Grover's Algorithm"
   ]
  },
  {
   "cell_type": "markdown",
   "metadata": {},
   "source": [
    "### Step 1: State Preparation: $H^{\\otimes2} |00\\rangle $\n",
    "- Apply $H^{\\otimes2}= H_i \\otimes H_s$ on $|00\\rangle$. \n",
    "- We already prepared $|00\\rangle$ by temporal averaging.\n",
    "\n",
    "### Step 2: Construct $O_3$\n",
    "$$O_3 =\\begin{pmatrix} 1&0&0&0\\\\0&1&0&0\\\\0&0&1&0\\\\0&0&0&-1 \\end{pmatrix}$$\n",
    "\n",
    "### Step 3: Construct conditional phase shift operator $P$ \n",
    "$$P=\\begin{pmatrix} 1&0&0&0\\\\0&-1&0&0\\\\0&0&-1&0\\\\0&0&0&-1 \\end{pmatrix}$$\n",
    "\n",
    "### Step 4: Construct Grover operator: $G=H^{\\otimes2}PH^{\\otimes2}O$.\n",
    "\n",
    "### Step 5: Execute Grover's algorithm \n",
    "- Execute Grovers Algorithm on P0, P1 and P2 for 1 iteration.\n",
    "- Then take average to get $G H^{\\otimes2}|00\\rangle=|11\\rangle$."
   ]
  },
  {
   "cell_type": "markdown",
   "metadata": {},
   "source": [
    "### Step 1: State Preparation: $H^{\\otimes2} operator$"
   ]
  },
  {
   "cell_type": "code",
   "execution_count": 137,
   "metadata": {},
   "outputs": [
    {
     "name": "stdout",
     "output_type": "stream",
     "text": [
      "H^2 Pulse Sequence: Iy(+pi/2) -> Ix(+pi/2) -> Ix(+pi/2) -> Sy(+pi/2) -> Sx(+pi/2) -> Sx(+pi/2)"
     ]
    }
   ],
   "source": [
    "H2 = PulseSequence(\"H^2\")\\\n",
    "    .add_seq(aH_i)\\\n",
    "    .add_seq(aH_s)\\\n",
    "\n",
    "H2.print_sequence()"
   ]
  },
  {
   "cell_type": "code",
   "execution_count": 138,
   "metadata": {},
   "outputs": [
    {
     "name": "stdout",
     "output_type": "stream",
     "text": [
      "H^2 upto global phase...\n"
     ]
    },
    {
     "data": {
      "text/latex": [
       "Quantum object: dims = [[2, 2], [2, 2]], shape = (4, 4), type = oper, isherm = True $ \\\\ \\left(\\begin{matrix}0.500 & 0.500 & 0.500 & 0.500\\\\0.500 & -0.500 & 0.500 & -0.500\\\\0.500 & 0.500 & -0.500 & -0.500\\\\0.500 & -0.500 & -0.500 & 0.500\\\\\\end{matrix}\\right)$"
      ],
      "text/plain": [
       "Quantum object: dims = [[2, 2], [2, 2]], shape = (4, 4), type = oper, isherm = True\n",
       "Qobj data =\n",
       "[[ 0.5  0.5  0.5  0.5]\n",
       " [ 0.5 -0.5  0.5 -0.5]\n",
       " [ 0.5  0.5 -0.5 -0.5]\n",
       " [ 0.5 -0.5 -0.5  0.5]]"
      ]
     },
     "execution_count": 138,
     "metadata": {},
     "output_type": "execute_result"
    }
   ],
   "source": [
    "print(\"H^2 upto global phase...\")\n",
    "np.exp(-1j*np.pi)*H2.compile().get_operator()"
   ]
  },
  {
   "cell_type": "markdown",
   "metadata": {},
   "source": [
    "## Step 2: Construct Oracles\n"
   ]
  },
  {
   "cell_type": "markdown",
   "metadata": {},
   "source": [
    "### Step 2A: Construct $O_3$\n",
    "\n",
    "$$O_3 =\\begin{pmatrix} 1&0&0&0\\\\0&1&0&0\\\\0&0&1&0\\\\0&0&0&-1 \\end{pmatrix}$$"
   ]
  },
  {
   "cell_type": "code",
   "execution_count": 139,
   "metadata": {},
   "outputs": [
    {
     "name": "stdout",
     "output_type": "stream",
     "text": [
      "O3 Pulse Sequence: 2IzSz(aka delay(1/2J)) -> Sy(-pi/2) -> Sx(+pi/2) -> Sy(+pi/2) -> Iy(-pi/2) -> Ix(+pi/2) -> Iy(+pi/2)"
     ]
    }
   ],
   "source": [
    "O3 = PulseSequence(\"O3\")\\\n",
    "    .add(Pulse(\"2IzSz(aka delay(1/2J))\", IzSz, +np.pi))\\\n",
    "    .add(Pulse(\"Sy(-pi/2)\", Sy, -np.pi/2))\\\n",
    "    .add(Pulse(\"Sx(+pi/2)\", Sx, +np.pi/2))\\\n",
    "    .add(Pulse(\"Sy(+pi/2)\", Sy, +np.pi/2))\\\n",
    "    .add(Pulse(\"Iy(-pi/2)\", Iy, -np.pi/2))\\\n",
    "    .add(Pulse(\"Ix(+pi/2)\", Ix, +np.pi/2))\\\n",
    "    .add(Pulse(\"Iy(+pi/2)\", Iy, +np.pi/2))\\\n",
    "    \n",
    "O3.print_sequence()"
   ]
  },
  {
   "cell_type": "code",
   "execution_count": 140,
   "metadata": {},
   "outputs": [
    {
     "name": "stdout",
     "output_type": "stream",
     "text": [
      "O3 multiplied by global phase...\n"
     ]
    },
    {
     "data": {
      "text/latex": [
       "Quantum object: dims = [[2, 2], [2, 2]], shape = (4, 4), type = oper, isherm = True $ \\\\ \\left(\\begin{matrix}1.000 & 0.0 & 0.0 & 0.0\\\\0.0 & 1.000 & 0.0 & 0.0\\\\0.0 & 0.0 & 1.0 & 0.0\\\\0.0 & 0.0 & 0.0 & -1.0\\\\\\end{matrix}\\right)$"
      ],
      "text/plain": [
       "Quantum object: dims = [[2, 2], [2, 2]], shape = (4, 4), type = oper, isherm = True\n",
       "Qobj data =\n",
       "[[ 1.  0.  0.  0.]\n",
       " [ 0.  1.  0.  0.]\n",
       " [ 0.  0.  1.  0.]\n",
       " [ 0.  0.  0. -1.]]"
      ]
     },
     "execution_count": 140,
     "metadata": {},
     "output_type": "execute_result"
    }
   ],
   "source": [
    "print(\"O3 multiplied by global phase...\")\n",
    "np.exp(-1j*np.pi/4)*O3.compile().get_operator()"
   ]
  },
  {
   "cell_type": "markdown",
   "metadata": {},
   "source": [
    "### Step 3: Construct conditional phase shift operator $P$ \n",
    "$$P=\\begin{pmatrix} 1&0&0&0\\\\0&-1&0&0\\\\0&0&-1&0\\\\0&0&0&-1 \\end{pmatrix}$$"
   ]
  },
  {
   "cell_type": "code",
   "execution_count": 141,
   "metadata": {},
   "outputs": [
    {
     "name": "stdout",
     "output_type": "stream",
     "text": [
      "P Pulse Sequence: 2IzSz(aka delay(1/2J)) -> Sy(-pi/2) -> Sx(-pi/2) -> Sy(+pi/2) -> Iy(-pi/2) -> Ix(-pi/2) -> Iy(+pi/2)"
     ]
    }
   ],
   "source": [
    "P = PulseSequence(\"P\")\\\n",
    "    .add(Pulse(\"2IzSz(aka delay(1/2J))\", IzSz, +np.pi))\\\n",
    "    .add(Pulse(\"Sy(-pi/2)\", Sy, -np.pi/2))\\\n",
    "    .add(Pulse(\"Sx(-pi/2)\", Sx, -np.pi/2))\\\n",
    "    .add(Pulse(\"Sy(+pi/2)\", Sy, +np.pi/2))\\\n",
    "    .add(Pulse(\"Iy(-pi/2)\", Iy, -np.pi/2))\\\n",
    "    .add(Pulse(\"Ix(-pi/2)\", Ix, -np.pi/2))\\\n",
    "    .add(Pulse(\"Iy(+pi/2)\", Iy, +np.pi/2))\\\n",
    "\n",
    "P.print_sequence()"
   ]
  },
  {
   "cell_type": "code",
   "execution_count": 142,
   "metadata": {},
   "outputs": [
    {
     "name": "stdout",
     "output_type": "stream",
     "text": [
      "P multiplied by global phase...\n"
     ]
    },
    {
     "data": {
      "text/latex": [
       "Quantum object: dims = [[2, 2], [2, 2]], shape = (4, 4), type = oper, isherm = True $ \\\\ \\left(\\begin{matrix}1.000 & 0.0 & 0.0 & 0.0\\\\0.0 & -1.000 & 0.0 & 0.0\\\\0.0 & 0.0 & -1.0 & 0.0\\\\0.0 & 0.0 & 0.0 & -1.0\\\\\\end{matrix}\\right)$"
      ],
      "text/plain": [
       "Quantum object: dims = [[2, 2], [2, 2]], shape = (4, 4), type = oper, isherm = True\n",
       "Qobj data =\n",
       "[[ 1.  0.  0.  0.]\n",
       " [ 0. -1.  0.  0.]\n",
       " [ 0.  0. -1.  0.]\n",
       " [ 0.  0.  0. -1.]]"
      ]
     },
     "execution_count": 142,
     "metadata": {},
     "output_type": "execute_result"
    }
   ],
   "source": [
    "print(\"P multiplied by global phase...\")\n",
    "np.exp(-1j*5*np.pi/4)*P.compile().get_operator()"
   ]
  },
  {
   "cell_type": "markdown",
   "metadata": {},
   "source": [
    "## Step 4: Construct Grover operator: $G=H^{\\otimes2}PH^{\\otimes2}O$.\n"
   ]
  },
  {
   "cell_type": "code",
   "execution_count": 143,
   "metadata": {},
   "outputs": [
    {
     "name": "stdout",
     "output_type": "stream",
     "text": [
      "G Pulse Sequence: 2IzSz(aka delay(1/2J)) -> Sy(-pi/2) -> Sx(+pi/2) -> Sy(+pi/2) -> Iy(-pi/2) -> Ix(+pi/2) -> Iy(+pi/2) -> Iy(+pi/2) -> Ix(+pi/2) -> Ix(+pi/2) -> Sy(+pi/2) -> Sx(+pi/2) -> Sx(+pi/2) -> 2IzSz(aka delay(1/2J)) -> Sy(-pi/2) -> Sx(-pi/2) -> Sy(+pi/2) -> Iy(-pi/2) -> Ix(-pi/2) -> Iy(+pi/2) -> Iy(+pi/2) -> Ix(+pi/2) -> Ix(+pi/2) -> Sy(+pi/2) -> Sx(+pi/2) -> Sx(+pi/2)"
     ]
    }
   ],
   "source": [
    "\n",
    "def grover_iteration(Ofk):\n",
    "    return PulseSequence(\"G\")\\\n",
    "    .add_seq(Ofk)\\\n",
    "    .add_seq(H2)\\\n",
    "    .add_seq(P)\\\n",
    "    .add_seq(H2)\n",
    "\n",
    "G = grover_iteration(O3)\n",
    "G.print_sequence()"
   ]
  },
  {
   "cell_type": "code",
   "execution_count": 144,
   "metadata": {},
   "outputs": [
    {
     "data": {
      "text/latex": [
       "Quantum object: dims = [[2, 2], [2, 2]], shape = (4, 4), type = oper, isherm = False $ \\\\ \\left(\\begin{matrix}0.500j & -0.500j & -0.500j & 0.500j\\\\-0.500j & 0.500j & -0.500j & 0.500j\\\\-0.500j & -0.500j & 0.500j & 0.500j\\\\-0.500j & -0.500j & -0.500j & -0.500j\\\\\\end{matrix}\\right)$"
      ],
      "text/plain": [
       "Quantum object: dims = [[2, 2], [2, 2]], shape = (4, 4), type = oper, isherm = False\n",
       "Qobj data =\n",
       "[[0.+0.5j 0.-0.5j 0.-0.5j 0.+0.5j]\n",
       " [0.-0.5j 0.+0.5j 0.-0.5j 0.+0.5j]\n",
       " [0.-0.5j 0.-0.5j 0.+0.5j 0.+0.5j]\n",
       " [0.-0.5j 0.-0.5j 0.-0.5j 0.-0.5j]]"
      ]
     },
     "execution_count": 144,
     "metadata": {},
     "output_type": "execute_result"
    }
   ],
   "source": [
    "G.compile().get_operator()"
   ]
  },
  {
   "cell_type": "markdown",
   "metadata": {},
   "source": [
    "## Step 5: Execute Grover's algorithm "
   ]
  },
  {
   "cell_type": "code",
   "execution_count": 145,
   "metadata": {},
   "outputs": [],
   "source": [
    "def grover_algorithm(Pa: PulseSequence, Ofk: PulseSequence, iter=1):\n",
    "        g = PulseSequence(f\"Grover Seq -- {Pa._name} -- {Ofk._name}-- iter={iter} ::\\n\")\\\n",
    "        .add_seq(Pa)\\\n",
    "        .add_seq(H2)\\\n",
    "\n",
    "        for _ in range(iter):\n",
    "                g_op = grover_iteration(Ofk)\n",
    "                g.add_seq(g_op)\n",
    "        return g"
   ]
  },
  {
   "cell_type": "markdown",
   "metadata": {},
   "source": [
    "## 5A : O3 simulation"
   ]
  },
  {
   "cell_type": "markdown",
   "metadata": {},
   "source": [
    "### 5A.1 O3 P0 simulation"
   ]
  },
  {
   "cell_type": "code",
   "execution_count": 146,
   "metadata": {},
   "outputs": [
    {
     "name": "stdout",
     "output_type": "stream",
     "text": [
      "Grover Seq -- P0(00) -- O3-- iter=1 ::\n",
      " Pulse Sequence: Ix(pi) -> Sx(pi) -> Iy(+pi/2) -> Ix(+pi/2) -> Ix(+pi/2) -> Sy(+pi/2) -> Sx(+pi/2) -> Sx(+pi/2) -> 2IzSz(aka delay(1/2J)) -> Sy(-pi/2) -> Sx(+pi/2) -> Sy(+pi/2) -> Iy(-pi/2) -> Ix(+pi/2) -> Iy(+pi/2) -> Iy(+pi/2) -> Ix(+pi/2) -> Ix(+pi/2) -> Sy(+pi/2) -> Sx(+pi/2) -> Sx(+pi/2) -> 2IzSz(aka delay(1/2J)) -> Sy(-pi/2) -> Sx(-pi/2) -> Sy(+pi/2) -> Iy(-pi/2) -> Ix(-pi/2) -> Iy(+pi/2) -> Iy(+pi/2) -> Ix(+pi/2) -> Ix(+pi/2) -> Sy(+pi/2) -> Sx(+pi/2) -> Sx(+pi/2)"
     ]
    }
   ],
   "source": [
    "g_i1_p0_o3 = grover_algorithm(p0_00, O3)\n",
    "g_i1_p0_o3.print_sequence()"
   ]
  },
  {
   "cell_type": "code",
   "execution_count": 147,
   "metadata": {},
   "outputs": [
    {
     "data": {
      "text/latex": [
       "Quantum object: dims = [[2, 2], [2, 2]], shape = (4, 4), type = oper, isherm = True $ \\\\ \\left(\\begin{matrix}1.0 & 0.0 & 0.0 & 0.0\\\\0.0 & -0.600 & 0.0 & 0.0\\\\0.0 & 0.0 & 0.600 & 0.0\\\\0.0 & 0.0 & 0.0 & -1.000\\\\\\end{matrix}\\right)$"
      ],
      "text/plain": [
       "Quantum object: dims = [[2, 2], [2, 2]], shape = (4, 4), type = oper, isherm = True\n",
       "Qobj data =\n",
       "[[ 1.   0.   0.   0. ]\n",
       " [ 0.  -0.6  0.   0. ]\n",
       " [ 0.   0.   0.6  0. ]\n",
       " [ 0.   0.   0.  -1. ]]"
      ]
     },
     "execution_count": 147,
     "metadata": {},
     "output_type": "execute_result"
    }
   ],
   "source": [
    "g_i1_p0_o3_pho = g_i1_p0_o3.compile().evolve_pho(pho_th)\n",
    "g_i1_p0_o3_pho.rho"
   ]
  },
  {
   "cell_type": "code",
   "execution_count": 148,
   "metadata": {},
   "outputs": [
    {
     "name": "stdout",
     "output_type": "stream",
     "text": [
      "Grover Algorithm :: P0 sim for O3 1 iteration\n",
      "H spectrum\n",
      "Peak1 at 4.74 ppm with integral=(0.4+0j)\n",
      "Peak2 at 8.18 ppm with integral=(0.4+0j)\n",
      "C spectrum\n",
      "Peak1 @ 66.48 ppm with integral=(1.6+0j)\n",
      "Peak2 @ 80.19 ppm with integral=(1.6+0j)\n"
     ]
    }
   ],
   "source": [
    "print(\"Grover Algorithm :: P0 sim for O3 1 iteration\")\n",
    "g_i1_p0_o3_pho.h_spectrum()\n",
    "g_i1_p0_o3_pho.c_spectrum()\n"
   ]
  },
  {
   "cell_type": "markdown",
   "metadata": {},
   "source": [
    "### 5A.2 O3 P1 simulation"
   ]
  },
  {
   "cell_type": "code",
   "execution_count": 149,
   "metadata": {},
   "outputs": [
    {
     "name": "stdout",
     "output_type": "stream",
     "text": [
      "Grover Seq -- P1(00) -- O3-- iter=1 ::\n",
      " Pulse Sequence: Sx(+pi/2) -> 2IzSz(aka delay(1/2J)) -> Sy(+pi/2) -> Ix(+pi/2) -> 2IzSz(aka delay(1/2J)) -> Iy(+pi/2) -> Ix(pi) -> Sx(pi) -> Iy(+pi/2) -> Ix(+pi/2) -> Ix(+pi/2) -> Sy(+pi/2) -> Sx(+pi/2) -> Sx(+pi/2) -> 2IzSz(aka delay(1/2J)) -> Sy(-pi/2) -> Sx(+pi/2) -> Sy(+pi/2) -> Iy(-pi/2) -> Ix(+pi/2) -> Iy(+pi/2) -> Iy(+pi/2) -> Ix(+pi/2) -> Ix(+pi/2) -> Sy(+pi/2) -> Sx(+pi/2) -> Sx(+pi/2) -> 2IzSz(aka delay(1/2J)) -> Sy(-pi/2) -> Sx(-pi/2) -> Sy(+pi/2) -> Iy(-pi/2) -> Ix(-pi/2) -> Iy(+pi/2) -> Iy(+pi/2) -> Ix(+pi/2) -> Ix(+pi/2) -> Sy(+pi/2) -> Sx(+pi/2) -> Sx(+pi/2)"
     ]
    }
   ],
   "source": [
    "g_i1_p1_o3 = grover_algorithm(p1_00, O3)\n",
    "g_i1_p1_o3.print_sequence()"
   ]
  },
  {
   "cell_type": "code",
   "execution_count": 150,
   "metadata": {},
   "outputs": [
    {
     "data": {
      "text/latex": [
       "Quantum object: dims = [[2, 2], [2, 2]], shape = (4, 4), type = oper, isherm = True $ \\\\ \\left(\\begin{matrix}-0.600 & 0.0 & 0.0 & 0.0\\\\0.0 & 0.600 & 0.0 & 0.0\\\\0.0 & 0.0 & 1.000 & 0.0\\\\0.0 & 0.0 & 0.0 & -1.000\\\\\\end{matrix}\\right)$"
      ],
      "text/plain": [
       "Quantum object: dims = [[2, 2], [2, 2]], shape = (4, 4), type = oper, isherm = True\n",
       "Qobj data =\n",
       "[[-0.6  0.   0.   0. ]\n",
       " [ 0.   0.6  0.   0. ]\n",
       " [ 0.   0.   1.   0. ]\n",
       " [ 0.   0.   0.  -1. ]]"
      ]
     },
     "execution_count": 150,
     "metadata": {},
     "output_type": "execute_result"
    }
   ],
   "source": [
    "g_i1_p1_o3_pho = g_i1_p1_o3.compile().evolve_pho(pho_th)\n",
    "g_i1_p1_o3_pho.rho"
   ]
  },
  {
   "cell_type": "code",
   "execution_count": 151,
   "metadata": {},
   "outputs": [
    {
     "name": "stdout",
     "output_type": "stream",
     "text": [
      "Grover Algorithm :: P1 sim for O3 1 iteration\n",
      "H spectrum\n",
      "Peak1 at 4.74 ppm with integral=(-1.6+0j)\n",
      "Peak2 at 8.18 ppm with integral=(1.6+0j)\n",
      "C spectrum\n",
      "Peak1 @ 66.48 ppm with integral=(-1.2+0j)\n",
      "Peak2 @ 80.19 ppm with integral=(2+0j)\n"
     ]
    }
   ],
   "source": [
    "print(\"Grover Algorithm :: P1 sim for O3 1 iteration\")\n",
    "g_i1_p1_o3_pho.h_spectrum()\n",
    "g_i1_p1_o3_pho.c_spectrum()\n"
   ]
  },
  {
   "cell_type": "markdown",
   "metadata": {},
   "source": [
    "### 5A.3 O3 P2 simulation"
   ]
  },
  {
   "cell_type": "code",
   "execution_count": 152,
   "metadata": {},
   "outputs": [
    {
     "name": "stdout",
     "output_type": "stream",
     "text": [
      "Grover Seq -- P2(00) -- O3-- iter=1 ::\n",
      " Pulse Sequence: Ix(+pi/2) -> 2IzSz(aka delay(1/2J)) -> Sx(+pi/2) -> Iy(+pi/2) -> 2IzSz(aka delay(1/2J)) -> Sy(+pi/2) -> Ix(pi) -> Sx(pi) -> Iy(+pi/2) -> Ix(+pi/2) -> Ix(+pi/2) -> Sy(+pi/2) -> Sx(+pi/2) -> Sx(+pi/2) -> 2IzSz(aka delay(1/2J)) -> Sy(-pi/2) -> Sx(+pi/2) -> Sy(+pi/2) -> Iy(-pi/2) -> Ix(+pi/2) -> Iy(+pi/2) -> Iy(+pi/2) -> Ix(+pi/2) -> Ix(+pi/2) -> Sy(+pi/2) -> Sx(+pi/2) -> Sx(+pi/2) -> 2IzSz(aka delay(1/2J)) -> Sy(-pi/2) -> Sx(-pi/2) -> Sy(+pi/2) -> Iy(-pi/2) -> Ix(-pi/2) -> Iy(+pi/2) -> Iy(+pi/2) -> Ix(+pi/2) -> Ix(+pi/2) -> Sy(+pi/2) -> Sx(+pi/2) -> Sx(+pi/2)"
     ]
    }
   ],
   "source": [
    "g_i1_p2_o3 = grover_algorithm(p2_00, O3)\n",
    "g_i1_p2_o3.print_sequence()"
   ]
  },
  {
   "cell_type": "code",
   "execution_count": 153,
   "metadata": {},
   "outputs": [
    {
     "data": {
      "text/latex": [
       "Quantum object: dims = [[2, 2], [2, 2]], shape = (4, 4), type = oper, isherm = True $ \\\\ \\left(\\begin{matrix}0.600 & 0.0 & 0.0 & 0.0\\\\0.0 & 1.000 & 0.0 & 0.0\\\\0.0 & 0.0 & -0.600 & 0.0\\\\0.0 & 0.0 & 0.0 & -1.000\\\\\\end{matrix}\\right)$"
      ],
      "text/plain": [
       "Quantum object: dims = [[2, 2], [2, 2]], shape = (4, 4), type = oper, isherm = True\n",
       "Qobj data =\n",
       "[[ 0.6  0.   0.   0. ]\n",
       " [ 0.   1.   0.   0. ]\n",
       " [ 0.   0.  -0.6  0. ]\n",
       " [ 0.   0.   0.  -1. ]]"
      ]
     },
     "execution_count": 153,
     "metadata": {},
     "output_type": "execute_result"
    }
   ],
   "source": [
    "g_i1_p2_o3_pho = g_i1_p2_o3.compile().evolve_pho(pho_th)\n",
    "g_i1_p2_o3_pho.rho"
   ]
  },
  {
   "cell_type": "code",
   "execution_count": 154,
   "metadata": {},
   "outputs": [
    {
     "name": "stdout",
     "output_type": "stream",
     "text": [
      "Grover Algorithm :: P2 sim for O3 1 iteration\n",
      "H spectrum\n",
      "Peak1 at 4.74 ppm with integral=(1.2+0j)\n",
      "Peak2 at 8.18 ppm with integral=(2+0j)\n",
      "C spectrum\n",
      "Peak1 @ 66.48 ppm with integral=(-0.4+0j)\n",
      "Peak2 @ 80.19 ppm with integral=(0.4+0j)\n"
     ]
    }
   ],
   "source": [
    "print(\"Grover Algorithm :: P2 sim for O3 1 iteration\")\n",
    "g_i1_p2_o3_pho.h_spectrum()\n",
    "g_i1_p2_o3_pho.c_spectrum()\n"
   ]
  },
  {
   "cell_type": "markdown",
   "metadata": {},
   "source": [
    "### 5A.4 : Temp Averaging :: Grover algorithm O3, 1 iteration "
   ]
  },
  {
   "cell_type": "code",
   "execution_count": 155,
   "metadata": {},
   "outputs": [
    {
     "data": {
      "text/latex": [
       "Quantum object: dims = [[2, 2], [2, 2]], shape = (4, 4), type = oper, isherm = True $ \\\\ \\left(\\begin{matrix}0.333 & 0.0 & 0.0 & 0.0\\\\0.0 & 0.333 & 0.0 & 0.0\\\\0.0 & 0.0 & 0.333 & 0.0\\\\0.0 & 0.0 & 0.0 & -1.000\\\\\\end{matrix}\\right)$"
      ],
      "text/plain": [
       "Quantum object: dims = [[2, 2], [2, 2]], shape = (4, 4), type = oper, isherm = True\n",
       "Qobj data =\n",
       "[[ 0.33333333  0.          0.          0.        ]\n",
       " [ 0.          0.33333333  0.          0.        ]\n",
       " [ 0.          0.          0.33333333  0.        ]\n",
       " [ 0.          0.          0.         -1.        ]]"
      ]
     },
     "execution_count": 155,
     "metadata": {},
     "output_type": "execute_result"
    }
   ],
   "source": [
    "(g_i1_p0_o3_pho.rho + g_i1_p1_o3_pho.rho + g_i1_p2_o3_pho.rho ) / 3"
   ]
  },
  {
   "cell_type": "markdown",
   "metadata": {},
   "source": [
    "Clearly, this is $|11\\rangle$ state."
   ]
  }
 ],
 "metadata": {
  "kernelspec": {
   "display_name": "Python 3 (ipykernel)",
   "language": "python",
   "name": "python3"
  },
  "language_info": {
   "codemirror_mode": {
    "name": "ipython",
    "version": 3
   },
   "file_extension": ".py",
   "mimetype": "text/x-python",
   "name": "python",
   "nbconvert_exporter": "python",
   "pygments_lexer": "ipython3",
   "version": "3.11.5"
  }
 },
 "nbformat": 4,
 "nbformat_minor": 2
}
