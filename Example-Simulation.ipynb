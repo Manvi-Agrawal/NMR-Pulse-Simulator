{
 "cells": [
  {
   "cell_type": "code",
   "execution_count": 1,
   "metadata": {},
   "outputs": [],
   "source": [
    "import numpy as np\n",
    "import qutip as qt\n",
    "import qutip.qip.operations as op\n",
    "from scipy.linalg import expm\n",
    "\n",
    "from PulseSequence import PulseSequence\n",
    "from Pulse import Pulse"
   ]
  },
  {
   "cell_type": "markdown",
   "metadata": {},
   "source": [
    "### Thermal density matrix"
   ]
  },
  {
   "cell_type": "code",
   "execution_count": 2,
   "metadata": {},
   "outputs": [
    {
     "data": {
      "text/latex": [
       "Quantum object: dims = [[2, 2], [2, 2]], shape = (4, 4), type = oper, isherm = True $ \\\\ \\left(\\begin{matrix}1.0 & 0.0 & 0.0 & 0.0\\\\0.0 & 0.600 & 0.0 & 0.0\\\\0.0 & 0.0 & -0.600 & 0.0\\\\0.0 & 0.0 & 0.0 & -1.0\\\\\\end{matrix}\\right)$"
      ],
      "text/plain": [
       "Quantum object: dims = [[2, 2], [2, 2]], shape = (4, 4), type = oper, isherm = True\n",
       "Qobj data =\n",
       "[[ 1.   0.   0.   0. ]\n",
       " [ 0.   0.6  0.   0. ]\n",
       " [ 0.   0.  -0.6  0. ]\n",
       " [ 0.   0.   0.  -1. ]]"
      ]
     },
     "execution_count": 2,
     "metadata": {},
     "output_type": "execute_result"
    }
   ],
   "source": [
    "pho_th = qt.Qobj(np.diag([1, 0.6, -0.6, -1]), dims=([[2, 2], [2, 2]]))\n",
    "pho_th"
   ]
  },
  {
   "cell_type": "markdown",
   "metadata": {},
   "source": [
    "# OPERATORS"
   ]
  },
  {
   "cell_type": "code",
   "execution_count": 3,
   "metadata": {},
   "outputs": [],
   "source": [
    "x = qt.sigmax()*0.5\n",
    "y = qt.sigmay()*0.5\n",
    "z = qt.sigmaz()*0.5\n",
    "I = qt.qeye(2)"
   ]
  },
  {
   "cell_type": "code",
   "execution_count": 4,
   "metadata": {},
   "outputs": [],
   "source": [
    "Ix = qt.tensor(x, I)\n",
    "Iy = qt.tensor(y, I)\n",
    "Iz = qt.tensor(z, I)"
   ]
  },
  {
   "cell_type": "code",
   "execution_count": 5,
   "metadata": {},
   "outputs": [],
   "source": [
    "Sx = qt.tensor(I, x)\n",
    "Sy = qt.tensor(I, y)\n",
    "Sz = qt.tensor(I, z)"
   ]
  },
  {
   "cell_type": "code",
   "execution_count": 6,
   "metadata": {},
   "outputs": [],
   "source": [
    "J = 215\n",
    "tJ = 1/(2*J)\n",
    "IzSz = qt.tensor(z, z)"
   ]
  },
  {
   "cell_type": "code",
   "execution_count": 7,
   "metadata": {},
   "outputs": [
    {
     "data": {
      "text/latex": [
       "Quantum object: dims = [[2, 2], [2, 2]], shape = (4, 4), type = oper, isherm = False $ \\\\ \\left(\\begin{matrix}(0.707-0.707j) & 0.0 & 0.0 & 0.0\\\\0.0 & (0.707+0.707j) & 0.0 & 0.0\\\\0.0 & 0.0 & (0.707+0.707j) & 0.0\\\\0.0 & 0.0 & 0.0 & (0.707-0.707j)\\\\\\end{matrix}\\right)$"
      ],
      "text/plain": [
       "Quantum object: dims = [[2, 2], [2, 2]], shape = (4, 4), type = oper, isherm = False\n",
       "Qobj data =\n",
       "[[0.70710678-0.70710678j 0.        +0.j         0.        +0.j\n",
       "  0.        +0.j        ]\n",
       " [0.        +0.j         0.70710678+0.70710678j 0.        +0.j\n",
       "  0.        +0.j        ]\n",
       " [0.        +0.j         0.        +0.j         0.70710678+0.70710678j\n",
       "  0.        +0.j        ]\n",
       " [0.        +0.j         0.        +0.j         0.        +0.j\n",
       "  0.70710678-0.70710678j]]"
      ]
     },
     "execution_count": 7,
     "metadata": {},
     "output_type": "execute_result"
    }
   ],
   "source": [
    "Pulse(\"+2IzSz\", IzSz, (2*np.pi*J)*(tJ) ).apply()"
   ]
  },
  {
   "cell_type": "code",
   "execution_count": 8,
   "metadata": {},
   "outputs": [
    {
     "data": {
      "text/latex": [
       "Quantum object: dims = [[2, 2], [2, 2]], shape = (4, 4), type = oper, isherm = False $ \\\\ \\left(\\begin{matrix}(-0.707-0.707j) & 0.0 & 0.0 & 0.0\\\\0.0 & (-0.707+0.707j) & 0.0 & 0.0\\\\0.0 & 0.0 & (-0.707+0.707j) & 0.0\\\\0.0 & 0.0 & 0.0 & (-0.707-0.707j)\\\\\\end{matrix}\\right)$"
      ],
      "text/plain": [
       "Quantum object: dims = [[2, 2], [2, 2]], shape = (4, 4), type = oper, isherm = False\n",
       "Qobj data =\n",
       "[[-0.70710678-0.70710678j  0.        +0.j          0.        +0.j\n",
       "   0.        +0.j        ]\n",
       " [ 0.        +0.j         -0.70710678+0.70710678j  0.        +0.j\n",
       "   0.        +0.j        ]\n",
       " [ 0.        +0.j          0.        +0.j         -0.70710678+0.70710678j\n",
       "   0.        +0.j        ]\n",
       " [ 0.        +0.j          0.        +0.j          0.        +0.j\n",
       "  -0.70710678-0.70710678j]]"
      ]
     },
     "execution_count": 8,
     "metadata": {},
     "output_type": "execute_result"
    }
   ],
   "source": [
    "# Delay for negative J coupling = 3*tJ; accurate upto global phase\n",
    "Pulse(\"-2IzSz\", IzSz, (2*np.pi*J)*(3*tJ) ).apply()"
   ]
  },
  {
   "cell_type": "markdown",
   "metadata": {},
   "source": [
    "We cant implement an $I_z/S_z$ pulse directly.  \n",
    "Use $ R_z(\\theta) = R_x(-\\pi/2).R_y(\\theta).R_x(\\pi/2)$ "
   ]
  },
  {
   "cell_type": "code",
   "execution_count": 9,
   "metadata": {},
   "outputs": [],
   "source": [
    "def Iz_pulse(theta):\n",
    "    return PulseSequence(\"Iz(theta)\")\\\n",
    "        .add(Pulse(\"Ix(-pi/2)\", Ix, -np.pi/2))\\\n",
    "        .add(Pulse(f\"Iy({theta/np.pi}*pi)\", Iy, theta))\\\n",
    "        .add(Pulse(\"Ix(pi/2)\", Ix, np.pi/2))"
   ]
  },
  {
   "cell_type": "code",
   "execution_count": 10,
   "metadata": {},
   "outputs": [
    {
     "data": {
      "text/latex": [
       "Quantum object: dims = [[2, 2], [2, 2]], shape = (4, 4), type = oper, isherm = False $ \\\\ \\left(\\begin{matrix}(0.707-0.707j) & 0.0 & 0.0 & 0.0\\\\0.0 & (0.707-0.707j) & 0.0 & 0.0\\\\0.0 & 0.0 & (0.707+0.707j) & 0.0\\\\0.0 & 0.0 & 0.0 & (0.707+0.707j)\\\\\\end{matrix}\\right)$"
      ],
      "text/plain": [
       "Quantum object: dims = [[2, 2], [2, 2]], shape = (4, 4), type = oper, isherm = False\n",
       "Qobj data =\n",
       "[[0.70710678-0.70710678j 0.        +0.j         0.        +0.j\n",
       "  0.        +0.j        ]\n",
       " [0.        +0.j         0.70710678-0.70710678j 0.        +0.j\n",
       "  0.        +0.j        ]\n",
       " [0.        +0.j         0.        +0.j         0.70710678+0.70710678j\n",
       "  0.        +0.j        ]\n",
       " [0.        +0.j         0.        +0.j         0.        +0.j\n",
       "  0.70710678+0.70710678j]]"
      ]
     },
     "execution_count": 10,
     "metadata": {},
     "output_type": "execute_result"
    }
   ],
   "source": [
    "Iz_pulse(np.pi/2).compile().get_operator()"
   ]
  },
  {
   "cell_type": "code",
   "execution_count": 11,
   "metadata": {},
   "outputs": [
    {
     "data": {
      "text/latex": [
       "Quantum object: dims = [[2, 2], [2, 2]], shape = (4, 4), type = oper, isherm = False $ \\\\ \\left(\\begin{matrix}(0.707-0.707j) & 0.0 & 0.0 & 0.0\\\\0.0 & (0.707-0.707j) & 0.0 & 0.0\\\\0.0 & 0.0 & (0.707+0.707j) & 0.0\\\\0.0 & 0.0 & 0.0 & (0.707+0.707j)\\\\\\end{matrix}\\right)$"
      ],
      "text/plain": [
       "Quantum object: dims = [[2, 2], [2, 2]], shape = (4, 4), type = oper, isherm = False\n",
       "Qobj data =\n",
       "[[0.70710678-0.70710678j 0.        +0.j         0.        +0.j\n",
       "  0.        +0.j        ]\n",
       " [0.        +0.j         0.70710678-0.70710678j 0.        +0.j\n",
       "  0.        +0.j        ]\n",
       " [0.        +0.j         0.        +0.j         0.70710678+0.70710678j\n",
       "  0.        +0.j        ]\n",
       " [0.        +0.j         0.        +0.j         0.        +0.j\n",
       "  0.70710678+0.70710678j]]"
      ]
     },
     "execution_count": 11,
     "metadata": {},
     "output_type": "execute_result"
    }
   ],
   "source": [
    "(-1j*np.pi/2*Iz).expm()"
   ]
  },
  {
   "cell_type": "markdown",
   "metadata": {},
   "source": [
    "Verified that $R_x(-\\pi/2).R_y(\\pi/2).R_x(\\pi/2) = R_z(\\pi/2)$ "
   ]
  },
  {
   "cell_type": "code",
   "execution_count": 12,
   "metadata": {},
   "outputs": [
    {
     "data": {
      "text/latex": [
       "Quantum object: dims = [[2, 2], [2, 2]], shape = (4, 4), type = oper, isherm = False $ \\\\ \\left(\\begin{matrix}(0.707+0.707j) & 0.0 & 0.0 & 0.0\\\\0.0 & (0.707+0.707j) & 0.0 & 0.0\\\\0.0 & 0.0 & (0.707-0.707j) & 0.0\\\\0.0 & 0.0 & 0.0 & (0.707-0.707j)\\\\\\end{matrix}\\right)$"
      ],
      "text/plain": [
       "Quantum object: dims = [[2, 2], [2, 2]], shape = (4, 4), type = oper, isherm = False\n",
       "Qobj data =\n",
       "[[0.70710678+0.70710678j 0.        +0.j         0.        +0.j\n",
       "  0.        +0.j        ]\n",
       " [0.        +0.j         0.70710678+0.70710678j 0.        +0.j\n",
       "  0.        +0.j        ]\n",
       " [0.        +0.j         0.        +0.j         0.70710678-0.70710678j\n",
       "  0.        +0.j        ]\n",
       " [0.        +0.j         0.        +0.j         0.        +0.j\n",
       "  0.70710678-0.70710678j]]"
      ]
     },
     "execution_count": 12,
     "metadata": {},
     "output_type": "execute_result"
    }
   ],
   "source": [
    "Iz_pulse(-np.pi/2).compile().get_operator()"
   ]
  },
  {
   "cell_type": "code",
   "execution_count": 13,
   "metadata": {},
   "outputs": [
    {
     "data": {
      "text/latex": [
       "Quantum object: dims = [[2, 2], [2, 2]], shape = (4, 4), type = oper, isherm = False $ \\\\ \\left(\\begin{matrix}(0.707+0.707j) & 0.0 & 0.0 & 0.0\\\\0.0 & (0.707+0.707j) & 0.0 & 0.0\\\\0.0 & 0.0 & (0.707-0.707j) & 0.0\\\\0.0 & 0.0 & 0.0 & (0.707-0.707j)\\\\\\end{matrix}\\right)$"
      ],
      "text/plain": [
       "Quantum object: dims = [[2, 2], [2, 2]], shape = (4, 4), type = oper, isherm = False\n",
       "Qobj data =\n",
       "[[0.70710678+0.70710678j 0.        +0.j         0.        +0.j\n",
       "  0.        +0.j        ]\n",
       " [0.        +0.j         0.70710678+0.70710678j 0.        +0.j\n",
       "  0.        +0.j        ]\n",
       " [0.        +0.j         0.        +0.j         0.70710678-0.70710678j\n",
       "  0.        +0.j        ]\n",
       " [0.        +0.j         0.        +0.j         0.        +0.j\n",
       "  0.70710678-0.70710678j]]"
      ]
     },
     "execution_count": 13,
     "metadata": {},
     "output_type": "execute_result"
    }
   ],
   "source": [
    "(+1j*np.pi/2*Iz).expm()"
   ]
  },
  {
   "cell_type": "markdown",
   "metadata": {},
   "source": [
    "Verified that $R_x(-\\pi/2).R_y(-\\pi/2).R_x(\\pi/2) = R_z(-\\pi/2)$ "
   ]
  },
  {
   "cell_type": "code",
   "execution_count": 14,
   "metadata": {},
   "outputs": [],
   "source": [
    "def Sz_pulse(theta):\n",
    "    return PulseSequence(\"Sz(theta)\")\\\n",
    "        .add(Pulse(\"Sx(-pi/2)\", Sx, -np.pi/2))\\\n",
    "        .add(Pulse(f\"Sy({theta/np.pi}*pi)\", Sy, theta))\\\n",
    "        .add(Pulse(\"Sx(pi/2)\", Sx, np.pi/2))"
   ]
  },
  {
   "cell_type": "code",
   "execution_count": 15,
   "metadata": {},
   "outputs": [
    {
     "data": {
      "text/latex": [
       "Quantum object: dims = [[2, 2], [2, 2]], shape = (4, 4), type = oper, isherm = False $ \\\\ \\left(\\begin{matrix}(0.707-0.707j) & 0.0 & 0.0 & 0.0\\\\0.0 & (0.707+0.707j) & 0.0 & 0.0\\\\0.0 & 0.0 & (0.707-0.707j) & 0.0\\\\0.0 & 0.0 & 0.0 & (0.707+0.707j)\\\\\\end{matrix}\\right)$"
      ],
      "text/plain": [
       "Quantum object: dims = [[2, 2], [2, 2]], shape = (4, 4), type = oper, isherm = False\n",
       "Qobj data =\n",
       "[[0.70710678-0.70710678j 0.        +0.j         0.        +0.j\n",
       "  0.        +0.j        ]\n",
       " [0.        +0.j         0.70710678+0.70710678j 0.        +0.j\n",
       "  0.        +0.j        ]\n",
       " [0.        +0.j         0.        +0.j         0.70710678-0.70710678j\n",
       "  0.        +0.j        ]\n",
       " [0.        +0.j         0.        +0.j         0.        +0.j\n",
       "  0.70710678+0.70710678j]]"
      ]
     },
     "execution_count": 15,
     "metadata": {},
     "output_type": "execute_result"
    }
   ],
   "source": [
    "Sz_pulse(np.pi/2).compile().get_operator()"
   ]
  },
  {
   "cell_type": "code",
   "execution_count": 16,
   "metadata": {},
   "outputs": [
    {
     "name": "stdout",
     "output_type": "stream",
     "text": [
      "Sz(theta) Pulse Sequence: Sx(-pi/2) -> Sy(0.5*pi) -> Sx(pi/2)"
     ]
    }
   ],
   "source": [
    "Sz_pulse(np.pi/2).print_sequence()"
   ]
  },
  {
   "cell_type": "code",
   "execution_count": 17,
   "metadata": {},
   "outputs": [
    {
     "data": {
      "text/latex": [
       "Quantum object: dims = [[2, 2], [2, 2]], shape = (4, 4), type = oper, isherm = False $ \\\\ \\left(\\begin{matrix}(0.707+0.707j) & 0.0 & 0.0 & 0.0\\\\0.0 & (0.707-0.707j) & 0.0 & 0.0\\\\0.0 & 0.0 & (0.707+0.707j) & 0.0\\\\0.0 & 0.0 & 0.0 & (0.707-0.707j)\\\\\\end{matrix}\\right)$"
      ],
      "text/plain": [
       "Quantum object: dims = [[2, 2], [2, 2]], shape = (4, 4), type = oper, isherm = False\n",
       "Qobj data =\n",
       "[[0.70710678+0.70710678j 0.        +0.j         0.        +0.j\n",
       "  0.        +0.j        ]\n",
       " [0.        +0.j         0.70710678-0.70710678j 0.        +0.j\n",
       "  0.        +0.j        ]\n",
       " [0.        +0.j         0.        +0.j         0.70710678+0.70710678j\n",
       "  0.        +0.j        ]\n",
       " [0.        +0.j         0.        +0.j         0.        +0.j\n",
       "  0.70710678-0.70710678j]]"
      ]
     },
     "execution_count": 17,
     "metadata": {},
     "output_type": "execute_result"
    }
   ],
   "source": [
    "Sz_pulse(-np.pi/2).compile().get_operator()"
   ]
  },
  {
   "cell_type": "code",
   "execution_count": 18,
   "metadata": {},
   "outputs": [
    {
     "name": "stdout",
     "output_type": "stream",
     "text": [
      "Sz(theta) Pulse Sequence: Sx(-pi/2) -> Sy(-0.5*pi) -> Sx(pi/2)"
     ]
    }
   ],
   "source": [
    "Sz_pulse(-np.pi/2).print_sequence()"
   ]
  },
  {
   "cell_type": "markdown",
   "metadata": {},
   "source": [
    "# Sample Gates"
   ]
  },
  {
   "cell_type": "markdown",
   "metadata": {},
   "source": [
    "### Two Qubit Controlled Z"
   ]
  },
  {
   "cell_type": "code",
   "execution_count": 19,
   "metadata": {},
   "outputs": [],
   "source": [
    "cz_p = PulseSequence(\"CZ\")\\\n",
    "    .add_seq(Iz_pulse(np.pi/2))\\\n",
    "    .add_seq(Sz_pulse(np.pi/2))\\\n",
    "    .add(Pulse(\"-2IzSz(aka delay(3/2J))\", IzSz, 3*np.pi))"
   ]
  },
  {
   "cell_type": "code",
   "execution_count": 20,
   "metadata": {},
   "outputs": [
    {
     "name": "stdout",
     "output_type": "stream",
     "text": [
      "CZ multiplied by phase factor:\n"
     ]
    },
    {
     "data": {
      "text/latex": [
       "Quantum object: dims = [[2, 2], [2, 2]], shape = (4, 4), type = oper, isherm = True $ \\\\ \\left(\\begin{matrix}-1.000 & 0.0 & 0.0 & 0.0\\\\0.0 & -1.0 & 0.0 & 0.0\\\\0.0 & 0.0 & -1.0 & 0.0\\\\0.0 & 0.0 & 0.0 & 1.0\\\\\\end{matrix}\\right)$"
      ],
      "text/plain": [
       "Quantum object: dims = [[2, 2], [2, 2]], shape = (4, 4), type = oper, isherm = True\n",
       "Qobj data =\n",
       "[[-1.  0.  0.  0.]\n",
       " [ 0. -1.  0.  0.]\n",
       " [ 0.  0. -1.  0.]\n",
       " [ 0.  0.  0.  1.]]"
      ]
     },
     "execution_count": 20,
     "metadata": {},
     "output_type": "execute_result"
    }
   ],
   "source": [
    "print(f\"CZ multiplied by phase factor:\")\n",
    "np.exp(1j*np.pi/4)*cz_p.compile().get_operator()"
   ]
  },
  {
   "cell_type": "code",
   "execution_count": 21,
   "metadata": {},
   "outputs": [
    {
     "name": "stdout",
     "output_type": "stream",
     "text": [
      "CZ Pulse Sequence: Ix(-pi/2) -> Iy(0.5*pi) -> Ix(pi/2) -> Sx(-pi/2) -> Sy(0.5*pi) -> Sx(pi/2) -> -2IzSz(aka delay(3/2J))"
     ]
    }
   ],
   "source": [
    "cz_p.print_sequence()"
   ]
  },
  {
   "cell_type": "markdown",
   "metadata": {},
   "source": [
    "### Two Qubit Near-CNOT"
   ]
  },
  {
   "cell_type": "code",
   "execution_count": 22,
   "metadata": {},
   "outputs": [],
   "source": [
    "ncx = PulseSequence(\"Near CNOT\")\\\n",
    "    .add(Pulse(\"Sx(pi/2)\", Sx, np.pi/2))\\\n",
    "    .add(Pulse(\"2IzSz(aka delay(1/2J))\", IzSz, np.pi))\\\n",
    "    .add(Pulse(\"Sy(-pi/2)\", Sy, -np.pi/2))"
   ]
  },
  {
   "cell_type": "code",
   "execution_count": 23,
   "metadata": {},
   "outputs": [
    {
     "name": "stdout",
     "output_type": "stream",
     "text": [
      "Near CX multiplied by phase factor: \n"
     ]
    },
    {
     "data": {
      "text/latex": [
       "Quantum object: dims = [[2, 2], [2, 2]], shape = (4, 4), type = oper, isherm = False $ \\\\ \\left(\\begin{matrix}-1.0j & 0.0 & 0.0 & 0.0\\\\0.0 & 1.0 & 0.0 & 0.0\\\\0.0 & 0.0 & 0.0 & -1.0j\\\\0.0 & 0.0 & -1.0 & 0.0\\\\\\end{matrix}\\right)$"
      ],
      "text/plain": [
       "Quantum object: dims = [[2, 2], [2, 2]], shape = (4, 4), type = oper, isherm = False\n",
       "Qobj data =\n",
       "[[ 0.-1.j  0.+0.j  0.+0.j  0.+0.j]\n",
       " [ 0.+0.j  1.+0.j  0.+0.j  0.+0.j]\n",
       " [ 0.+0.j  0.+0.j  0.+0.j  0.-1.j]\n",
       " [ 0.+0.j  0.+0.j -1.+0.j  0.+0.j]]"
      ]
     },
     "execution_count": 23,
     "metadata": {},
     "output_type": "execute_result"
    }
   ],
   "source": [
    "print(f\"Near CX multiplied by phase factor: \")\n",
    "np.exp(-1j*np.pi/4)*ncx.compile().get_operator()"
   ]
  },
  {
   "cell_type": "code",
   "execution_count": 24,
   "metadata": {},
   "outputs": [
    {
     "name": "stdout",
     "output_type": "stream",
     "text": [
      "Near CNOT Pulse Sequence: Sx(pi/2) -> 2IzSz(aka delay(1/2J)) -> Sy(-pi/2)"
     ]
    }
   ],
   "source": [
    "ncx.print_sequence()"
   ]
  },
  {
   "cell_type": "code",
   "execution_count": 25,
   "metadata": {},
   "outputs": [
    {
     "data": {
      "text/latex": [
       "Quantum object: dims = [[2, 2], [2, 2]], shape = (4, 4), type = oper, isherm = True $ \\\\ \\left(\\begin{matrix}1.000 & 0.0 & 0.0 & 0.0\\\\0.0 & 0.600 & 0.0 & 0.0\\\\0.0 & 0.0 & -1.000 & 0.0\\\\0.0 & 0.0 & 0.0 & -0.600\\\\\\end{matrix}\\right)$"
      ],
      "text/plain": [
       "Quantum object: dims = [[2, 2], [2, 2]], shape = (4, 4), type = oper, isherm = True\n",
       "Qobj data =\n",
       "[[ 1.   0.   0.   0. ]\n",
       " [ 0.   0.6  0.   0. ]\n",
       " [ 0.   0.  -1.   0. ]\n",
       " [ 0.   0.   0.  -0.6]]"
      ]
     },
     "execution_count": 25,
     "metadata": {},
     "output_type": "execute_result"
    }
   ],
   "source": [
    "ncx_rho_th = ncx.compile().evolve_pho(pho_th)\n",
    "ncx_rho_th.rho"
   ]
  },
  {
   "cell_type": "code",
   "execution_count": 26,
   "metadata": {},
   "outputs": [
    {
     "name": "stdout",
     "output_type": "stream",
     "text": [
      "H spectrum\n",
      "Peak1 at 4.7364 ppm with integral=(2+0j)\n",
      "Peak2 at 8.1836 ppm with integral=(1.2+0j)\n",
      "C spectrum\n",
      "Peak1 @ 66.4751 ppm with integral=0j\n",
      "Peak2 @ 80.1869 ppm with integral=(-0+0j)\n"
     ]
    }
   ],
   "source": [
    "ncx_rho_th.h_spectrum()\n",
    "ncx_rho_th.c_spectrum()"
   ]
  },
  {
   "cell_type": "markdown",
   "metadata": {},
   "source": []
  }
 ],
 "metadata": {
  "kernelspec": {
   "display_name": "pandoc-env",
   "language": "python",
   "name": "python3"
  },
  "language_info": {
   "codemirror_mode": {
    "name": "ipython",
    "version": 3
   },
   "file_extension": ".py",
   "mimetype": "text/x-python",
   "name": "python",
   "nbconvert_exporter": "python",
   "pygments_lexer": "ipython3",
   "version": "3.11.5"
  }
 },
 "nbformat": 4,
 "nbformat_minor": 2
}
